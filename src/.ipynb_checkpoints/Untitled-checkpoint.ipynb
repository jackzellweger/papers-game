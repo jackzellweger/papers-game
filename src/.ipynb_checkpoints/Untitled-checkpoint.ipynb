{
 "cells": [
  {
   "cell_type": "code",
   "execution_count": null,
   "id": "23a8d65e-039f-4b34-a212-7ea22048d380",
   "metadata": {},
   "outputs": [],
   "source": [
    "import os\n",
    "import sys\n",
    "import math\n",
    "import random\n",
    "import time\n",
    "import datetime\n",
    "import json\n",
    "import re\n",
    "import statistics\n",
    "import collections"
   ]
  },
  {
   "cell_type": "code",
   "execution_count": 23,
   "id": "09861328-6a64-4680-a34c-2b6964a59aea",
   "metadata": {},
   "outputs": [],
   "source": [
    "class Node:\n",
    "    def __init__(self, data=None, next_node=None):\n",
    "        self.data = data\n",
    "        self.next_node = next_node\n",
    "\n",
    "    def append_to_tail(self, data):\n",
    "        end = Node(data)\n",
    "        n = self\n",
    "        while n.next_node is not None:\n",
    "            n = n.next_node\n",
    "        n.next_node = end"
   ]
  },
  {
   "cell_type": "code",
   "execution_count": 24,
   "id": "96b6f5f4-594b-41af-8a4b-1132a6db1c1d",
   "metadata": {},
   "outputs": [],
   "source": [
    "head = Node(1)\n",
    "head.append_to_tail(2)\n",
    "head.append_to_tail(3)"
   ]
  },
  {
   "cell_type": "code",
   "execution_count": 27,
   "id": "c71e9549-7dd7-4e58-8ac2-4562f6396974",
   "metadata": {},
   "outputs": [
    {
     "name": "stdout",
     "output_type": "stream",
     "text": [
      "2\n"
     ]
    }
   ],
   "source": [
    "print(head.next_node.data)"
   ]
  },
  {
   "cell_type": "code",
   "execution_count": 32,
   "id": "f8da0bed-f499-4dc6-9dad-9c1ae0941828",
   "metadata": {},
   "outputs": [],
   "source": [
    "recursive = Node(1,recursive)"
   ]
  },
  {
   "cell_type": "code",
   "execution_count": null,
   "id": "384797c0-6b3e-461f-aa2f-640dc753c4bf",
   "metadata": {},
   "outputs": [],
   "source": []
  },
  {
   "cell_type": "code",
   "execution_count": null,
   "id": "d6e92bed-9423-4cd9-975e-33fd5e4a4666",
   "metadata": {},
   "outputs": [],
   "source": []
  }
 ],
 "metadata": {
  "kernelspec": {
   "display_name": "Python 3 (ipykernel)",
   "language": "python",
   "name": "python3"
  },
  "language_info": {
   "codemirror_mode": {
    "name": "ipython",
    "version": 3
   },
   "file_extension": ".py",
   "mimetype": "text/x-python",
   "name": "python",
   "nbconvert_exporter": "python",
   "pygments_lexer": "ipython3",
   "version": "3.9.13"
  }
 },
 "nbformat": 4,
 "nbformat_minor": 5
}
