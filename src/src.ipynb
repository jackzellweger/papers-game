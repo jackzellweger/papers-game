{
 "cells": [
  {
   "cell_type": "code",
   "execution_count": 21,
   "metadata": {},
   "outputs": [],
   "source": [
    "import requests\n",
    "import json"
   ]
  },
  {
   "cell_type": "code",
   "execution_count": 34,
   "metadata": {},
   "outputs": [],
   "source": [
    "# Set up an API query to the Semantic Scholar API\n",
    "# to get the paper with the given ID\n",
    "# and print the title of the paper\n",
    "# along with its abstract and the titles of the\n",
    "# first 10 papers it cites\n",
    "def get_paper_info(paper_id, option):\n",
    "    \n",
    "    # Set the base URL for the Semantic Scholar API\n",
    "    base_url = \"https://api.semanticscholar.org/v1/paper/\"\n",
    "\n",
    "    # Set the full URL for the API query\n",
    "    url = base_url + paper_id\n",
    "\n",
    "    # Query the API\n",
    "    response = requests.get(url)\n",
    "\n",
    "    # Convert the response to JSON\n",
    "    data = json.loads(response.text)\n",
    "\n",
    "    # Print the title of the paper\n",
    "    title = data[\"title\"]\n",
    "\n",
    "    # Print the abstract of the paper\n",
    "    abstract = data[\"abstract\"]\n",
    "\n",
    "    # Put the firt 10 paper IDs in an array\n",
    "    citations = []\n",
    "    for i in range(10):\n",
    "        citations.append(data[\"citations\"][i][\"paperId\"])\n",
    "\n",
    "    # return the options\n",
    "    if option == \"ID\":\n",
    "        return paper_id\n",
    "    elif option == \"title\":\n",
    "        return title\n",
    "    elif option == \"abstract\":\n",
    "        return abstract\n",
    "    elif option == \"citations\":\n",
    "        return citations\n",
    "    else:\n",
    "        return \"Invalid option\""
   ]
  },
  {
   "cell_type": "code",
   "execution_count": 35,
   "metadata": {},
   "outputs": [
    {
     "data": {
      "text/plain": [
       "['bdb32ea23986f6dfe436c5dba0d13e95dea07c92',\n",
       " 'd582909be7ad3ca80fcfca3e1d9ced2e60966db2',\n",
       " '28fdb929d1c4f87bbb9cc0b5bb880567e3c50429',\n",
       " '1f872354e0cfde91e86e68b35d89a6d447f48936',\n",
       " 'fda21913e8d889a84677f96231a145ecf2c206a2',\n",
       " '9939871f8e0c6119e44734573758196de292561d',\n",
       " '89c8ef3a2616765f9008ebd7ec4c45e7144b1e9c',\n",
       " '130670cd2ffe6994ab4265f534de4aad74385c60',\n",
       " 'fea760bdeef14b049c2e515838839116b91fb82a',\n",
       " 'a80cd69bec615984b4eab7f55026fabffd315d3b']"
      ]
     },
     "execution_count": 35,
     "metadata": {},
     "output_type": "execute_result"
    }
   ],
   "source": [
    "get_paper_info(\"d4b651d6a904f69f8fa1dcad4ebe972296af3a9a\", \"citations\")"
   ]
  },
  {
   "cell_type": "code",
   "execution_count": null,
   "metadata": {},
   "outputs": [],
   "source": []
  },
  {
   "cell_type": "code",
   "execution_count": null,
   "metadata": {},
   "outputs": [],
   "source": []
  },
  {
   "cell_type": "code",
   "execution_count": null,
   "metadata": {},
   "outputs": [],
   "source": []
  },
  {
   "cell_type": "code",
   "execution_count": null,
   "metadata": {},
   "outputs": [],
   "source": []
  },
  {
   "cell_type": "code",
   "execution_count": null,
   "metadata": {},
   "outputs": [],
   "source": []
  },
  {
   "cell_type": "code",
   "execution_count": null,
   "metadata": {},
   "outputs": [],
   "source": []
  },
  {
   "cell_type": "code",
   "execution_count": null,
   "metadata": {},
   "outputs": [],
   "source": []
  }
 ],
 "metadata": {
  "kernelspec": {
   "display_name": "Python 3",
   "language": "python",
   "name": "python3"
  },
  "language_info": {
   "codemirror_mode": {
    "name": "ipython",
    "version": 3
   },
   "file_extension": ".py",
   "mimetype": "text/x-python",
   "name": "python",
   "nbconvert_exporter": "python",
   "pygments_lexer": "ipython3",
   "version": "3.9.12"
  },
  "orig_nbformat": 4,
  "vscode": {
   "interpreter": {
    "hash": "aee8b7b246df8f9039afb4144a1f6fd8d2ca17a180786b69acc140d282b71a49"
   }
  }
 },
 "nbformat": 4,
 "nbformat_minor": 2
}
