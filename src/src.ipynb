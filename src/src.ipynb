{
 "cells": [
  {
   "cell_type": "code",
   "execution_count": 43,
   "metadata": {},
   "outputs": [],
   "source": [
    "import torch.nn.functional as F\n",
    "import requests\n",
    "import json\n",
    "from dataclasses import dataclass\n",
    "from progressbar import ProgressBar\n",
    "from typing import List\n",
    "from sklearn.feature_extraction.text import TfidfVectorizer"
   ]
  },
  {
   "cell_type": "code",
   "execution_count": 2,
   "metadata": {},
   "outputs": [],
   "source": [
    "@dataclass\n",
    "class Paper:\n",
    "    BASE_URL = \"https://api.semanticscholar.org/v1/paper/\"\n",
    "    CITATION_LIMIT = 1000\n",
    "    paper_id: str\n",
    "    \n",
    "    def __post_init__(self):\n",
    "        self.url = f'{self.BASE_URL}{self.paper_id}'\n",
    "        self.paper = requests.get(self.url).json()\n",
    "    \n",
    "    @property\n",
    "    def id(self) -> str:\n",
    "        return self.paper_id\n",
    "    \n",
    "    @property\n",
    "    def title(self) -> str:\n",
    "        return self.paper['title']\n",
    "        \n",
    "    @property\n",
    "    def abstract(self) -> str:\n",
    "        return self.paper['abstract']\n",
    "    \n",
    "    @property\n",
    "    def citations(self) -> List[str]:\n",
    "        citations = []\n",
    "        for c in self.paper['citations'][:self.CITATION_LIMIT]:\n",
    "            citations.append(c[\"paperId\"])\n",
    "\n",
    "        return citations\n",
    "    \n",
    "    @property\n",
    "    def references(self) -> List[str]:\n",
    "        references = []\n",
    "        for c in self.paper['references'][:self.CITATION_LIMIT]:\n",
    "            references.append(c[\"paperId\"])\n",
    "\n",
    "        return references"
   ]
  },
  {
   "cell_type": "code",
   "execution_count": 3,
   "metadata": {},
   "outputs": [],
   "source": [
    "p = Paper(\"d4b651d6a904f69f8fa1dcad4ebe972296af3a9a\")"
   ]
  },
  {
   "cell_type": "code",
   "execution_count": 4,
   "metadata": {},
   "outputs": [
    {
     "data": {
      "text/plain": [
       "'d4b651d6a904f69f8fa1dcad4ebe972296af3a9a'"
      ]
     },
     "execution_count": 4,
     "metadata": {},
     "output_type": "execute_result"
    },
    {
     "data": {
      "text/plain": [
       "'Identifying Relations for Open Information Extraction'"
      ]
     },
     "execution_count": 4,
     "metadata": {},
     "output_type": "execute_result"
    },
    {
     "data": {
      "text/plain": [
       "\"Open Information Extraction (IE) is the task of extracting assertions from massive corpora without requiring a pre-specified vocabulary. This paper shows that the output of state-of-the-art Open IE systems is rife with uninformative and incoherent extractions. To overcome these problems, we introduce two simple syntactic and lexical constraints on binary relations expressed by verbs. We implemented the constraints in the ReVerb Open IE system, which more than doubles the area under the precision-recall curve relative to previous extractors such as TextRunner and woepos. More than 30% of ReVerb's extractions are at precision 0.8 or higher---compared to virtually none for earlier systems. The paper concludes with a detailed analysis of ReVerb's errors, suggesting directions for future work.\""
      ]
     },
     "execution_count": 4,
     "metadata": {},
     "output_type": "execute_result"
    },
    {
     "data": {
      "text/plain": [
       "['a1d49c5ea00831d540f027c0c009cacd2c21f3b5',\n",
       " '9ea5874d261359e287eabb735de38a8edba1e091',\n",
       " '032244fb8ff881f4f12345e9afc7ea5627952f4a',\n",
       " '279cc657655eeb4e96a2eaf3d77f708edbf6a313',\n",
       " '47a541269d4ef70f37f0d3a57483312c4c6c2ad5',\n",
       " 'd582909be7ad3ca80fcfca3e1d9ced2e60966db2',\n",
       " '28fdb929d1c4f87bbb9cc0b5bb880567e3c50429',\n",
       " '1f872354e0cfde91e86e68b35d89a6d447f48936',\n",
       " 'bdb32ea23986f6dfe436c5dba0d13e95dea07c92',\n",
       " 'fda21913e8d889a84677f96231a145ecf2c206a2',\n",
       " '9939871f8e0c6119e44734573758196de292561d',\n",
       " '89c8ef3a2616765f9008ebd7ec4c45e7144b1e9c',\n",
       " '130670cd2ffe6994ab4265f534de4aad74385c60',\n",
       " 'fea760bdeef14b049c2e515838839116b91fb82a',\n",
       " 'a80cd69bec615984b4eab7f55026fabffd315d3b',\n",
       " 'e5f5a058c26b87dc94b8b0c35e9395bac578969c',\n",
       " 'e82dad0188e97342fb88f2770db77d480f11c96e',\n",
       " 'ce4b70a3da3887453a028c85f59451131972070b',\n",
       " '52eb3247b460fe8211e9304732dd7d8fc11b1b68',\n",
       " '3dde11c02e24ee3e9ba4903939e0a61e2880b89c',\n",
       " '1933a0ef47f8d2ba4a8277d702d522a06319302c',\n",
       " '33285e02758788b681754d283df20971fef6e31f',\n",
       " '6926acbf02adfc70f8642979d25b224d379a52f1',\n",
       " 'a0db5811fbb31ccf6b2c3609430a9205c2c8e138',\n",
       " '1f449216fb972bff348a9a4db125532c89e6ddef',\n",
       " 'd0b5360ce8ce1e8f2bfb2bc09300a89c271e6020',\n",
       " '80474b20b3849993373de95e9e79bb7728a86749',\n",
       " '81d807f992930e6abbb89ac544a7ebc562d0c1ac',\n",
       " '7392e0f8445193f3a6acc433d8df29a01080e0c1',\n",
       " 'd5ba987ad36623777b7a9749db6e7655d912ecbf',\n",
       " '84cd55fbdaf8481e90f4d36a9bb245b6e5b0abf7',\n",
       " '34879b8332c083b67317c618ae78a2327848153c',\n",
       " '6ee1df036087234d003ad42737f3f6d54629644a',\n",
       " '111a2d82fc79ba4679541260594177d1c2117659',\n",
       " 'be7aa2416c28d25bdbcd7666b02131a55ca869c0',\n",
       " '4308fc9743670cd86f9273e82d3698e89494a126',\n",
       " '2ff06d5041b91663f28922b83e06cf22f2232c08',\n",
       " '60a00f06cb6d9d4a60b688835264a6582b2ccd12',\n",
       " '71100e59e0b8c6ce72767eaf11a10cb3823de996',\n",
       " 'b718a7a545bab699efe1be3c3a545fce33e27782',\n",
       " '978533127f29f5155dc0d020b721c5f78becbe29',\n",
       " 'd5d213acb6609e76774785f16262bbbc0c762420',\n",
       " 'd4f41e6c42661bbca0c51e80ec3947688bd294f5',\n",
       " '55c488180aa29a94941aab522ec6b93815cdfecb',\n",
       " '2184dcb490965fba90bf364b18d478b6f8255f0f',\n",
       " 'ca7af57626ae037275e5c336c44f91388f49ca1c',\n",
       " '18d85088e8f79ae0fea00772ac346f76780e9b03',\n",
       " '86c096ab82ec02a225f78e982c298c224d436130',\n",
       " '74802563ff975565c4978a088d9e285434db3953',\n",
       " 'e13179e8ca30f44c00e90b62a6d204d6cb35d8ca',\n",
       " 'f18f6267839c38a66daaf0d1a02c7c956e06ae9c',\n",
       " '4656114a3e656bb4b0dd573568836a7b71009d7a',\n",
       " '574f194c1d66ca988236ddd4f5b19e8d1f31ad6d',\n",
       " 'ad3dfaf1044deea31dcaf737c7d3e673478ceb5c',\n",
       " '625ba19c5d053bada5f6744f6a6296bcc84fa56e',\n",
       " 'cbd306673cbfbcfb966ce54a62e10dd78e8f93c5',\n",
       " '53d851bfc11b510edd7516b6ed8da2ad26e1471d',\n",
       " 'd61bb3aafef7cd23585654994306e3d6c20e4561',\n",
       " 'f4bc9a87889e5bb7a5b325aab1508eaad25d8a81',\n",
       " 'c92ffbf75a1d2e39026ddb39d14c20ad534dc9c5',\n",
       " '5975ab406cba48c159614150d8b611d2cc914692',\n",
       " '240f440925e434fdb511abacca02a7e7945df42a',\n",
       " 'fdb4f99471ad5911239893577aea89b5957b3d56',\n",
       " '6fa13d944f14df944724bde7764aa87047730063',\n",
       " '8cf257d8ed64feec890cc7b526ccbe70235f0108',\n",
       " '49dcb4aaaa8d559b61dc9d62c97bf2c2795a26dd',\n",
       " '52a4fc979d0d615e4dd6abec26db6804be7de831',\n",
       " 'a387f725e7d788eefab9127d8ae6c7431152a7eb',\n",
       " '89e9f6785a638f0e997b13a68bd051cf501c5442',\n",
       " '918f61729731c579f740e45b76071cf51a973772',\n",
       " 'd14343f3f9f74d94b61ae0e532af600a460a1b38',\n",
       " '968c2c2280cb4b2d5469083a4e89dc80571a384d',\n",
       " 'c0b6fe9c6ace82332456ece5080a15174c40fa0b',\n",
       " '098cc4df6a33d63a4ca6c34d87977e1d9d12cd72',\n",
       " 'a6382b934f92b2bfe46b2db584e3796e886a9176',\n",
       " '6aa7647b1ba8e08e7b3bfdbabc2967c953da7746',\n",
       " '4351bb689fdf6f9be7e769ee8604280dc1b992c7',\n",
       " 'c3456de76f4dcf4eb212f980ef9a7ec0a494f1d5',\n",
       " '6490dfa08d0488490b69c1cce3221a422e0af757',\n",
       " '3971d69c3211d29d10d3087b63bf5bb8123b64fc',\n",
       " 'ea4c41ffc31288503cf8b7296553c4cb13d61f4d',\n",
       " '0e47fe831638543038d9556bc26017356f680bd9',\n",
       " 'b1fa4a0048901a05057944b6de10d00c2d8c6ea1',\n",
       " '0390961a0187f48c99131b8b82ceb465b8e48559',\n",
       " '3ef34cf5ba27d9cff97f5ee45b39e6b7db28a9f2',\n",
       " '8766622dcbf8f7e5c6775f9b47cb5200be37f9c4',\n",
       " 'fe750e5dbbf00107fe5a9a4229796fd27f851b61',\n",
       " 'baa8b6fc12a2b410c69c2621dada73339b96da48',\n",
       " '6f4e7ae892fb8ad98cf43753bb0b719c05ed5005',\n",
       " 'af1561f3c02753672d433d339b2bce100fa9e5af',\n",
       " 'c04a7387338b767d88335e20f6d51b55968c7915',\n",
       " '14bf95ef3e5e1ef4f9dbf7208e506f558c3db4a7',\n",
       " '7d40d20759d0c3920acb1f143642976da4b9edb2',\n",
       " '2dcd22d77a7bcb3e5a573444072d5be953adf904',\n",
       " 'aba282d331b70f044f5da93f4df36de0bd4a4a52',\n",
       " 'ffc9b454a245a2840c0def6b8077f1e26327dc78',\n",
       " '915fe4c29270cf3b656cc2a39ab5d366bf6554f6',\n",
       " '68da277ed4bc7bbd894cb021ac3f9554ee3b2fba',\n",
       " '865bfd8034785a084f0c7d651119b8504e939535',\n",
       " '8300ed72dcdee9441602bb630b73b86fbbbd318e',\n",
       " 'c24cbe99bfde5bea6adda58edaf4471794f2852c',\n",
       " '3d2299752697da2effa368c0f737b34ae683d672',\n",
       " '92dbc77add2d046c3ba6e1f20d6415f571fcb355',\n",
       " 'af77121ea0b32d226b5044d2c46d10894e67ddd2',\n",
       " '0c04a256d858f3d03e52f01fb55a5fa2c4c9aa42',\n",
       " 'f61886d138497431cbeaa7bb73051bfb7a745026',\n",
       " '28149eec7724290aef75862a71e394b9f6758d95',\n",
       " '0d2c76843f43d6f7219c7c3ad69a17beac19205b',\n",
       " '1249cce1cf2dd9c0f1d2daa261c0164d89ffec90',\n",
       " '1271933eec06715b36591309ded056667007a711',\n",
       " '32cdc30fea880727c0814abd929d596d6c507000',\n",
       " 'e23e5b569929636e55200f5de64367d9d6913213',\n",
       " '44996b4e0cc5bbf1872909e08e9b7513b137adde',\n",
       " '5f3f9037474b1656ea055fb9af1f995af15e09f5',\n",
       " 'd331de3b6bebb0f9af1fddf1b730ec057a7026d4',\n",
       " 'a85b04f975cf868f066c1e999ebf76fee639f61e',\n",
       " '2ae7d4ab81a3a577e914fbc9876286f3bee7e865',\n",
       " '45da1ab3a1fd948af4d5a6836c54e8d2dfa9e1f0',\n",
       " '4b89088729ea4a989447ebb56caaad18be646e74',\n",
       " '5d8e85d12c218f56f3c50351fa2ddc3da098b31c',\n",
       " 'bd344db1b33cab3caeeb8d5f93968555c2d80d50',\n",
       " '066223db90f4b5229820cc374c1b177f091765e9',\n",
       " '6b5c25d4f598c6b08594aab6b3852d50d31685c7',\n",
       " 'fb662e634b933e4b239853aa1677a28fe677f3e1',\n",
       " '7a588d36ee28021c976c5b85353b378f0d829076',\n",
       " '33ce3cd897a3473973f338c154f3fe5c1175643c',\n",
       " '9f5f64e61ef37b7c57dc42b1db60b89929762941',\n",
       " '2e89a9916147bb4327d7e744236d7e5e6f066e46',\n",
       " 'b76846171da16b99da7c16edff8010c05205fcd0',\n",
       " 'c9ed5827520fe8b87029376d888e0e441d03efad',\n",
       " '8e9b2fa6519942f2cd64bb836fb9816181f3f427',\n",
       " '986f93c3b909582ec0b8b8b23cefb2f04ef26cf8',\n",
       " '98e0cd21c2aad59e09bcff20826db29655415897',\n",
       " '51784c82fc85df02abca18d90d9f77749da74b1d',\n",
       " 'f57f2d2f8361c6ab17e8006e24131d22caf5ad43',\n",
       " '73b1d409b71db3e9de8208254dae4a446a374c2f',\n",
       " 'd2d0a32db874d27fe5d5455973b4b953adf79694',\n",
       " 'b2e0f559cc6e1398830f6feafa846a26ab4c234e',\n",
       " '03dc6ccb0b04d5eb6439c33c185bdd1fe892b76e',\n",
       " '0dd7f33ef38c211d0585594b3f53ee4c35181334',\n",
       " '1c71616eee265d7c2a0d5df25ac212133b8446db',\n",
       " '6556bb283669a6cbe218926d4607787de9a76ac5',\n",
       " 'b8ae6ae027039c675c07f2d660ae25e8ae0261b9',\n",
       " '413974f19d107a14165fec1d554dfb412afb19ed',\n",
       " '95b5b6140c8ba8e3575bf9dd4b085e0562075cde',\n",
       " 'da7a9ea20fcac7ec9fbf66cf0022c4ee001a4307',\n",
       " '100b513b8452f58922bc67f85e3c9c7c0dfcb1de',\n",
       " '06c2729515152f2c0df4a9e901bae9584caae655',\n",
       " 'c8eed37742b5a5d6d650d058f950c592fa339b5e',\n",
       " 'c1a84ed0c78bb7e8d063f35802313b1f701beffe',\n",
       " 'ab8d8571f8048e36d498f98282428c6a0eb13578',\n",
       " '3c1a72f4c47139e7b1ec9c6a13d6fe2f571742bc',\n",
       " '787933e62cee1e5f55d51faf50c48c92d8021997',\n",
       " '96f3ad9ece9d557da355f041b7b9b4c72fc95e94',\n",
       " '4ea0c2fc8de63d26b91d1dc423d90b324c154262',\n",
       " '2413ec1e8d9dff7fd67151a88ffdfacfa481580e',\n",
       " '00529345e4a604674477f8a1dc1333114883b8d9',\n",
       " 'fc9a853419527ea1901a48afff834a760e441442',\n",
       " '71c808d6e18e553a4e32fd94852b6144fdbdac3c',\n",
       " '257c448fa45648b3f254efcfd479942aac6e801d',\n",
       " '75b26f5ae7d49d9fce0f28355df5d8cd71de6d76',\n",
       " 'dbc1cb036c85193771f9a91c865c83cd0cd761a5',\n",
       " '2f8af49a81e4daaf299f23f630c591011e9a0158',\n",
       " 'c41fee04146a7893948b978676f0fc19fa622f94',\n",
       " '9ba7ffa1935b6847f91bd92778e245364c40388d',\n",
       " 'f1ee77cb3164c8841c5c0cb516003756f0716e08',\n",
       " '3a361205a4581d19ea9e32e4cd277049671f7196',\n",
       " '907c85e143c5ad500a18402e931999f1acd4a37f',\n",
       " '560d696119ae2e3ffaadf33cf164220666a77300',\n",
       " 'b39751fc4be3577a6c8f2c957808ece111871415',\n",
       " '7302763feb033b426c47de1ee95120997b303170',\n",
       " '3e8b49ec2330368b754e4f8b47e8aeb0f966d78b',\n",
       " '3ee955bfb656e30a337b22a1149b5ecc91a91217',\n",
       " 'cc9f5ff7d56f7cbbd106bb0dd733131b9b2d658b',\n",
       " '3b354076eb7196bce4a9926211f1ecb2aa6a1658',\n",
       " 'adf25185c775034678fbd1f1abb3c35aafe44330',\n",
       " '0a59a78b055d961fa21d8062ef783213dbf75eaa',\n",
       " '5e779508f6a52254e7dd8e8669f7153775f197ab',\n",
       " '1b566415ec2920b08b2aeeb8a7bf79bfe7e3463d',\n",
       " '07c18bede4ea8b26843d773ddee55e0b770139f7',\n",
       " '10fa4beda10b3264f84304ba3ade0c4a24ccee7a',\n",
       " '52d55da93fbb0d86561953dadfdeec9cd2a4c9f4',\n",
       " 'c2425600e0400e92d8af01559aa9c521c893a17a',\n",
       " '2af23bc45a96c29ee04f157932f02f9cdfb1a070',\n",
       " '256138a5e7400afda607a03917d0a03247ae9b56',\n",
       " 'a788b522ed724be90ce21f781bcf114831276d5f',\n",
       " '2b838f84aa123d641f8c4cbc456f71a9ddcd6019',\n",
       " '1869bbf963650ca58cb9ced1b0643b3b477a0b3f',\n",
       " '0627467424f63fd71f0c307ffd14bdbbbeba5cbc',\n",
       " 'b6e15dc2f9430100cf532ad7bc4907bbc2d86d2e',\n",
       " 'd053e607bb31dc75f82db7e646dac2ce0a48e32d',\n",
       " '8b60ed5a15c9cce8fdbd0b02de2f05cb00680673',\n",
       " '04a60459e1142660b96388cf47c1b4a38cf9f69a',\n",
       " 'ef6d82d7ae204a4784084c6d7798c4c0dd94c1ce',\n",
       " 'e04cbbcf11e5b442af85f23ff10db6f74405db2a',\n",
       " '51c8975d88aa66781300e8ca88272ab3112445c0',\n",
       " '844e8fa1bb852cef5554c0033aa4e8ae7716b03e',\n",
       " '464b8113d788a2c916fcecd57ff81d8ef5125e07',\n",
       " '8c086c46b500fb580d7d2439af2b7fe3b5dcf2fa',\n",
       " '3c19ca3316d841abb9ca7dd09e80da13b331ead0',\n",
       " 'de221ac766290fee2f1aa0b28913dc1d6fa14424',\n",
       " '1d3e3f1d241b8d77c25ef0afa16d0614ff08b37c',\n",
       " '034dc95f73dd9255a6b37b144388d4b6100681e1',\n",
       " '35596aed0f799a275ac49c1267583777a0e4908e',\n",
       " 'eef9d4ce8470e7e0100051900870945b8a4714ac',\n",
       " 'cf6b6a55e3e10fdb5590c66ef6056abe40c867e7',\n",
       " '358d7d6333d3edd530e37efd8004cb9da8cfd5d4',\n",
       " '5f2adc1799d9d63a121bd9ee5b7190bbb1aa6f2d',\n",
       " 'dd7c0d24dd9178471942141ef3b71b4f5b25c308',\n",
       " 'acf613fdcf024100e2668844a656c7afd21505b5',\n",
       " '4b5c936e6cc74c1298630d2ef92efaacb25d63f2',\n",
       " '6037fc9874d34869df3d044a99f7bc574113aef9',\n",
       " 'c396174159363ade9eca1a4e7ee53ae4ebc46217',\n",
       " 'eb91ddddb41075c5d9e59b50603fdf06c99f56f7',\n",
       " '906f4bc20b6d5705fa9f39189ab08b1c7d72f6ad',\n",
       " '298f9da33c8684ded0d5b7710d9253324b18a5a1',\n",
       " 'a6acf83205df67adee611e066291dce5c5a4d357',\n",
       " '3db2a48d44f7cfca152df85492a5e417466ab1be',\n",
       " '15e0a71bd655d7c6c7a1b1a9e9eb7a4f650531cd',\n",
       " '860ae7d028df0a85d8f8b82fa2c7a817bcee10b7',\n",
       " '1ed7cad908eebfc3d3807f8f5f1bc47103da2578',\n",
       " '40d343d52cff48dbee5b3d6eae985712bcf812d5',\n",
       " '6375ecfc1265e990b1b06aee961bf3e37fa51f48',\n",
       " '21d502c84df9d9d699a3cac71f13885ef8a345d4',\n",
       " '0d0d43dd657f80c4d3e19381f3683442d04ae49e',\n",
       " 'f070b1456bfb144aa81aca2f8375edbd32ec5754',\n",
       " '17b5757325a82b0e3c7de481635ddde43db91eed',\n",
       " '3548fa393c858ce1060843c22f34956b9364781b',\n",
       " 'c3e211a1b91a551c4d96ea26d50f4b4bf8d480a8',\n",
       " '3d7af74565e92a4cf813c257c5e30975dba8985f',\n",
       " '8b30e5c304e5a9f1d5a690b0afddef639aa4d4c3',\n",
       " '248b28325517687390572ba65ef54761ecc69402',\n",
       " 'cd343276aec1b22e0c273b1cf5986bb826d3e5a4',\n",
       " '2d7ef42aff817d3f3bb50f8688086869f8ac64b5',\n",
       " '36bebb29d5c5d923cdc50e2e4eacffcbb2eb6077',\n",
       " '7b52e50bd7d77245c067487250113573aab72d99',\n",
       " '05fd1caebae7face6b005e3b9e4e1a07c3087419',\n",
       " '1196204e0594e20d03a02001eb9ff24bc55a5236',\n",
       " '93549f5a64cc2fbe079f0cd04220f034ea73e99f',\n",
       " 'ff3f3116be9608540cf8f7a90903fd2b0e4110c6',\n",
       " '29ee08df66e4f9a365cb24dbb5f5eb8a8c2ca0aa',\n",
       " '81dd3faf762ad8f084ab1d7b8fc9e77e9e160f85',\n",
       " '5f026bf1a07b846df51b2a06ee01ef88d3cf2584',\n",
       " '139c7273c2173dd18f476424d7cb55ac7d711098',\n",
       " '1bd6e82668f0f97afbebd051cd1e95c6ba9b0f3d',\n",
       " 'd169729b09b006e432ff6eadfe1408eb8e28e207',\n",
       " '87e68febc58a72dbf66f7aa97eb09866c15feb5b',\n",
       " '142197e96112690d5c51012bd6cd257a2b1330ac',\n",
       " 'a1bded34c6d5a4d2e37219da6ffe7e6af8f63043',\n",
       " '73edceea15064a191ab9a998cb6a9ebfad041f4e',\n",
       " '3b07e1b35eec1dc1d068ec71800901403f0e700a',\n",
       " '84abafc60a3a89dcc6d15c70a086cb7de89b2cdd',\n",
       " '194d2e6fdc297795840db3897bd589d4f32d9919',\n",
       " 'b1dd6261280db853362913f4d7b11d7b60904b74',\n",
       " 'f38e1304d13291d6a7dd0a733a6be70cffb0d741',\n",
       " 'df063abf2b1f849dc9bb1a380d1de860b6e59833',\n",
       " 'fca8f161dc99e30c39f0e1949c553051a84d7798',\n",
       " 'c1e77bc89f8c9e11978b07d16dd78b286c989ba0',\n",
       " '2f2c0b2e9b0821721d206084fa051d9fa7561176',\n",
       " 'ca0eeabea9d690db4d4d95b22c0728a7bf94bb87',\n",
       " '42a1e72b10eb7011ee630ddaa3c00fc5eeaac2aa',\n",
       " '52c41fbd141ce863e070f19bbce9098c24634427',\n",
       " '3bf37601356e2e0fca995541a0f89fd5cc129b33',\n",
       " '68c7e8fee1b27062af2834e0a179e49c70e73208',\n",
       " 'd2925b1a75c72728d2d90157c1d1057cbc5da8b9',\n",
       " '39efeea10bd9261bf57581a3183abb80bd230428',\n",
       " '600992a61aa95fc0259fcee8fc327738df354424',\n",
       " '771ecd8bcfa02194ecc8d16bf070fae8a8243a22',\n",
       " 'ae8c331e091ba27e2671cdc63c44982b9fe66e98',\n",
       " '2d282e2d4331e5b6f842395c6bdce3e6072bbeb7',\n",
       " '0959a3acdf6310649a2452072db02f851dd37824',\n",
       " 'fe33f791215f8e22b13f4c837502720736d20ac7',\n",
       " 'a53c98f66a995b34b1041df1ecc393a074cccb69',\n",
       " 'e57d937679672971c7150644743724a0856227a5',\n",
       " 'b482e8e47ae39734e9750b948bc3249b51fa2c30',\n",
       " 'aa5aa1178dd405f42b3eb4d97bc830d332d79c1c',\n",
       " '830d0cf5c8ac88525faebd8d6507d7a0fc7c5e28',\n",
       " '0eb35b498e3e9d5b51e5d7f9435206b99ce22505',\n",
       " 'd9caa82767604188e57a950dcf8d4db9d1ef358c',\n",
       " '3c1bd0623c32225ae90bd9c0c0e5c40eb4067e87',\n",
       " 'e8a085f138383bd7847eadcd2d0bbb8ed751af88',\n",
       " '9f5915dbea0cdb154af6b57d0ba61eab9f37f1c0',\n",
       " 'fb2a171434ffa87ca939397302816df70fd4bb10',\n",
       " 'ac85277af84c92a3e5c9d1e4052d2c3ae452981d',\n",
       " 'a95293a950c6006f4703a6ddcf6aa22ae3777689',\n",
       " '3439b0edd1f1164bb9252244294684bb3068a83a',\n",
       " '5b2a864293c2dae6fb618f4456c12eb674d659f4',\n",
       " 'a306ab1db1998c9c48e8911819253b04aa6fbe66',\n",
       " '82d5377ec572843a713cfa7eaad137f5d303c4f3',\n",
       " '77c963ddc67fe30b8ee8176168f48912646706e6',\n",
       " '61bc6841face45ed11a96ecc340fb6294aae4648',\n",
       " '819a432a1944f096a5baf453cffc1470c56daab6',\n",
       " '076f0d5fe0c9e90933bb9ed3cd90dafb98a685f9',\n",
       " '88a91987025bff7063751d4ae9d13fa8628993a4',\n",
       " '6e900aa932141d0f0fa339c855f2648b238ba10e',\n",
       " '7e4bceaffa68e67a6e6972eb95f0b256e03d26c9',\n",
       " 'd198c9667c38db589e92e1280e08e2ac226c7063',\n",
       " 'ba69dc1fe7da073efcadcde60ba22f085f440b61',\n",
       " '662cf98bc0f14cc97c11e875c0ac36f6f695a312',\n",
       " '3311f4454f84e27eedf3ba0ddd6f57656db2831b',\n",
       " '82517ab6bc2ba14099d4f9bacb0e946a4ba05e3e',\n",
       " '19dbda1ccf4d1a3fd66378d0b6a53ffc6684cb25',\n",
       " '0977b0ba5fe1f00a02d2308b6e5f007388019498',\n",
       " '3330e74c02d23ddbb7ef81fe57fc5df41c595bd7',\n",
       " '8ca5fe0c1d54ff5f64899d056b76fa4b5344db6f',\n",
       " '4cf633d0893a1d3af97723ce1f2fae33c2a30043',\n",
       " '065d3fc4efd776f50ae27e7dd29b18495376525f',\n",
       " '5b5f875be158cfaa60fcdd037495855276c63be9',\n",
       " '9dc775d6b74129621147c843ef26de01292d8084',\n",
       " '36b37f9e39bb16dc362b0641eff0ab3f145ef31b',\n",
       " '229a6bb39ee0e0ba8a0d116483ba50a483de4fc3',\n",
       " '16aa7ba83cb3427cd81ce404d8d38a610ab266f1',\n",
       " '30b97d982ea2a850f320200d484871c4659988cd',\n",
       " 'f48ae425e2567be2d993efcaaf74c2274fc9d7c5',\n",
       " '4af09143735210777281b66997ec12994dbb43d4',\n",
       " 'daa1a5f45c1ca7985f5678cd66cd31714f6735e6',\n",
       " '832be79a6d98ca75984796647fd69ae4e5f36154',\n",
       " 'f488493c6a87ac55d4639f7641dbf360582b91d0',\n",
       " 'aef7b053b7cc36f2f3e36436fa53463d3449dcb8',\n",
       " 'b31eef8d9263b02f7d0c1ab55b26012550a2e95a',\n",
       " 'e872b2df80530d4d018e968ea6a204b047a76046',\n",
       " '5ab363b782956313bea061b74b1215fef480cde4',\n",
       " 'f50d542a9904b5c42253672a6500871fd93538b0',\n",
       " '9ade0ccc5ef96a111ab308485df3338970654f8d',\n",
       " 'aabedc7db620062a1f0dae8fc184cce23862b6bd',\n",
       " '0477e4f610645a276bb6222f7934738b1324c9ff',\n",
       " 'b2cdb2e539f9ee25672ce5aab0c5ce73c0a21615',\n",
       " '3ae6ccde595378f07910c6b7990f07f8e43afed3',\n",
       " '442ca0abe65f4fc8eb1ef9efb82b2fa68690f4fe',\n",
       " '8147a495b9a933742f06458244f7c5df00767c4e',\n",
       " '664d01b05fa4a8fdc32f6c5e021edf18269592f8',\n",
       " '9429c6abf132cc324a213bfc8a11c3ac4d5f9d3c',\n",
       " '14cf2911038fe92968ed06583fb7070a36ee877a',\n",
       " '3c1e46a8e262af64492f71c25e40d2fe86589c88',\n",
       " 'a2833e97d224593fdfaf153dc310cf1174642802',\n",
       " '2228326cbfcfdadf78d0c2867b104fa955c04fad',\n",
       " 'a5fd115c201eb78bdf862d5ac95e5f1d6b2a82af',\n",
       " 'd17b6e623fc7f5ca305b2111d695ad494fbb7e2f',\n",
       " 'fddbcabe0fc9be0684855ae3dd059fb525a69e5b',\n",
       " '6fc12f57cebed730734ac0c73520d33376c852c0',\n",
       " 'bac407ae077c2da209073bccd26f180cb53db8ca',\n",
       " '28f3a20ebd5e2f3afa871b1784076cf7004415b8',\n",
       " 'a3c4b2a300ab919bbc27df2da9ced9df1c6e8567',\n",
       " 'fff2b821bce5999179c4fdbbc474445d64f7c3b3',\n",
       " '97fb3e5548de77b68f649efddf4508be7946237f',\n",
       " '2be179312ab93158feed2795fab044d08432e6d8',\n",
       " 'f3729e4bd3ff6fc240f03308753ab115d83d44b9',\n",
       " '2c2ec22f11ac61c3ac85b99f930ef6d24229c212',\n",
       " '5daccec4b84f52000602c6fa22b3ff87d1072e8e',\n",
       " 'a7b26a7e0932fc33aec50e97ad0329998d5b258b',\n",
       " '4977ae78df2dd4c1900dc685f7d3fac1109a9fb8',\n",
       " '08919d3f90baf9c31210d33bc7bb49f544ba4212',\n",
       " '8a327361aa0e544ff01c7200b4a924246701727a',\n",
       " '53c8413ef292da4f904c9588c095c39ada3ac925',\n",
       " 'b0b246b4b8b374265f4e8a99c07224ca5789dfac',\n",
       " 'd896d6f31eb417bdaf4c4ebe7ac1f28b51af888d',\n",
       " 'abcad78d2dba846e7c02ab853f86fbb258ad9952',\n",
       " '9778a039bd99f7691d14c0be05e3992d65f361b5',\n",
       " '80b29f62b2713854ac87dc47b3a765adec862aff',\n",
       " 'c006b58561bac8a071e58908088794515cd7d23d',\n",
       " '887f0c39d8d4e9433f0cf3316f593a0b0758a177',\n",
       " '25ecb8d2ea7877a108c725fb428dff045101eee8',\n",
       " 'c9651edf9a21e044ecef4b0ff38e8f9a67fb518a',\n",
       " '3dcba175248d0e8d2da44e3731e4adbfb9f00e97',\n",
       " 'a6f97ac9c9f96552f0629c06ec4ceef1a71e223c',\n",
       " '638ebfb27e51ce5332e9913415e320397c77038b',\n",
       " 'a0fa291768637eb99676ad6988ed7105e8688e05',\n",
       " '48069ee713794d934454dcfc686711d3233d1e21',\n",
       " '814c30602be9b21948b7040ec4467e36ee2fd7fc',\n",
       " '78981ce7f6d25bdfb5295fdce9fe215a844be62e',\n",
       " '9ada886a7e2475062e5a22aa7401733696e2c865',\n",
       " '6b6c3f0aa1f5c70c99d8486e5eb65f3c48e421bc',\n",
       " '847f2a61af44e757d49372faad7d5e233f58ec54',\n",
       " '91ea8ea69694fd248d34c49e58df88d232abbc93',\n",
       " 'c4c9a4d5bff16c9020b229ac1841673be8b8d027',\n",
       " 'de1c95c6e6a552def8278aceb509885882d1b6ad',\n",
       " '1be79e84e2df66f3be732364adafb317b26321e9',\n",
       " '252a671d23b2e91f7febbe87d7358ab03219f3ad',\n",
       " '540cc969e7f0cf342c7905b16978c8e28407af70',\n",
       " '0bf32408f89fda2ea3c183009ef4d47719ec11a1',\n",
       " 'c323538627b44e6627228c89aec98ad5d6cd4eda',\n",
       " 'cf1ea6b89b89562a7a828e7938e2de7c9fc07288',\n",
       " '0314115869ceb1d2005ec46e2bf14ae01456db20',\n",
       " '4cb9830ac28103deef302041d4c0812925abe6f9',\n",
       " '96e820e8118aa0a48496027243deba9c0fa50d1f',\n",
       " '38f8964e4199ef7424695802849354bea79a6a54',\n",
       " '93fa80dfa3892196427145c1807a6e309b24a64a',\n",
       " 'f87cd9cefe4a0ec3d14a62459ddcdf52528e1141',\n",
       " 'a0cbffae591f08e7e054c75af6e6fea51f246993',\n",
       " '04faa03412c3a105d58e2db55ce2b3424eca51f1',\n",
       " '8f0554981e0707ec490d3c91d6e0bb8c65ec1e20',\n",
       " 'ea95b15fd7ed9d8a34d82298b860658efc5bed4b',\n",
       " '6887a06c57225ab629e4a73d8210f7c7724ab5d2',\n",
       " '7428443d4588dfe6ce303a7c498f0aaba729cc58',\n",
       " 'fbdadd69c0d5773542c9691954ba0d69fea7e17e',\n",
       " '4ab0cf2c8e16bc96a1b56e564a9b0a77e92cc345',\n",
       " '0e0caeee195faeaba3942822ac2656478ba2653e',\n",
       " '6368c4627e6403ac8390c52266da697cf60bd743',\n",
       " '07e3a140b1cdb4b9b180b6b390a36642a687b0a5',\n",
       " '40fc8496e4d7b7ade626b29548ab633196ff029f',\n",
       " '9e394554702a7365b32aa379f56d093f877aacb3',\n",
       " 'ae1879192e568a2e58c06a11604f2349b69cdd86',\n",
       " 'ca66017228fd2384728b7dc7f26b5aced73c418e',\n",
       " '9ab8fdb549cb35df2cc230acf3b71569cf6d39ee',\n",
       " 'e83c3899404e649e130b13bde91697500c78f6ce',\n",
       " '5c6c7a2474930eef76e334f29d12d417e9fadde5',\n",
       " 'bd3d521f8f16ad9cc3bbac112b55383d7daaaaac',\n",
       " 'd38235a812ac41ac583259ede58e664d0bba9c2f',\n",
       " '9f5b89f3eda50ac59d248518183018ee54cb5b0b',\n",
       " '410b8baa4a53c01ad1d963fba687a38d8ef5823e',\n",
       " '52dab532f423006aaaef01f8746c4be528b4b143',\n",
       " 'abcaa18e20968ae1f9345c098aebfec8734dfba1',\n",
       " 'eaa8fdca5778a6bf4ecf996cfc60e522b9ed57fd',\n",
       " '2e18a3aa382fc03ae197cb484b0119d57b8cf584',\n",
       " '515e3bbf08abfcccb9febb249a78b2e844129830',\n",
       " 'd6e0fd071395665c768e82291c23444c8278486a',\n",
       " 'ffcb70617dc3e76e6815b7dae071be6a94dd3387',\n",
       " '572644e10fc3bdbb31ab391511abfd6ff0ea5cee',\n",
       " 'f7a035cbbad3ce66ad586e86ced9794d60c2942e',\n",
       " '81542f9de03d3a8eb8fb4e824f6db021a47f806c',\n",
       " '0517cfc24606c885e80dc3dc110cf9b6c650c421',\n",
       " '3120b5ca9c0ae612c7af8e4d4d21f6d042b814b2',\n",
       " '8ee75f350f867257d9ba529d5b97b6cf1086740e',\n",
       " '08556cd89dbdf5ab9a2c03ccd1dc0a7e996f0370',\n",
       " '936d8569104523154bdaa1004b5f83ce02372fe5',\n",
       " '2269853c59ce06c599b79df3c3023504fc56a685',\n",
       " 'bf6333f2c70321ebb7b625cc7b9d8ff619b67701',\n",
       " 'a6015b66988750cdc2ffa09cfc3f6e74db79b8fb',\n",
       " 'ec7578dbbd4576a045d80acc8d0a3a0a98d5e5cb',\n",
       " '341018b460b7befb1f4493bab5a8a1031a6d26a2',\n",
       " '9006770978b945e57f9bf096a5e029fbe75cff7b',\n",
       " 'd3ea69504c17dd4755b40ffae4f2101cdd6f595a',\n",
       " '64a0266c71e07b3b34ffae860aaaf4c48a5ef0cc',\n",
       " 'b2a312325837b31821a37524eb49058c0d20570b',\n",
       " 'fa56a2d66fb9edd1f4dd8af2aa2531b5a1e0aa04',\n",
       " '804154bd907430c726d3dfff6f93cfc36819edcf',\n",
       " '285c5a964d958256fc2e5cf0949765b6f4707176',\n",
       " '4c88522ca0562860b7b5dd5e96ba5387315201c5',\n",
       " 'cdcce206059911b83e679ad464f2982c75e1e957',\n",
       " '054ed6424e1adf36cffae213a74d71e048c9e130',\n",
       " '8537b600a6f78d04aee8dc679bacde606606ce68',\n",
       " 'a34b5ff0b542554f2831f41d509dfce56cc92a86',\n",
       " '98f6e0c1983a2196b2f0ad7f191bf4fe4681dd28',\n",
       " '06fedb27a62aac78dda4f852e284d09d264844f8',\n",
       " 'c8a306ff10672228ac5a256fddc67c4fdeb8c0db',\n",
       " 'b95d96bc223961d34083705111b29df984565ed1',\n",
       " 'fc771b8738c70d20386144674b04a3556997386f',\n",
       " '65ddab1404c873a21975237f08be1285f3d0fb21',\n",
       " '0e7875f59e4610c19f318ea6c721043b57cb57e5',\n",
       " '1d66031d93caf688d4c6ee92b2bb188910b9155c',\n",
       " 'c3e0fd442f43501a4761c880ef8a79335a7028b7',\n",
       " 'e5b95c50756ed9b259523b4b436313d36681b660',\n",
       " '86dc8954b2d5ada80cc9bcbf038922f102cc7742',\n",
       " '9cf95943e65dd95156fdf365007caea14fec0d27',\n",
       " 'd6fb60325413276c34f5accbcffb9928e04e86ba',\n",
       " '825546fd7a3c942b51174460e2549aba09ecaa8b',\n",
       " '78983b899635d796cd4cc06271b908c5d9d6984b',\n",
       " '8b0870db86f591b309562618651955805fce088a',\n",
       " '6fc991dbc1714b425d11b4de3d9d247d21d77c0b',\n",
       " 'bc94cea0236e9f944048cca3befbfec29eafb695',\n",
       " '768b8801c9d4c1556c50769c24638e82be4d3267',\n",
       " '0b74af5233b693226c86736ff796b91b3e60f50b',\n",
       " '6f8391030aae4c818180f54b41420fe34ed45588',\n",
       " 'aec91dd8257ad29331ce9a907ed40dc2bd9b846a',\n",
       " '18dacf9ead8dfefcd36ecb765509ebfb6f88abbd',\n",
       " '1afd2ce74e1b60f7e96ce31dc34873c560c58f85',\n",
       " 'aa7e34b8283ef99ae68bdebdbfe7550ee04b0503',\n",
       " 'c3e51cc7514d1d6e2416ff00564e87914c5588ee',\n",
       " 'ce075b0ef08dc21799b3976a21cb7b3a0657bd88',\n",
       " '6143e3f7de9fcb0c94b2370ae1836132d5c46a27',\n",
       " '82e2fd462b6f9bf94b5000f201f3141689183257',\n",
       " '781e9f69c290e9c487f5e331a87b089120fc401c',\n",
       " 'ea5e08f3a1e39591f565ed732868d209c98f20f9',\n",
       " '437bc8b625e50857edd8f4377234f0a7e66a62f0',\n",
       " 'f9c6c61f45037a5048f2e225647db6ae472f913e',\n",
       " 'f8c9d0823eec7fae1577709121138de83b3a55cc',\n",
       " 'ca0e03e72ec76d23701dde046a662b3c625becbb',\n",
       " '1d987ddbe56d32e04c6f73756671c8b21eb9def3',\n",
       " 'aeccb1d53e08adcfe271d1e4b08c0a2cdc3c42b4',\n",
       " '74d8a800d73fc68a398f92ed0536912d1b7a32f3',\n",
       " 'fc9a3dc93de4cfda1819bdbb40025fd501b0ed51',\n",
       " 'a6887762d5f75fd980b4d0a24bf727bbc1969501',\n",
       " '6a0266b1029c398053f4aa9f99b5f0526f31791c',\n",
       " '246eb5587f9d186695769198268157037b34d259',\n",
       " 'c3506f167166a783254b5839943c6441e283b300',\n",
       " '92827883dc5dace1c7aabfa71c86ddd85c02666d',\n",
       " '10876280fabbe166d638284ab92690e0f660948f',\n",
       " '4f6ad3703504cade343c7ff1fccbba89a5006e4a',\n",
       " '708a0e288f992e28d1c374a4a4de9ea95d1fe508',\n",
       " 'edab768c963568a4a6150e9216172bb00915c65f',\n",
       " 'f0aad5f5abe17f1c5a50a6f2f6958b40cf43c711',\n",
       " '91e7c319207d0a253f9670beacd661cbcb9d34aa',\n",
       " '97ead728b450275127a4b599ce7bebad29a17b37',\n",
       " 'b2e31539f68c2c278f507fd6ff8da0d75ac67157',\n",
       " '3848900d69ba8575320201dd42f8f9264f477386',\n",
       " '70af3ee98c53441d9090119f7b76efb1b6d03edd',\n",
       " 'd4fad9e85b3938a6bde1504262d58239c4d833a1',\n",
       " '0babd54e6ee999b4cec3ab565e4a133d9ea3d95d',\n",
       " 'ce7da335fdb72401cddb1844eb04f7f88c4f65b1',\n",
       " 'c4ddd566d34092bdd8940924bed6c3f0a5f4b3c7',\n",
       " '9485a249366b8a07fb7c83ce0f597fb15e4edd3d',\n",
       " '30fabfa4999349f6fbb4ee00a9ecfdcc0f976ebc',\n",
       " '0769933a17b62d764cf2faa8a2480e53f1f63a3b',\n",
       " 'e5a1d41e6212951cb6a831ed61a59d00b7ff6867',\n",
       " 'c89ecb1eb9f139b397fe8e8ceb04cb7015b80be1',\n",
       " '1487ec79a68999fce215b57475b8379852136e44',\n",
       " '1551899bc495b987e24ba86e4e9402ea720c2714',\n",
       " '990334cf76845e2da64d3baa10b0a671e433d4b6',\n",
       " 'cf2ba5d3aa207c3cdef0ca906cbf0590ec5b5863',\n",
       " 'cc4a4f6032d77f5f14a127ad2fac38f2ddc80d91',\n",
       " '25dffbbef0f782ed3108982beb0c72a0b602c38e',\n",
       " 'fbfa9601621ae1a607d77cef062521086c26d029',\n",
       " '599df1a14da565c220b5c143b5b145b1ff386f6c',\n",
       " 'b60630911d7746fba06de7c34abe98c9a61c6bcc',\n",
       " 'ca78cfa04f658f16fdd1b88a446a4d6561c7ef60',\n",
       " 'df1e4ca68d7b44774868cbb72f85c9fc654718b1',\n",
       " 'd66f424e6edeaf1aa40607b0b60e3b4796b2ab3c',\n",
       " '3b5beb37dfec42143478f7e583c2517bfbdebcee',\n",
       " '451be59bb2a78d976442faaec7be2b5695d49e3c',\n",
       " 'f449fadea0d9c2d5f99e28df4b48ed6272bc8a49',\n",
       " '9503a70656c55464a0f3cc34756f1fd58f1ed1a2',\n",
       " 'a4776414a435406a3d6cf98110b4b83599efc931',\n",
       " '084368eacc23034be568b229adf978e0b54fe6d2',\n",
       " '1aa5d91ed13e2befe58287a6f056174969f9defd',\n",
       " '1952cc23f3c15162faaf530d1bbd6e67ee7dea94',\n",
       " '0a4b7fff218ddbdd4ea952f26313c837df8f8e44',\n",
       " 'c9ecb76170b612e6208d456cc281724c9fea6204',\n",
       " '8f5e2331fc45965787c4987d944c95cad7c536a0',\n",
       " '21bc0ade68c28a261afafb0d7987830de3d91c70',\n",
       " 'bd641193d80be229b1162b8e58892ca77150154c',\n",
       " 'ef970ec926d4d0ed8e06c1a115c9456fc87fef95',\n",
       " 'cba8dabd358afa3e5624fb4ba857d33344a09704',\n",
       " '0c0d293e99cd60f033eecc8a1dfce6c22b3282b6',\n",
       " '88d04e9846138b6969741a1f7f5eafdd8130caaa',\n",
       " '47cb5cf743f0688ca64fb3c162596897de90ee8a',\n",
       " '5873ed7d5062e58c7a1186b64b60d92824b656a4',\n",
       " '3c62a34ab7e057af8d253f756abefa807f176903',\n",
       " '42990bc6645f53c89ff3a7e8ec98d1cb93fec58d',\n",
       " '9b908e7b0b2fca2487d927919a38b8e7daf2a20b',\n",
       " '6e0ba85416d79cca3f7f69d250fab52c48fc5752',\n",
       " '8e64a7d58887ab68f5087925b6143da7d12c3d2f',\n",
       " 'b5d9244de066b6a5991576d326ad36cbd3c8c790',\n",
       " '998754041dbbc29dcbffea1ed83914c322a044c6',\n",
       " 'c07614ec63cf82705ca5acb2174e7385fc89fb7d',\n",
       " '493d409eb2e087752d2c0d8ee395e141e84ee335',\n",
       " 'eb1d438e7aca8600cfd87d7b0ecfaf36f36f5c37',\n",
       " '07bc142432d1da96d8f79e5d639ceab5be938a03',\n",
       " '68731c68773b117250f04509103031109b222d27',\n",
       " 'f3fe27b0e10b2498c4efe6bd64e1614aee5cc251',\n",
       " '1139d84c287ba1265cf0a62a2eee1b3245c0f0c4',\n",
       " '43df0e843b2cede393bb64ed953c7c41391246aa',\n",
       " 'e5643580333ee926d8abb008bdc900bf895cf46a',\n",
       " '00432309c1125d3b99d27c686f8da28ead6f7cf8',\n",
       " '935ac6c1056393d1bd67d0313d6396176982a8fb',\n",
       " 'a7fbf06312e2e137c609206f2a582f6f4d7ec902',\n",
       " '67a2268327b3c00b22c9733d26de45884aaa3c48',\n",
       " 'f9e1af842033d32f02684e3bb07fb991ba7edfbc',\n",
       " 'fa562cd4a1e794273780296e77d9a72dc1dd9433',\n",
       " 'edc4dad5b4ca0f657eae18ea20dc7acad8642a93',\n",
       " 'c918eda4c423bbb9f7c4e125dd782e506bad7639',\n",
       " '453af78aac27e446744c645b97bebc6761a1b83a',\n",
       " '0374a75bb69cf7f2d44e5427b6471244ac9b2c56',\n",
       " '06b03c914c143fe2a037beec7ffb962ed7f5d868',\n",
       " '83f58b5f5661e0bf3fbc7cccc2b10e4b0f9d354a',\n",
       " '8abe9a27e348b709994c41516dae83f7c65f2caa',\n",
       " '3d13ea792022cfae04f1c3a8e255346d34b34b2d',\n",
       " 'c85dc4b5fbc9656bf497b423e8154b5ceeed59af',\n",
       " '461ccb773ed1b7cf95ec5be36200ce1b73eddd8e',\n",
       " 'de40f08c0fff12367e9bb2de6095f49b83ef8354',\n",
       " 'a8de5528bb300461cd13e1298c10bf1bc26cd56b',\n",
       " '418e9d33de1eafa6bf6366d7196971bb022d4944',\n",
       " '9f43a58e3305fb9ab90a85c5bc88c32ee0ff31d1',\n",
       " '2bfcb2761c812df8c76100bf5e835cfdc86f7bc4',\n",
       " '59db2f10c6c64684730273ddd2f09e56090b0ac8',\n",
       " '4924c2eb4b5cf9d19aa157da957cad11cb70d366',\n",
       " 'f174631d878ac4a54aaf87db9bce73b8b6e73c38',\n",
       " '598edaa47d1c070f5ab8a3d0129b39c2e7b1261c',\n",
       " '1e94f1f54597f7f65300712ae97035e50ff3bc9a',\n",
       " 'c2730dec60145d9a723b1f1eb083c87af42088fa',\n",
       " '2eb74505ff56d7fb82b0011155bac4de91bf8ac7',\n",
       " '8353706c1ff8349be80e4e6b3922b15d2c0fbbf6',\n",
       " 'cb2398c5dfa27cf984f7348bb9fa86942335508e',\n",
       " 'b2296ae33d64464a6a0d76fa2ff92a68caf47a1c',\n",
       " '7bc7d7e9f16c9a6e669224f3bdd6e95401493c45',\n",
       " '400e746bc8027c4b5f915cae6123cd1775484b4d',\n",
       " '81376ceaf4d51828b897031a7fdbd8f42dcaabf8',\n",
       " '01ecf64e5460a182866ca1a693681d4a281496a8',\n",
       " '3961b5d740fcb0a54ef10dcf3f41f18576840acb',\n",
       " '58a97a72cf4f636da63a0be5a5599048a52b2fca',\n",
       " '4d5196dd56f12683fde915ea6e8e2e6d24ca6bbc',\n",
       " '81f687b63a6a0627448279750c1020a0182308ab',\n",
       " 'a640fb4a11fc767f4bf801f7a7320b92efc807d3',\n",
       " '9f3b631541793aeeee80636ce6a9da667d719544',\n",
       " '7659b9a095f9710c85243fd1a506c62263b91a6e',\n",
       " '4fd136b900807120af9b75bbd71b88eb20ed5a88',\n",
       " 'c35b261f1fdca6cfa51abbe74c9cf942fc25d0e9',\n",
       " '353f0bea398b4423ef5c8b917db9e1ff1cc7496d',\n",
       " 'e9868194e9f266ee357498a7caa608b8a35f4635',\n",
       " 'c5931a1b95e43cfa7ed9d3e908caf7917bd375a9',\n",
       " '635e386ddb49eee1a16af602faedcfd4703a7c6e',\n",
       " '441b5b3ff3ea817a4ef21438cdf1c1c2a2b7377f',\n",
       " 'afc0e1abb3a83ef9dc3ecc1323560c92dc09a229',\n",
       " 'ee76f21c11aaa350d480d5972877eb1c11a73d65',\n",
       " '4bb3bfb33d617fe54d5e5366298bf9567c49f2d4',\n",
       " '97e67c8350b9d386db4cf3dc42288b02f3987233',\n",
       " 'be276691aced130f58b2aeec549f32f374c84d5e',\n",
       " 'e9da10eb4347fa47e67a602ae3e9181bee8f06da',\n",
       " 'd9f7859328cd2d384e24ab08d6652a4d4c1504ff',\n",
       " '5fe89b00b5e41520e2acec78a101e474f54c1903',\n",
       " 'e9287b896a1c7360567915c3932b8df1ee4a81f7',\n",
       " 'b7622a46f91421cd31f9d28e8be39d86e72547b1',\n",
       " '3e2e426de00a76fcbb03c4e0fb6492e0ff475919',\n",
       " '1aa2271c2a5fe2f7c69556334c4cf8b6e008c0ef',\n",
       " '4604f4f6f3a477c73c36b04cb15a39b44c84f559',\n",
       " 'cadadb857fe18932add58c65a33257c2fe34fae4',\n",
       " '825bc9bcb71c7f10ee2fc71d38db42d949130086',\n",
       " 'ba65a2a999eca43120d059049de846a85f9726c3',\n",
       " '3261ebccc1ef892cd5a8e40ab70430ea202fa009',\n",
       " '0cced0ae818a0c53668642f98b5f8f5826fa249b',\n",
       " 'df0e12d1fd186d15b34389985dfaec7ba19998ae',\n",
       " '59a3fb474de2ad83cdcc9f0659224ed68604d3c4',\n",
       " '15969dd8da470161ced6c6e65383feb8ecf2837d',\n",
       " '078d2f8c370bce64629f14bfd177f6fd43a10074',\n",
       " '5d15ef16c04097d5ef009673332536b535d7b278',\n",
       " 'fd7dcbf59916e71cb9dcd3f70a63600919437017',\n",
       " '401f918176254d39652e5e98b280d3155b3b79c3',\n",
       " 'c81c07ba11c3bcd0fe25ff856beaa492098fb47d',\n",
       " 'e312889d29c6f3a5bf21c26d2d373936d89b1828',\n",
       " 'efbb7f38a6285d88dfea60917152a94c2013eb32',\n",
       " '76e6a12b291f330fe593d9ad22b427b8af782c0b',\n",
       " 'a41cb830ed6ab008e260978edde7ab1577b611e4',\n",
       " 'ab7c11a754ebb870aa43d153a93478962ac2678f',\n",
       " 'c0d493befc368392a51a4f975aa4c271b2cebb0a',\n",
       " 'e1f3c58d3b101ae9452a210297dd1150f056a01d',\n",
       " '51a08c3bd12920cfa4971497a0b879f004777ddb',\n",
       " '9badd26e11967f16adf3eaa77cb9e86b90d24741',\n",
       " 'e4cc18bdc2009cc140d465c89b0cabb3addd8102',\n",
       " 'ad553624f854f7ee6835df19e4ca6e85b5c1d6a0',\n",
       " '31e17c7eb97100831cc96388894cbc62abbd64b8',\n",
       " '0364141d6f16fa7118e513b98e06cce6488a6790',\n",
       " '616e1fefeeecbae00246ca1ab5d7a38cda4b6369',\n",
       " 'a84c319fef32b2514af9541576189a1735aac507',\n",
       " '73ec19859096b1a03816245b5230666695944939',\n",
       " '88c307c51594c6d802080a0780d0d654e2e2891f',\n",
       " '06602d1f75bce482814c5686ccad96a5ab511847',\n",
       " '5f47e42605dbefa91a5f263f07e9e96c0718d731',\n",
       " '0b0a1cd432413978e4ef3d0418ebf3bb07af6c7a',\n",
       " '52376d375e2d1415788cc9aa571ea6c4acf7ac5a',\n",
       " '36aa4753175b201880b373c23f36e9d26e5cc676',\n",
       " 'ac4312c125bccd155f1994a0e0d172aa689f78b3',\n",
       " '1fbb5c3abd953e3e2280b4ff86cadd8ffc4144ab',\n",
       " 'e0a126c17ca50271bbdf051642d7e9e23ea9fea7',\n",
       " 'c0d94bf82a2b4ba08c6d1b7e3bb3927eaea30cba',\n",
       " 'f4f4dfc97b16a81a17b62c05e838fa7f5e8c7b8f',\n",
       " 'fdea9c3d5c1afccdaac281e236765a8908c93d05',\n",
       " '7ec5440887af68b0473fcf570af44d3d14b5831f',\n",
       " '38b091af87eb91912f622d70bf3040e265467ca1',\n",
       " '48b7890e1d7233bc5742e0674567c2ee444e858d',\n",
       " '6d74edb414994352e270838943e7b1fa4b6e1230',\n",
       " '48a807fc911c156e8c4e6eeecd2d17917a2ae63d',\n",
       " '992debc257111894fa8cf8e209a2a2c3dd1c1005',\n",
       " '4e4aaba95b5bebee8aac64884b0f56ae9ddb79cc',\n",
       " '785b5996bff4c9eddbe578e431b8077b03eaf2c6',\n",
       " 'fc508e25802e9907f52ff7bbbcbc76903520e19e',\n",
       " 'dd555c20c59bb34a404272d116b866a58b9a5f15',\n",
       " '2998df057d2245a2244360b3cdee18eed8c10a33',\n",
       " '0aef29f2facdf91439ba4fc0aae844287fcb9e82',\n",
       " '4cf2981d47472e523c0e8ade2547e677a6b5edab',\n",
       " '660e01a53591e994f6249df612768472373edb75',\n",
       " '2e13a3f80190e40fefe3f3e75a68ccdf31c59b91',\n",
       " 'fde47ca2d3a08e392fae3b7771d7946ef50ea4b1',\n",
       " 'cb77f6bb719fdcbde0df2f356abbef8e85a34370',\n",
       " '669ccc72c88b6e3cc80a9973728f5ae8dc2b2e43',\n",
       " '40cefac0c6e1363a6ca6f3dfbbb1d370c6971157',\n",
       " '61a10ab4bd4acc7f090c7b7db2614e28ad509bfc',\n",
       " '48091883137b6f7b756a3e57c677f667d1e207fa',\n",
       " 'b23070d4b8dcff42759b947edc2d5ea7bbe2047e',\n",
       " 'a0470d3a08f3720a8755d1202f12d617daf93362',\n",
       " 'fc6973ab535489983effc19a7a7be4392566a908',\n",
       " 'f01a07ef5d848ee6ed48224ff3d86db353c2ead9',\n",
       " '9b18b094812a3b9b7e2bedbb9ee29d6cf05ac744',\n",
       " '3e7a7cf9f50ec6d5be4671aea081a3d865f8208d',\n",
       " '5bd7012eb3d843e0825995a36a127756fdb45b80',\n",
       " '890318caeda7d76dfbb5f0b1702f64d17b1ea345',\n",
       " '58d88b88c5ce1a0ae29b5b522ccc5b249a7b0248',\n",
       " '08da7f399518a7e9bbbc029e07c07ced8bc0df0f',\n",
       " 'ceb38647750d3cde028ac24a462b8016c86decc7',\n",
       " '70eadac17dd414581c22b14ca49288a6c7dfa26a',\n",
       " '4be293210f1a0dc14cf002a0069cf61d494d7eb2',\n",
       " '954174aec50b0ee921b8088193022c46f5400cf8',\n",
       " 'e8118011f4bd6fe3d6f4299e50a9398315ab4906',\n",
       " '20217099318328a3b2a470caf50e057fdc02c522',\n",
       " '4154fa86468244209a0e61622c8b77599f7fb893',\n",
       " '57bc18ab16ba480c4973e6c581de35f1b8e4e1ad',\n",
       " 'd03b9d5081ca64ce4db2f2dfb1e8f478c3bd44c1',\n",
       " 'bf85ac3b7dcb2901526c749e83bf4542042d50ef',\n",
       " '5caa6320487fbc7007ac25d874dea8072b6ffa4a',\n",
       " 'ae69852fd9fedb9e0a56866cbbf9d30bef8300a3',\n",
       " '4eca99b26e11a1d5f46d8b5e2c99e8b3c6ae4c31',\n",
       " 'c30f76e08c9682e230dc59b62a7d4affd03e0b9d',\n",
       " 'a1a8a4c5705f6d71ef4bfeaadc47aa3e8b045326',\n",
       " '2594d354363c9ac10c641074595aa6c2fb8bfa5d',\n",
       " '9c5b98f009daba6ed44e332550a7a2df0753df16',\n",
       " '7efe7808a2ca4852ae25c41c1e06ea8b24653b35',\n",
       " '9d2bfb28ea197ec1a0f4266aefde2f9129638193',\n",
       " '8968a6fe206a74989a5156f3f67de3bf24f44747',\n",
       " '2cac9d4521fb51f1644a6a318df5ed84e8a1878d',\n",
       " '90caef685c144c7dc9417e7c9efe7fa469c54041',\n",
       " '2dd9a3ffde3221d0b43a7b12db3bb69f03a95a96',\n",
       " '8daef4b00c93f0d2417e7e3bef72b825f2e3b7ea',\n",
       " '0812cc28124aab6ab07e4fc2cd88f9bbc593c513',\n",
       " '26b426602e7d214ecf4084bfa488c7b5ba7e54da',\n",
       " '8329ac5fd842a1b61eada82ba27600d5d9189111',\n",
       " 'e03c587fc8f60e0eff6e6b829d229fee2c1fbdba',\n",
       " 'a32d7aba28ce9f130934b8e892df5bf2cad97e21',\n",
       " 'c9c27bb00f4135ac6db128e3478d705fbc16598e',\n",
       " '4c187332ba519e50feb6ca1454dd02682a0a3643',\n",
       " '76f43ca313f2619af0ce55f5a29425e26918ae11',\n",
       " '7408b6807010c6df39b135d317e9978491c6f22a',\n",
       " '22b280813666a15689d765ff83c12825b4b192b0',\n",
       " 'f3af02c6647ca476a1686196c0a4f8edc10bc37c',\n",
       " '95a82a67ef9c3bb85d2030b5fc50699a9325299b',\n",
       " 'df0ddafedde01b8f5360c375f837cd13efbe8943',\n",
       " '917d74f3b3f43051fc8fe677ab25eec28ba928e7',\n",
       " '13fe53d8aaff8a2e298bb29a3b00675b70e4d0da',\n",
       " '78535a42697d9d257f45ce7b99473b82d528c26f',\n",
       " '6dfce6a2338e1119333d7fbc8536664d4ffce807',\n",
       " '8064f19f6f07e471a5ed84e3e862ab9b0763185a',\n",
       " 'a5092afc0083adf3a1082e508e167e6ceaa358d1',\n",
       " '8f63c45c61d451c6da0dd495dbd3d98a658d3153',\n",
       " '8d59c2ab035ba131bdca5f852bc3b15a2d3b9d50',\n",
       " 'e77428b22a637028d4c1a42f6ef16668be22ebbc',\n",
       " '280cf20c007dfd3e447d8dd0ec91cc96c2350960',\n",
       " '758d62f1d87c76dd9f42ccacda9874918d34d5e0',\n",
       " 'eab997ed60ef1a3070f4b6c2469346943884e434',\n",
       " 'b0e59228bf2f0fcef73a69c1f7e40036c65ee6b0',\n",
       " '1b6e72a8379b1bdf4b68260cb50513eb10daed08',\n",
       " 'ce0c1f454f319b832e1cfb4ec1579b59f6fa6637',\n",
       " 'b910585203a7a7a8ea17ce9a4edddb8e9c2137eb',\n",
       " 'a60ff0e31aa2b79fdc2095a76fed51974aedc88e',\n",
       " '1d5218912c410bf94bac2ea6c0e49db0306d4ee6',\n",
       " '6f911f69cba8ad28d4f059eb462eebd95345920f',\n",
       " 'feffb13918a9e598eab6d0a4ae0c959787b6d960',\n",
       " 'dfd6beed49440e2a561c5ceb10d9d6d220f7c72b',\n",
       " '8afebcc9c9ffe3086aaee2c7b5312130925aa653',\n",
       " '8109f6bd336261c84fecd743793dc9643b2b0f3e',\n",
       " '005dd52696c4ee5f70927564ad97210b555803ba',\n",
       " 'df05e932680d4280253552bba38ea38eeaaab337',\n",
       " 'c825b92effcf400ab1679071cef8233a5a6a18ba',\n",
       " '70099a24c7795861d120469186b55d5c71eb07f4',\n",
       " '3cfff5153817eb73898060e4d7df4393cbd096a3',\n",
       " '468b95817ecf38a91d68d1f7fe0691d393ca82b2',\n",
       " '1f4445ba018dc5361529eb4b704cac0cc013a5ba',\n",
       " 'fc33fe1e0d24720c683f08f66e0e5c38f112d175',\n",
       " '52988cb46976ebb9f9d4f30af1f624a5ba8aea08',\n",
       " '095b979ac75fc70468f6894369dae0bcfc564c21',\n",
       " 'bcc87681c8898bc631502509bef63d62ce0f86fa',\n",
       " '7a371fb3935931a94bf8e26aae4b25e9bbcc7e29',\n",
       " 'c37909ab29f250e1fb316e886d715e1a76ea9693',\n",
       " '96743201dc771df1829f061c2648fd0ee1a70e59',\n",
       " 'd1cbb4331d4983a23ad19943405fe087d488823c',\n",
       " '850f4196a6b5cd988178d79dd64552d2288a70ec',\n",
       " '502113bb3e6d4213f31aabb851e07d14c4f7dd09',\n",
       " '5873b77b3d784d9e1ea7447ddcaaa5388f16a4d4',\n",
       " 'c7b8df8ffab8be0a659f62970aa82d352d900c79',\n",
       " '0022e72be5afcf0db81944d7ce34a89a7256ef39',\n",
       " '788bc3c425118f29dc829bd21d421ccb7bc39c09',\n",
       " '16de931434ce34ecc786cbf21f44ecb5dd221012',\n",
       " 'e8f7e63ef52e6c19a0933cf7d920fcc2ad60eab7',\n",
       " '60dec3d28bd9ad7104608e5c22cb54e5f029fbd8',\n",
       " '5f8b6aee5c5afc1b54da6262508b93dc17fadcb1',\n",
       " 'b112a97b8def544c75219287f120dfd74eacb42b',\n",
       " '85a2abf8411f18f249625c6b10070e69153eee29',\n",
       " 'b20673892a08276c996f083d32a11bcb3cb4fda8',\n",
       " 'b82cc3ca66f2a95931c4246b134b3f764bed7fa0',\n",
       " 'c3858a95edae1924d882ea7fd6f53e6ae9d1e5db',\n",
       " '8961d25c0856afda2e9a468af3a7250f9b4f2ba4',\n",
       " '61e987b06be702b0c89463e97640697a1d1864fb',\n",
       " '004746a32342fe2b523a3d2a6b27f37837239978',\n",
       " 'b3105f5936655f98dbfe09860d73132eeee2bb34',\n",
       " 'f3ad7e97274dc130393d120f2eaeeb83f6125cf5',\n",
       " 'dc4cbf25503ece9707cd0fa9c6fe992a74495f57',\n",
       " '7c27d3154b1b93cd139c42a5b8c39006bf811bdd',\n",
       " '812034099dd66df95a9f4ff741e17df62916ef4c',\n",
       " '4cf74aaae29f9dfbee612d003f14171b2220f81a',\n",
       " '80b30430b4b62a99b77ff8413a1ac762ccdd1ae9',\n",
       " 'd79a19b72b58b6787f67e9b4c77dcb16d150e1fb',\n",
       " '655ea709e38a43f9a7286cb12b7613fd2407cab7',\n",
       " '2caee7e58545c059263d58a9fefe6cb627c0b30b',\n",
       " '3e9b3ac1e34129bb4cff007085ca1a7bef306a56',\n",
       " 'e8cdfbcc64559b971d4a8c1791812bde0346617d',\n",
       " 'e9723b3f2b8c84ff4e9434ad43f195259ccafc04',\n",
       " '085c663642dfc6b68f1cfb676376ba8a65514beb',\n",
       " '90486491e183a544c48e2b1bd83461a1e99d8826',\n",
       " '583cad76c8eee8382da8b61e3ad33fc673f4d5f8',\n",
       " '6cf915c77825c6e5b18fc90743c58656391f0d6b',\n",
       " '3fc27e5945aeb65c126325d2bfd4b43c8aab08e8',\n",
       " '4920f7bec7c401af1e9f61feeeea1075b49a4e87',\n",
       " '23e4844f33adaf2e26195ffc2a7514a2e45fd33d',\n",
       " '138ae0d2bad191ba45ac898db09ce88ffbc1ef80',\n",
       " '43c60670fa8504916fbb7824f41831e932874894',\n",
       " '61c352957333af8e1e1647cef92105acf6ab1715',\n",
       " 'ac50801574f7c97f1cf8f6718a9ff2b3e18c2dc6',\n",
       " 'cbb34936c68461943e77850b3e76f886e9f85773',\n",
       " 'e7a2586d6d11c5864ecda462b774b18d3ce70c60',\n",
       " 'a477778d8ae4cb70b67d02d094d030c44d0c6ffd',\n",
       " 'de69ae09f4464e30fc78792dce1f91acea663780',\n",
       " '1fa3c6e4d2054cb73f23442170fa3b84082e5970',\n",
       " 'be553c2582ed0e0b1e6f33505f59af61048a79ca',\n",
       " 'c29c885a96d4e64f7c6c523efcb50e9aac30bc20',\n",
       " '8e7822eef3c693ffbeeb8adcdc0870cd08969b10',\n",
       " 'dda30d17d968b756ef21120aa688d849ac5ca3d1',\n",
       " '92f67be3d1cd6a6bcd9dc585acebcc9769b7674b',\n",
       " '6751f1e43903f734a40b78204e0c7df08e02c494',\n",
       " '3719cf1d86b93718d50886834ceaecd1c64eb1bd',\n",
       " 'beb415c18e5c604916f9ca3ecd99bab9f75fbcc6',\n",
       " '310336d0cd8292427a3ec214f46e3a5a8001ab1d',\n",
       " '13fe71da009484f240c46f14d9330e932f8de210',\n",
       " '3f05f181f8a6f4eb124adc305dafff4fc9b58b0c',\n",
       " '821d418c33ac648c3d134682da86db320a270706',\n",
       " 'b053d70cfa69d4a40f8f9e95828f75e5a8cb9be4',\n",
       " '5fa973b8d284145bf0ced9acf2913a74674260f6',\n",
       " '033f25ad905ef2ed32a8331cf38b83953ff15922',\n",
       " '71b656b27923181095e3bf4d32d41c1ad1ea15e9',\n",
       " 'feeed89552ba6cf825624b8e7a6856ef73caa6af',\n",
       " 'b53dcbd6ef0ec429d2f5f0163f93d736958ee1ed',\n",
       " 'cf0ef537e998741e97f03eeacb88b8414a619390',\n",
       " '51104ff136cd62f989919c390075e30e2f3b9e21',\n",
       " '34263fd001524c342b74911ce22f8b78598a9288',\n",
       " '9943c07255b16178cf6b3a731b3fa25047ea638c',\n",
       " '2f7775d3270014aaaf6f601a7ee5b0cfd3f156bd',\n",
       " 'a3a753ace21db155122021ad5f8056df949c5600',\n",
       " 'aef32e09f5291dbf002a9c26b0cfa1a2f4b1fba9',\n",
       " '679731edaf3ac9d9b2e0d53b5da1436099524757',\n",
       " '02f5df1d4141574b5bbd4b56719b48af111e7154',\n",
       " '871f5531df3692d24f8581b7e913e52d6e71c288',\n",
       " 'd06164bbd3d56aef03e780fa800093f097fcdd02',\n",
       " 'ce5ff41aad0bf20e52be64aa142e4385424309a4',\n",
       " '5b5c61de2cd85aa7018d8187293a868bc82718d1',\n",
       " '3a96839c8e3b97d69be84ef610f89d41997927cd',\n",
       " 'e3dd61502b40c4cd39995dfdcf412353582769f6',\n",
       " 'ac8b6f00b10886ff81b87208638e488baa5dd2d4',\n",
       " 'cdfc7125d6526247bd94afdd6379b3fd6fec5674',\n",
       " '128c718ee2ecbb1a1b9fc20e8a60f87f5131b18e',\n",
       " '94cdaf7ff858e1f17b2af79b97113562ebbc5739',\n",
       " 'a450d8cab6ec39003fb371a45625db7959b034e9',\n",
       " '5e9e3afeea446a2ae19e3a8e0678f08b73b0b36b',\n",
       " '80792ff44958a2d30ce60869fe03c4c1c36e2d40',\n",
       " 'd76876495f20493243bb862fce467534226c8bd5',\n",
       " 'c6969050cb51de2e6e7b4da1a11f7561855ccd76',\n",
       " '2a5330e467807ddde23aa9326e173203c152470d',\n",
       " '70559e2ec58f4f2f9c9b30e41bd972584bfff68a',\n",
       " '64a4b0ad9f8497409e4d4378e1da0fe1b17464a3',\n",
       " 'f5fc2004483e7a38e0102d8d24a48681652114d4',\n",
       " '706e001ba2467d2280e5ce0eccf9d398b30d0c42',\n",
       " '126a18b7f6d1557b685cd732d1377f45933e72f5',\n",
       " '2c64aa10d1a290e57fbc3468f5a1380d3a135d88',\n",
       " '59b6d25b2e69f6114646e2913005263817fdf00e',\n",
       " 'fc2bd2a6fea40bb8a5fe97ab515730e137dcbcf3',\n",
       " 'e6b6e4000be0e07b7c59ac10ee2d320800bb84e3',\n",
       " '5f7a1c8575afb53240423aab1a0a7a9e7ef7e6a4',\n",
       " 'bc6dd37a87f239ae2f76a65bfb770e93ec2866b4',\n",
       " 'b4a150261d780fe8254b605136bd819b6ce0a3d7',\n",
       " '39cc240b6e359071fe1ddaac22473eb354f85a00',\n",
       " '3623cf7267263cef2a0bfbf9b04b10fee7851ade',\n",
       " '33eb4dcb73c118afb1cbee4f340d4ce77a3084e7',\n",
       " '4e2ff9c522830d3fd1d9db61b8bef0b1a1e9afb5',\n",
       " '442e9b01eac0222de8f4e7f1e8d4d56570607281',\n",
       " 'f965c0447ce22c06e8bb95bf4429d9c93be03d1d',\n",
       " '9b675bf14cb0455d56db9dda8b4eec53478f8537',\n",
       " '1c5bc16c8cffc3bdc6bbd49c39d98e669468e727',\n",
       " '126cd46c464ad3a9ec28ea5af6e45c167469c76d',\n",
       " '720124783790d7d173652fc061086c4fe472bf02',\n",
       " 'f23693e451419bba0bae2fd020119d6e43cd6c70',\n",
       " '403354452dc74744a34a342ddd1bab9094a86616',\n",
       " '51799e8762873ec3077efc5462cdd69463e53d62',\n",
       " '02b10005d14e370389a4280bb86a9316dc27f433',\n",
       " '26c39342628e5b62778956c2bde20d9b965a46b0',\n",
       " '5a14c18456fce3f7b418d848a1a589789c0aa691',\n",
       " 'b1bf1a61b60184269c1bcb5e9c156bf6bb3f5404',\n",
       " 'abc6ed6d51441fdd742773e54af273d6ac430f7f',\n",
       " '987c8fe86342362c6e185dd89c398446caf96693',\n",
       " '83bf36ae28f9e6730898fe6445dd43abeb6f0e1e',\n",
       " '4b76984d674f23e6ae1adcca344bd0e6d28b5d7e',\n",
       " '915345823ce1f8f8ced9b6096363d4ed4527094a',\n",
       " '79942efd43623874ce52436c20b6be659d3e932c',\n",
       " '52049fa08d1907a1daaed22f2ac9779a093bb0cf',\n",
       " '6a714159fd367d904309544632d7b4633d9be119',\n",
       " 'a59bc29ee7ef92796078bada375242e176fecfce',\n",
       " 'e2fdd671916d20323623562dc016fdf7dccca93e',\n",
       " '0e98875a513bed2c10f542dd3a2c6a8a7c035b29',\n",
       " 'ac6e85edea5031f5dcd54747e580d557f85e3929',\n",
       " '00619fb2eddb6d68fb49b4add17979a82d40b7ba',\n",
       " '1d520790a54ae0124322db18d1f5d97e6cb3864a',\n",
       " 'd2013319d6a23f3e12fd5f76848997f7a2c845b9',\n",
       " 'bc0e5717002ebec6cd82034e966dd4c90c0bff52',\n",
       " '8a61673d1090c9bb01dfd32439b62250ea6835d2',\n",
       " '6cd8a81cac63274cd6c46c316ee742ea6732253d',\n",
       " 'bec3b522f210c4fdbd7840379a14c9a1dfe90ef6',\n",
       " 'ba47b09f04fb68cd9356f3b4d4cfc50f8feea056',\n",
       " 'a26bf61721cb6a93661adb6ede20eb276245b258',\n",
       " 'c014835a062fb316ce362fd54cdd16a744f55dfd',\n",
       " '4d211b9c76fb0d82c522b847d08b92c1e7204499',\n",
       " '7c0cf2fa4ed7cfb1cf41c986fdc3b82c53177854',\n",
       " 'a2496f2e47e97c9102507adc54afcbf9ba50ccaf',\n",
       " '9168a5f5cc735b34258c228ce39101de32fc63dc',\n",
       " 'd698663a9733c4726c8e210cf06529d88dcd2626',\n",
       " '6be013e45f3a642016157d510d1b7c536f6a9cd0',\n",
       " '38bf6b6bc2d49ea3fdc9b3416189545bc8662317',\n",
       " '7ccf5a43bb9c5b6e7e9de776958d4b925d7425c3',\n",
       " '22fc9a50c7d752ecc90b9144ea1e8ffdb2a45d80',\n",
       " '874b8e70bc560315c21cd2692037f079e623347d',\n",
       " 'f29ef870ad9bdd49455d07906c73d66a77aa6705',\n",
       " 'dd2252b536af50981b2cb22fb71a561502f969a3',\n",
       " 'c9390b0d343f5180f815ada6d01877a40471c9f4',\n",
       " '521786983f4ec2df6739da23b5b4d049987de626',\n",
       " '5340f78a76e843363cb7c76824ee4c91e864e67d',\n",
       " '53de40f627952794baa5f0165a1a5cd992167923',\n",
       " 'afdcd7b9b5f90f51d4205db34768f36a2e271b57',\n",
       " 'a2a0e1eba94fca1c3252ed9e38e956df9a68a684',\n",
       " '8b298ce5f81c5ffd63f5c5ab3634dbfd350a92e4',\n",
       " '78821ed420ead11c47f72dbbac7f67e17ecf3a58',\n",
       " 'b471a6c7e1d45c78e78ea7b06f6f798a905ae304',\n",
       " '49293e5d3ce313c0c1543c4b3b0c416c08668d82',\n",
       " 'e626e53adaf80109486563a98b87dc21f0652318',\n",
       " '035d7396e58cafee088a8e19ed705f810c6e0e35',\n",
       " '6d35949dac3d64ce087c54d200463b3908932832',\n",
       " '19c1787f1720850608598223be49fcbd96e3d1d5',\n",
       " '91aa1dad164eff3f00a64ff88c82771d957ff184',\n",
       " 'ae7940fb89385400262acf1299bf2205c689c460',\n",
       " '005a13ebd72cb06249da7b72195d29d970352d61',\n",
       " 'a494a3de88348dd7e246ee3e7ad9f22907aa642b',\n",
       " '44229bef9966e65e7b13c2c9fe867afd9dd8b450',\n",
       " 'a0ae9fc34a1a5a050f252e9806f0e4f0ff7404a4',\n",
       " 'cb71ea8cabb4b262bacb81b352b0f4126e5d495c',\n",
       " '8b8b4dde735bfe2cf5f8fd7d2d6a4dc145bbee99',\n",
       " 'df873bde0b44e543634d109a7a8b1ba7dfaa8187',\n",
       " '21016fd15568b8bc4b4b37e2ae59bcf324e6349e',\n",
       " 'e558fb9be17dfab1dd942e97b5ebfa3a5c7965e2',\n",
       " '4857121fb3f8fbcb171a275f71206a1c384d149d',\n",
       " '1ef01e7bfab2041bc0c0a56a57906964df9fc985',\n",
       " '3171ec184b5fec0bc7b47356ad74d8598e858ddc',\n",
       " '88efb1ea3db42b155a7c3fd35e5e010c970453e5',\n",
       " '55669977308a84cf0e5fc16822e9c0dcd5e908c5',\n",
       " '7be5bc5112c055d17f6994304031e7972a8132c3',\n",
       " '8fda31008258f57cb73be2e0f782014e4ad60e2d',\n",
       " '2f7fdc33e1b016148738ad6e2bd641dace38ae1b',\n",
       " '495015d21c26eac9a6bd64c836ee3370283641ec',\n",
       " 'a7204c0f53cfe2dd3b20a9168c1c9d48637e773f',\n",
       " '6e565308c8081e807709cb4a917443b737e6cdb4',\n",
       " '0d0c995d3ddc2f17d6be5454c2fafc3aef8ba068',\n",
       " 'f505e4ec2942841f66e9f16964048721758e3f76',\n",
       " '0cba030613ef1b25104cbdacb78abfece2d85db8',\n",
       " '587ac71dab5b2ec2439a40f861e31a034ea4a3bc',\n",
       " 'af1ca7019099f0b371df09ac0ccf955d3fa42075',\n",
       " '7f52068c6632288b39bf30996eb60e720fcd7882',\n",
       " '5e587ad5026687fe2993998e11e04795baf16aa0',\n",
       " '3b91300e91cdc2bfb7f8dfcc1e6fc270707b1e12',\n",
       " '1e4cfe280c97d4dc6cb69138cc370e9d81c13d17',\n",
       " 'a977ec0d86f118e81e05cc7e182e19e995b9514a',\n",
       " 'a9129a27804bac40588cd43163eaf2bea1fffa49',\n",
       " '003fe51f1227293af1a2fbc7ff54ad0f7caf7d7a',\n",
       " '0030709a26cd87b32438e5c656a2f0bffede507a',\n",
       " 'daf3f393616f41162537009e9be2b99e35c83620',\n",
       " '90ab46b9940b6fc31df4bf680f2e5ff7fdfd12cc',\n",
       " 'd42b2147049039953042260c16a4c6563da9f783',\n",
       " 'd40ef8bb2ce8289b75cc38b28b51bd7b2cc352d8',\n",
       " 'e2ece7ea0924b4f95f65587973118bea9a44a3d2',\n",
       " '56afdb65fdef51566696f7098d35ae255048de2e',\n",
       " 'baedca7b1fd673ba73cb9ced5088eb719f299058',\n",
       " 'f8b98cee88d7a57dee6aa72e964afd9a3cf8d211',\n",
       " 'd82dafac7186b9fcdf4ad0970b22435ed5dd7696',\n",
       " '69b9eb7091a8c6e1a3ee16e2a53b38ac59d17fe5',\n",
       " 'fdc5da0717c1412effe8fd978a280e7bb2889a64',\n",
       " 'a9858580a472b1abc9934b65891777f82cb9f0ba',\n",
       " '010e148ecb7d1f20abe56710cd2f2def1c99f996',\n",
       " '9e1c59495a0141f94e4d1fe711972abf9722e7f1',\n",
       " '1f2e8fe19086ef8f4be7808bcf80f3b89ae02008',\n",
       " 'c84af82b12f9e36fd7a7b45a70df828230b46965',\n",
       " '871f1562a709cadad79d3ba299d311f7c68e15fa',\n",
       " 'dc2c0a2fcdaee961f0afeb83a57ec5f41e714dfc',\n",
       " 'edfd4955f2a0c3f7e7008465dfaf00eb1a778f77',\n",
       " '0cc0a195449922503f86e45798b4e927c2499791',\n",
       " '13da9cb2312eae51d44e8bc9cd41a95e45aa524e',\n",
       " 'fba7188c7e2dc33e0cf0d535ec8b8bbbcd6bcd78',\n",
       " 'cedab183ea8bb6304a8eb4f9bbd25253a8f6e47b',\n",
       " '4c76b4c6b3812008ab385db12529da5b4608da20',\n",
       " 'bf9ff893d95b1fa55a82571c8b344eaf0d0736ad',\n",
       " '43f00346363560b4066f8a21886b01c4df5f1345',\n",
       " '1381fab88a4be33c79ac74b05cdecbfadc5b37cc',\n",
       " '0481c445ac88dcf011f6c17cda6c683dbecf50b8',\n",
       " '51b4ff56b0cf1905f17684a12f9f35860c2d8f4c',\n",
       " 'fcdae9f07f3837ecf833ddfac1acc5027adfd18d',\n",
       " '171aff7a42bff9263cb0a63ac0e26734e71f1886',\n",
       " 'ded32fd2046627ba82bcce5ba9cc2472120ffae9',\n",
       " '20caa46918a36622d241dad39085d0007d76b45b',\n",
       " 'd699cf7f1195c701075e09f3afcf1bf38ec494b2',\n",
       " 'a0ae025ccc65212e48cd9c8c64561afb81f1443f',\n",
       " 'a4bdba697bc7411f4c634f42e791dbd8b54a0f5c',\n",
       " '3e238b0a13bf48dac60ef03293adca27fa482fb3']"
      ]
     },
     "execution_count": 4,
     "metadata": {},
     "output_type": "execute_result"
    }
   ],
   "source": [
    "p.id\n",
    "p.title\n",
    "p.abstract\n",
    "p.citations"
   ]
  },
  {
   "cell_type": "code",
   "execution_count": 6,
   "metadata": {},
   "outputs": [],
   "source": [
    "papers = {}"
   ]
  },
  {
   "cell_type": "code",
   "execution_count": 7,
   "metadata": {},
   "outputs": [
    {
     "name": "stderr",
     "output_type": "stream",
     "text": [
      "  8% (88 of 1000) |#                     | Elapsed Time: 0:01:32 ETA:   0:08:31"
     ]
    },
    {
     "ename": "KeyboardInterrupt",
     "evalue": "",
     "output_type": "error",
     "traceback": [
      "\u001b[0;31m---------------------------------------------------------------------------\u001b[0m",
      "\u001b[0;31mKeyboardInterrupt\u001b[0m                         Traceback (most recent call last)",
      "Cell \u001b[0;32mIn[7], line 12\u001b[0m\n\u001b[1;32m     10\u001b[0m     \u001b[38;5;28;01mbreak\u001b[39;00m\n\u001b[1;32m     11\u001b[0m \u001b[38;5;28;01mif\u001b[39;00m s \u001b[38;5;129;01mnot\u001b[39;00m \u001b[38;5;129;01min\u001b[39;00m papers:\n\u001b[0;32m---> 12\u001b[0m     x \u001b[38;5;241m=\u001b[39m \u001b[43mPaper\u001b[49m\u001b[43m(\u001b[49m\u001b[43ms\u001b[49m\u001b[43m)\u001b[49m\n\u001b[1;32m     13\u001b[0m     a \u001b[38;5;241m=\u001b[39m x\u001b[38;5;241m.\u001b[39mabstract\n\u001b[1;32m     14\u001b[0m     \u001b[38;5;28;01mif\u001b[39;00m a:\n",
      "File \u001b[0;32m<string>:4\u001b[0m, in \u001b[0;36m__init__\u001b[0;34m(self, paper_id)\u001b[0m\n",
      "Cell \u001b[0;32mIn[2], line 9\u001b[0m, in \u001b[0;36mPaper.__post_init__\u001b[0;34m(self)\u001b[0m\n\u001b[1;32m      7\u001b[0m \u001b[38;5;28;01mdef\u001b[39;00m \u001b[38;5;21m__post_init__\u001b[39m(\u001b[38;5;28mself\u001b[39m):\n\u001b[1;32m      8\u001b[0m     \u001b[38;5;28mself\u001b[39m\u001b[38;5;241m.\u001b[39murl \u001b[38;5;241m=\u001b[39m \u001b[38;5;124mf\u001b[39m\u001b[38;5;124m'\u001b[39m\u001b[38;5;132;01m{\u001b[39;00m\u001b[38;5;28mself\u001b[39m\u001b[38;5;241m.\u001b[39mBASE_URL\u001b[38;5;132;01m}\u001b[39;00m\u001b[38;5;132;01m{\u001b[39;00m\u001b[38;5;28mself\u001b[39m\u001b[38;5;241m.\u001b[39mpaper_id\u001b[38;5;132;01m}\u001b[39;00m\u001b[38;5;124m'\u001b[39m\n\u001b[0;32m----> 9\u001b[0m     \u001b[38;5;28mself\u001b[39m\u001b[38;5;241m.\u001b[39mpaper \u001b[38;5;241m=\u001b[39m \u001b[43mrequests\u001b[49m\u001b[38;5;241;43m.\u001b[39;49m\u001b[43mget\u001b[49m\u001b[43m(\u001b[49m\u001b[38;5;28;43mself\u001b[39;49m\u001b[38;5;241;43m.\u001b[39;49m\u001b[43murl\u001b[49m\u001b[43m)\u001b[49m\u001b[38;5;241m.\u001b[39mjson()\n",
      "File \u001b[0;32m~/Documents/papers-game/env/lib/python3.9/site-packages/requests/api.py:73\u001b[0m, in \u001b[0;36mget\u001b[0;34m(url, params, **kwargs)\u001b[0m\n\u001b[1;32m     62\u001b[0m \u001b[38;5;28;01mdef\u001b[39;00m \u001b[38;5;21mget\u001b[39m(url, params\u001b[38;5;241m=\u001b[39m\u001b[38;5;28;01mNone\u001b[39;00m, \u001b[38;5;241m*\u001b[39m\u001b[38;5;241m*\u001b[39mkwargs):\n\u001b[1;32m     63\u001b[0m \u001b[38;5;250m    \u001b[39m\u001b[38;5;124mr\u001b[39m\u001b[38;5;124;03m\"\"\"Sends a GET request.\u001b[39;00m\n\u001b[1;32m     64\u001b[0m \n\u001b[1;32m     65\u001b[0m \u001b[38;5;124;03m    :param url: URL for the new :class:`Request` object.\u001b[39;00m\n\u001b[0;32m   (...)\u001b[0m\n\u001b[1;32m     70\u001b[0m \u001b[38;5;124;03m    :rtype: requests.Response\u001b[39;00m\n\u001b[1;32m     71\u001b[0m \u001b[38;5;124;03m    \"\"\"\u001b[39;00m\n\u001b[0;32m---> 73\u001b[0m     \u001b[38;5;28;01mreturn\u001b[39;00m \u001b[43mrequest\u001b[49m\u001b[43m(\u001b[49m\u001b[38;5;124;43m\"\u001b[39;49m\u001b[38;5;124;43mget\u001b[39;49m\u001b[38;5;124;43m\"\u001b[39;49m\u001b[43m,\u001b[49m\u001b[43m \u001b[49m\u001b[43murl\u001b[49m\u001b[43m,\u001b[49m\u001b[43m \u001b[49m\u001b[43mparams\u001b[49m\u001b[38;5;241;43m=\u001b[39;49m\u001b[43mparams\u001b[49m\u001b[43m,\u001b[49m\u001b[43m \u001b[49m\u001b[38;5;241;43m*\u001b[39;49m\u001b[38;5;241;43m*\u001b[39;49m\u001b[43mkwargs\u001b[49m\u001b[43m)\u001b[49m\n",
      "File \u001b[0;32m~/Documents/papers-game/env/lib/python3.9/site-packages/requests/api.py:59\u001b[0m, in \u001b[0;36mrequest\u001b[0;34m(method, url, **kwargs)\u001b[0m\n\u001b[1;32m     55\u001b[0m \u001b[38;5;66;03m# By using the 'with' statement we are sure the session is closed, thus we\u001b[39;00m\n\u001b[1;32m     56\u001b[0m \u001b[38;5;66;03m# avoid leaving sockets open which can trigger a ResourceWarning in some\u001b[39;00m\n\u001b[1;32m     57\u001b[0m \u001b[38;5;66;03m# cases, and look like a memory leak in others.\u001b[39;00m\n\u001b[1;32m     58\u001b[0m \u001b[38;5;28;01mwith\u001b[39;00m sessions\u001b[38;5;241m.\u001b[39mSession() \u001b[38;5;28;01mas\u001b[39;00m session:\n\u001b[0;32m---> 59\u001b[0m     \u001b[38;5;28;01mreturn\u001b[39;00m \u001b[43msession\u001b[49m\u001b[38;5;241;43m.\u001b[39;49m\u001b[43mrequest\u001b[49m\u001b[43m(\u001b[49m\u001b[43mmethod\u001b[49m\u001b[38;5;241;43m=\u001b[39;49m\u001b[43mmethod\u001b[49m\u001b[43m,\u001b[49m\u001b[43m \u001b[49m\u001b[43murl\u001b[49m\u001b[38;5;241;43m=\u001b[39;49m\u001b[43murl\u001b[49m\u001b[43m,\u001b[49m\u001b[43m \u001b[49m\u001b[38;5;241;43m*\u001b[39;49m\u001b[38;5;241;43m*\u001b[39;49m\u001b[43mkwargs\u001b[49m\u001b[43m)\u001b[49m\n",
      "File \u001b[0;32m~/Documents/papers-game/env/lib/python3.9/site-packages/requests/sessions.py:587\u001b[0m, in \u001b[0;36mSession.request\u001b[0;34m(self, method, url, params, data, headers, cookies, files, auth, timeout, allow_redirects, proxies, hooks, stream, verify, cert, json)\u001b[0m\n\u001b[1;32m    582\u001b[0m send_kwargs \u001b[38;5;241m=\u001b[39m {\n\u001b[1;32m    583\u001b[0m     \u001b[38;5;124m\"\u001b[39m\u001b[38;5;124mtimeout\u001b[39m\u001b[38;5;124m\"\u001b[39m: timeout,\n\u001b[1;32m    584\u001b[0m     \u001b[38;5;124m\"\u001b[39m\u001b[38;5;124mallow_redirects\u001b[39m\u001b[38;5;124m\"\u001b[39m: allow_redirects,\n\u001b[1;32m    585\u001b[0m }\n\u001b[1;32m    586\u001b[0m send_kwargs\u001b[38;5;241m.\u001b[39mupdate(settings)\n\u001b[0;32m--> 587\u001b[0m resp \u001b[38;5;241m=\u001b[39m \u001b[38;5;28;43mself\u001b[39;49m\u001b[38;5;241;43m.\u001b[39;49m\u001b[43msend\u001b[49m\u001b[43m(\u001b[49m\u001b[43mprep\u001b[49m\u001b[43m,\u001b[49m\u001b[43m \u001b[49m\u001b[38;5;241;43m*\u001b[39;49m\u001b[38;5;241;43m*\u001b[39;49m\u001b[43msend_kwargs\u001b[49m\u001b[43m)\u001b[49m\n\u001b[1;32m    589\u001b[0m \u001b[38;5;28;01mreturn\u001b[39;00m resp\n",
      "File \u001b[0;32m~/Documents/papers-game/env/lib/python3.9/site-packages/requests/sessions.py:701\u001b[0m, in \u001b[0;36mSession.send\u001b[0;34m(self, request, **kwargs)\u001b[0m\n\u001b[1;32m    698\u001b[0m start \u001b[38;5;241m=\u001b[39m preferred_clock()\n\u001b[1;32m    700\u001b[0m \u001b[38;5;66;03m# Send the request\u001b[39;00m\n\u001b[0;32m--> 701\u001b[0m r \u001b[38;5;241m=\u001b[39m \u001b[43madapter\u001b[49m\u001b[38;5;241;43m.\u001b[39;49m\u001b[43msend\u001b[49m\u001b[43m(\u001b[49m\u001b[43mrequest\u001b[49m\u001b[43m,\u001b[49m\u001b[43m \u001b[49m\u001b[38;5;241;43m*\u001b[39;49m\u001b[38;5;241;43m*\u001b[39;49m\u001b[43mkwargs\u001b[49m\u001b[43m)\u001b[49m\n\u001b[1;32m    703\u001b[0m \u001b[38;5;66;03m# Total elapsed time of the request (approximately)\u001b[39;00m\n\u001b[1;32m    704\u001b[0m elapsed \u001b[38;5;241m=\u001b[39m preferred_clock() \u001b[38;5;241m-\u001b[39m start\n",
      "File \u001b[0;32m~/Documents/papers-game/env/lib/python3.9/site-packages/requests/adapters.py:489\u001b[0m, in \u001b[0;36mHTTPAdapter.send\u001b[0;34m(self, request, stream, timeout, verify, cert, proxies)\u001b[0m\n\u001b[1;32m    487\u001b[0m \u001b[38;5;28;01mtry\u001b[39;00m:\n\u001b[1;32m    488\u001b[0m     \u001b[38;5;28;01mif\u001b[39;00m \u001b[38;5;129;01mnot\u001b[39;00m chunked:\n\u001b[0;32m--> 489\u001b[0m         resp \u001b[38;5;241m=\u001b[39m \u001b[43mconn\u001b[49m\u001b[38;5;241;43m.\u001b[39;49m\u001b[43murlopen\u001b[49m\u001b[43m(\u001b[49m\n\u001b[1;32m    490\u001b[0m \u001b[43m            \u001b[49m\u001b[43mmethod\u001b[49m\u001b[38;5;241;43m=\u001b[39;49m\u001b[43mrequest\u001b[49m\u001b[38;5;241;43m.\u001b[39;49m\u001b[43mmethod\u001b[49m\u001b[43m,\u001b[49m\n\u001b[1;32m    491\u001b[0m \u001b[43m            \u001b[49m\u001b[43murl\u001b[49m\u001b[38;5;241;43m=\u001b[39;49m\u001b[43murl\u001b[49m\u001b[43m,\u001b[49m\n\u001b[1;32m    492\u001b[0m \u001b[43m            \u001b[49m\u001b[43mbody\u001b[49m\u001b[38;5;241;43m=\u001b[39;49m\u001b[43mrequest\u001b[49m\u001b[38;5;241;43m.\u001b[39;49m\u001b[43mbody\u001b[49m\u001b[43m,\u001b[49m\n\u001b[1;32m    493\u001b[0m \u001b[43m            \u001b[49m\u001b[43mheaders\u001b[49m\u001b[38;5;241;43m=\u001b[39;49m\u001b[43mrequest\u001b[49m\u001b[38;5;241;43m.\u001b[39;49m\u001b[43mheaders\u001b[49m\u001b[43m,\u001b[49m\n\u001b[1;32m    494\u001b[0m \u001b[43m            \u001b[49m\u001b[43mredirect\u001b[49m\u001b[38;5;241;43m=\u001b[39;49m\u001b[38;5;28;43;01mFalse\u001b[39;49;00m\u001b[43m,\u001b[49m\n\u001b[1;32m    495\u001b[0m \u001b[43m            \u001b[49m\u001b[43massert_same_host\u001b[49m\u001b[38;5;241;43m=\u001b[39;49m\u001b[38;5;28;43;01mFalse\u001b[39;49;00m\u001b[43m,\u001b[49m\n\u001b[1;32m    496\u001b[0m \u001b[43m            \u001b[49m\u001b[43mpreload_content\u001b[49m\u001b[38;5;241;43m=\u001b[39;49m\u001b[38;5;28;43;01mFalse\u001b[39;49;00m\u001b[43m,\u001b[49m\n\u001b[1;32m    497\u001b[0m \u001b[43m            \u001b[49m\u001b[43mdecode_content\u001b[49m\u001b[38;5;241;43m=\u001b[39;49m\u001b[38;5;28;43;01mFalse\u001b[39;49;00m\u001b[43m,\u001b[49m\n\u001b[1;32m    498\u001b[0m \u001b[43m            \u001b[49m\u001b[43mretries\u001b[49m\u001b[38;5;241;43m=\u001b[39;49m\u001b[38;5;28;43mself\u001b[39;49m\u001b[38;5;241;43m.\u001b[39;49m\u001b[43mmax_retries\u001b[49m\u001b[43m,\u001b[49m\n\u001b[1;32m    499\u001b[0m \u001b[43m            \u001b[49m\u001b[43mtimeout\u001b[49m\u001b[38;5;241;43m=\u001b[39;49m\u001b[43mtimeout\u001b[49m\u001b[43m,\u001b[49m\n\u001b[1;32m    500\u001b[0m \u001b[43m        \u001b[49m\u001b[43m)\u001b[49m\n\u001b[1;32m    502\u001b[0m     \u001b[38;5;66;03m# Send the request.\u001b[39;00m\n\u001b[1;32m    503\u001b[0m     \u001b[38;5;28;01melse\u001b[39;00m:\n\u001b[1;32m    504\u001b[0m         \u001b[38;5;28;01mif\u001b[39;00m \u001b[38;5;28mhasattr\u001b[39m(conn, \u001b[38;5;124m\"\u001b[39m\u001b[38;5;124mproxy_pool\u001b[39m\u001b[38;5;124m\"\u001b[39m):\n",
      "File \u001b[0;32m~/Documents/papers-game/env/lib/python3.9/site-packages/urllib3/connectionpool.py:703\u001b[0m, in \u001b[0;36mHTTPConnectionPool.urlopen\u001b[0;34m(self, method, url, body, headers, retries, redirect, assert_same_host, timeout, pool_timeout, release_conn, chunked, body_pos, **response_kw)\u001b[0m\n\u001b[1;32m    700\u001b[0m     \u001b[38;5;28mself\u001b[39m\u001b[38;5;241m.\u001b[39m_prepare_proxy(conn)\n\u001b[1;32m    702\u001b[0m \u001b[38;5;66;03m# Make the request on the httplib connection object.\u001b[39;00m\n\u001b[0;32m--> 703\u001b[0m httplib_response \u001b[38;5;241m=\u001b[39m \u001b[38;5;28;43mself\u001b[39;49m\u001b[38;5;241;43m.\u001b[39;49m\u001b[43m_make_request\u001b[49m\u001b[43m(\u001b[49m\n\u001b[1;32m    704\u001b[0m \u001b[43m    \u001b[49m\u001b[43mconn\u001b[49m\u001b[43m,\u001b[49m\n\u001b[1;32m    705\u001b[0m \u001b[43m    \u001b[49m\u001b[43mmethod\u001b[49m\u001b[43m,\u001b[49m\n\u001b[1;32m    706\u001b[0m \u001b[43m    \u001b[49m\u001b[43murl\u001b[49m\u001b[43m,\u001b[49m\n\u001b[1;32m    707\u001b[0m \u001b[43m    \u001b[49m\u001b[43mtimeout\u001b[49m\u001b[38;5;241;43m=\u001b[39;49m\u001b[43mtimeout_obj\u001b[49m\u001b[43m,\u001b[49m\n\u001b[1;32m    708\u001b[0m \u001b[43m    \u001b[49m\u001b[43mbody\u001b[49m\u001b[38;5;241;43m=\u001b[39;49m\u001b[43mbody\u001b[49m\u001b[43m,\u001b[49m\n\u001b[1;32m    709\u001b[0m \u001b[43m    \u001b[49m\u001b[43mheaders\u001b[49m\u001b[38;5;241;43m=\u001b[39;49m\u001b[43mheaders\u001b[49m\u001b[43m,\u001b[49m\n\u001b[1;32m    710\u001b[0m \u001b[43m    \u001b[49m\u001b[43mchunked\u001b[49m\u001b[38;5;241;43m=\u001b[39;49m\u001b[43mchunked\u001b[49m\u001b[43m,\u001b[49m\n\u001b[1;32m    711\u001b[0m \u001b[43m\u001b[49m\u001b[43m)\u001b[49m\n\u001b[1;32m    713\u001b[0m \u001b[38;5;66;03m# If we're going to release the connection in ``finally:``, then\u001b[39;00m\n\u001b[1;32m    714\u001b[0m \u001b[38;5;66;03m# the response doesn't need to know about the connection. Otherwise\u001b[39;00m\n\u001b[1;32m    715\u001b[0m \u001b[38;5;66;03m# it will also try to release it and we'll have a double-release\u001b[39;00m\n\u001b[1;32m    716\u001b[0m \u001b[38;5;66;03m# mess.\u001b[39;00m\n\u001b[1;32m    717\u001b[0m response_conn \u001b[38;5;241m=\u001b[39m conn \u001b[38;5;28;01mif\u001b[39;00m \u001b[38;5;129;01mnot\u001b[39;00m release_conn \u001b[38;5;28;01melse\u001b[39;00m \u001b[38;5;28;01mNone\u001b[39;00m\n",
      "File \u001b[0;32m~/Documents/papers-game/env/lib/python3.9/site-packages/urllib3/connectionpool.py:449\u001b[0m, in \u001b[0;36mHTTPConnectionPool._make_request\u001b[0;34m(self, conn, method, url, timeout, chunked, **httplib_request_kw)\u001b[0m\n\u001b[1;32m    444\u001b[0m             httplib_response \u001b[38;5;241m=\u001b[39m conn\u001b[38;5;241m.\u001b[39mgetresponse()\n\u001b[1;32m    445\u001b[0m         \u001b[38;5;28;01mexcept\u001b[39;00m \u001b[38;5;167;01mBaseException\u001b[39;00m \u001b[38;5;28;01mas\u001b[39;00m e:\n\u001b[1;32m    446\u001b[0m             \u001b[38;5;66;03m# Remove the TypeError from the exception chain in\u001b[39;00m\n\u001b[1;32m    447\u001b[0m             \u001b[38;5;66;03m# Python 3 (including for exceptions like SystemExit).\u001b[39;00m\n\u001b[1;32m    448\u001b[0m             \u001b[38;5;66;03m# Otherwise it looks like a bug in the code.\u001b[39;00m\n\u001b[0;32m--> 449\u001b[0m             \u001b[43msix\u001b[49m\u001b[38;5;241;43m.\u001b[39;49m\u001b[43mraise_from\u001b[49m\u001b[43m(\u001b[49m\u001b[43me\u001b[49m\u001b[43m,\u001b[49m\u001b[43m \u001b[49m\u001b[38;5;28;43;01mNone\u001b[39;49;00m\u001b[43m)\u001b[49m\n\u001b[1;32m    450\u001b[0m \u001b[38;5;28;01mexcept\u001b[39;00m (SocketTimeout, BaseSSLError, SocketError) \u001b[38;5;28;01mas\u001b[39;00m e:\n\u001b[1;32m    451\u001b[0m     \u001b[38;5;28mself\u001b[39m\u001b[38;5;241m.\u001b[39m_raise_timeout(err\u001b[38;5;241m=\u001b[39me, url\u001b[38;5;241m=\u001b[39murl, timeout_value\u001b[38;5;241m=\u001b[39mread_timeout)\n",
      "File \u001b[0;32m<string>:3\u001b[0m, in \u001b[0;36mraise_from\u001b[0;34m(value, from_value)\u001b[0m\n",
      "File \u001b[0;32m~/Documents/papers-game/env/lib/python3.9/site-packages/urllib3/connectionpool.py:444\u001b[0m, in \u001b[0;36mHTTPConnectionPool._make_request\u001b[0;34m(self, conn, method, url, timeout, chunked, **httplib_request_kw)\u001b[0m\n\u001b[1;32m    441\u001b[0m \u001b[38;5;28;01mexcept\u001b[39;00m \u001b[38;5;167;01mTypeError\u001b[39;00m:\n\u001b[1;32m    442\u001b[0m     \u001b[38;5;66;03m# Python 3\u001b[39;00m\n\u001b[1;32m    443\u001b[0m     \u001b[38;5;28;01mtry\u001b[39;00m:\n\u001b[0;32m--> 444\u001b[0m         httplib_response \u001b[38;5;241m=\u001b[39m \u001b[43mconn\u001b[49m\u001b[38;5;241;43m.\u001b[39;49m\u001b[43mgetresponse\u001b[49m\u001b[43m(\u001b[49m\u001b[43m)\u001b[49m\n\u001b[1;32m    445\u001b[0m     \u001b[38;5;28;01mexcept\u001b[39;00m \u001b[38;5;167;01mBaseException\u001b[39;00m \u001b[38;5;28;01mas\u001b[39;00m e:\n\u001b[1;32m    446\u001b[0m         \u001b[38;5;66;03m# Remove the TypeError from the exception chain in\u001b[39;00m\n\u001b[1;32m    447\u001b[0m         \u001b[38;5;66;03m# Python 3 (including for exceptions like SystemExit).\u001b[39;00m\n\u001b[1;32m    448\u001b[0m         \u001b[38;5;66;03m# Otherwise it looks like a bug in the code.\u001b[39;00m\n\u001b[1;32m    449\u001b[0m         six\u001b[38;5;241m.\u001b[39mraise_from(e, \u001b[38;5;28;01mNone\u001b[39;00m)\n",
      "File \u001b[0;32m~/miniconda3/lib/python3.9/http/client.py:1345\u001b[0m, in \u001b[0;36mHTTPConnection.getresponse\u001b[0;34m(self)\u001b[0m\n\u001b[1;32m   1343\u001b[0m \u001b[38;5;28;01mtry\u001b[39;00m:\n\u001b[1;32m   1344\u001b[0m     \u001b[38;5;28;01mtry\u001b[39;00m:\n\u001b[0;32m-> 1345\u001b[0m         \u001b[43mresponse\u001b[49m\u001b[38;5;241;43m.\u001b[39;49m\u001b[43mbegin\u001b[49m\u001b[43m(\u001b[49m\u001b[43m)\u001b[49m\n\u001b[1;32m   1346\u001b[0m     \u001b[38;5;28;01mexcept\u001b[39;00m \u001b[38;5;167;01mConnectionError\u001b[39;00m:\n\u001b[1;32m   1347\u001b[0m         \u001b[38;5;28mself\u001b[39m\u001b[38;5;241m.\u001b[39mclose()\n",
      "File \u001b[0;32m~/miniconda3/lib/python3.9/http/client.py:307\u001b[0m, in \u001b[0;36mHTTPResponse.begin\u001b[0;34m(self)\u001b[0m\n\u001b[1;32m    305\u001b[0m \u001b[38;5;66;03m# read until we get a non-100 response\u001b[39;00m\n\u001b[1;32m    306\u001b[0m \u001b[38;5;28;01mwhile\u001b[39;00m \u001b[38;5;28;01mTrue\u001b[39;00m:\n\u001b[0;32m--> 307\u001b[0m     version, status, reason \u001b[38;5;241m=\u001b[39m \u001b[38;5;28;43mself\u001b[39;49m\u001b[38;5;241;43m.\u001b[39;49m\u001b[43m_read_status\u001b[49m\u001b[43m(\u001b[49m\u001b[43m)\u001b[49m\n\u001b[1;32m    308\u001b[0m     \u001b[38;5;28;01mif\u001b[39;00m status \u001b[38;5;241m!=\u001b[39m CONTINUE:\n\u001b[1;32m    309\u001b[0m         \u001b[38;5;28;01mbreak\u001b[39;00m\n",
      "File \u001b[0;32m~/miniconda3/lib/python3.9/http/client.py:268\u001b[0m, in \u001b[0;36mHTTPResponse._read_status\u001b[0;34m(self)\u001b[0m\n\u001b[1;32m    267\u001b[0m \u001b[38;5;28;01mdef\u001b[39;00m \u001b[38;5;21m_read_status\u001b[39m(\u001b[38;5;28mself\u001b[39m):\n\u001b[0;32m--> 268\u001b[0m     line \u001b[38;5;241m=\u001b[39m \u001b[38;5;28mstr\u001b[39m(\u001b[38;5;28;43mself\u001b[39;49m\u001b[38;5;241;43m.\u001b[39;49m\u001b[43mfp\u001b[49m\u001b[38;5;241;43m.\u001b[39;49m\u001b[43mreadline\u001b[49m\u001b[43m(\u001b[49m\u001b[43m_MAXLINE\u001b[49m\u001b[43m \u001b[49m\u001b[38;5;241;43m+\u001b[39;49m\u001b[43m \u001b[49m\u001b[38;5;241;43m1\u001b[39;49m\u001b[43m)\u001b[49m, \u001b[38;5;124m\"\u001b[39m\u001b[38;5;124miso-8859-1\u001b[39m\u001b[38;5;124m\"\u001b[39m)\n\u001b[1;32m    269\u001b[0m     \u001b[38;5;28;01mif\u001b[39;00m \u001b[38;5;28mlen\u001b[39m(line) \u001b[38;5;241m>\u001b[39m _MAXLINE:\n\u001b[1;32m    270\u001b[0m         \u001b[38;5;28;01mraise\u001b[39;00m LineTooLong(\u001b[38;5;124m\"\u001b[39m\u001b[38;5;124mstatus line\u001b[39m\u001b[38;5;124m\"\u001b[39m)\n",
      "File \u001b[0;32m~/miniconda3/lib/python3.9/socket.py:704\u001b[0m, in \u001b[0;36mSocketIO.readinto\u001b[0;34m(self, b)\u001b[0m\n\u001b[1;32m    702\u001b[0m \u001b[38;5;28;01mwhile\u001b[39;00m \u001b[38;5;28;01mTrue\u001b[39;00m:\n\u001b[1;32m    703\u001b[0m     \u001b[38;5;28;01mtry\u001b[39;00m:\n\u001b[0;32m--> 704\u001b[0m         \u001b[38;5;28;01mreturn\u001b[39;00m \u001b[38;5;28;43mself\u001b[39;49m\u001b[38;5;241;43m.\u001b[39;49m\u001b[43m_sock\u001b[49m\u001b[38;5;241;43m.\u001b[39;49m\u001b[43mrecv_into\u001b[49m\u001b[43m(\u001b[49m\u001b[43mb\u001b[49m\u001b[43m)\u001b[49m\n\u001b[1;32m    705\u001b[0m     \u001b[38;5;28;01mexcept\u001b[39;00m timeout:\n\u001b[1;32m    706\u001b[0m         \u001b[38;5;28mself\u001b[39m\u001b[38;5;241m.\u001b[39m_timeout_occurred \u001b[38;5;241m=\u001b[39m \u001b[38;5;28;01mTrue\u001b[39;00m\n",
      "File \u001b[0;32m~/miniconda3/lib/python3.9/ssl.py:1241\u001b[0m, in \u001b[0;36mSSLSocket.recv_into\u001b[0;34m(self, buffer, nbytes, flags)\u001b[0m\n\u001b[1;32m   1237\u001b[0m     \u001b[38;5;28;01mif\u001b[39;00m flags \u001b[38;5;241m!=\u001b[39m \u001b[38;5;241m0\u001b[39m:\n\u001b[1;32m   1238\u001b[0m         \u001b[38;5;28;01mraise\u001b[39;00m \u001b[38;5;167;01mValueError\u001b[39;00m(\n\u001b[1;32m   1239\u001b[0m           \u001b[38;5;124m\"\u001b[39m\u001b[38;5;124mnon-zero flags not allowed in calls to recv_into() on \u001b[39m\u001b[38;5;132;01m%s\u001b[39;00m\u001b[38;5;124m\"\u001b[39m \u001b[38;5;241m%\u001b[39m\n\u001b[1;32m   1240\u001b[0m           \u001b[38;5;28mself\u001b[39m\u001b[38;5;241m.\u001b[39m\u001b[38;5;18m__class__\u001b[39m)\n\u001b[0;32m-> 1241\u001b[0m     \u001b[38;5;28;01mreturn\u001b[39;00m \u001b[38;5;28;43mself\u001b[39;49m\u001b[38;5;241;43m.\u001b[39;49m\u001b[43mread\u001b[49m\u001b[43m(\u001b[49m\u001b[43mnbytes\u001b[49m\u001b[43m,\u001b[49m\u001b[43m \u001b[49m\u001b[43mbuffer\u001b[49m\u001b[43m)\u001b[49m\n\u001b[1;32m   1242\u001b[0m \u001b[38;5;28;01melse\u001b[39;00m:\n\u001b[1;32m   1243\u001b[0m     \u001b[38;5;28;01mreturn\u001b[39;00m \u001b[38;5;28msuper\u001b[39m()\u001b[38;5;241m.\u001b[39mrecv_into(buffer, nbytes, flags)\n",
      "File \u001b[0;32m~/miniconda3/lib/python3.9/ssl.py:1099\u001b[0m, in \u001b[0;36mSSLSocket.read\u001b[0;34m(self, len, buffer)\u001b[0m\n\u001b[1;32m   1097\u001b[0m \u001b[38;5;28;01mtry\u001b[39;00m:\n\u001b[1;32m   1098\u001b[0m     \u001b[38;5;28;01mif\u001b[39;00m buffer \u001b[38;5;129;01mis\u001b[39;00m \u001b[38;5;129;01mnot\u001b[39;00m \u001b[38;5;28;01mNone\u001b[39;00m:\n\u001b[0;32m-> 1099\u001b[0m         \u001b[38;5;28;01mreturn\u001b[39;00m \u001b[38;5;28;43mself\u001b[39;49m\u001b[38;5;241;43m.\u001b[39;49m\u001b[43m_sslobj\u001b[49m\u001b[38;5;241;43m.\u001b[39;49m\u001b[43mread\u001b[49m\u001b[43m(\u001b[49m\u001b[38;5;28;43mlen\u001b[39;49m\u001b[43m,\u001b[49m\u001b[43m \u001b[49m\u001b[43mbuffer\u001b[49m\u001b[43m)\u001b[49m\n\u001b[1;32m   1100\u001b[0m     \u001b[38;5;28;01melse\u001b[39;00m:\n\u001b[1;32m   1101\u001b[0m         \u001b[38;5;28;01mreturn\u001b[39;00m \u001b[38;5;28mself\u001b[39m\u001b[38;5;241m.\u001b[39m_sslobj\u001b[38;5;241m.\u001b[39mread(\u001b[38;5;28mlen\u001b[39m)\n",
      "\u001b[0;31mKeyboardInterrupt\u001b[0m: "
     ]
    }
   ],
   "source": [
    "import time\n",
    "\n",
    "queue = []\n",
    "\n",
    "bar = ProgressBar(max_value=1000)\n",
    "while True:\n",
    "    time.sleep(1)\n",
    "    for s in p.citations:\n",
    "        if len(papers) == 1000:\n",
    "            break\n",
    "        if s not in papers:\n",
    "            x = Paper(s)\n",
    "            a = x.abstract\n",
    "            if a:\n",
    "                papers[s] = x\n",
    "                queue.append(x)\n",
    "                bar.update(len(papers))\n",
    "            \n",
    "    if queue:\n",
    "        p = queue.pop()\n",
    "    else:\n",
    "        break\n",
    "    if len(papers) == 1000:\n",
    "        break\n",
    "    \n",
    "    bar.update(len(papers))"
   ]
  },
  {
   "cell_type": "code",
   "execution_count": null,
   "metadata": {},
   "outputs": [],
   "source": [
    "from sklearn.feature_extraction.text import CountVectorizer\n",
    "vectorizer = CountVectorizer(lowercase=False)\n",
    "corpus = [x.abstract for x in papers.values()]"
   ]
  },
  {
   "cell_type": "code",
   "execution_count": null,
   "metadata": {},
   "outputs": [],
   "source": [
    "X = vectorizer.fit_transform(corpus)\n",
    "features = vectorizer.get_feature_names_out()"
   ]
  },
  {
   "cell_type": "code",
   "execution_count": 190,
   "metadata": {},
   "outputs": [
    {
     "data": {
      "text/plain": [
       "1"
      ]
     },
     "execution_count": 190,
     "metadata": {},
     "output_type": "execute_result"
    }
   ],
   "source": [
    "X.sum(axis=0)[0, 1319]"
   ]
  },
  {
   "cell_type": "code",
   "execution_count": 9,
   "metadata": {},
   "outputs": [],
   "source": [
    "import torch\n",
    "from transformers import AutoModelForTokenClassification, AutoTokenizer"
   ]
  },
  {
   "cell_type": "code",
   "execution_count": 68,
   "metadata": {},
   "outputs": [
    {
     "name": "stderr",
     "output_type": "stream",
     "text": [
      "Some weights of the model checkpoint at allenai/scibert_scivocab_uncased were not used when initializing BertForTokenClassification: ['cls.predictions.transform.LayerNorm.bias', 'cls.predictions.transform.dense.bias', 'cls.predictions.transform.dense.weight', 'cls.seq_relationship.weight', 'cls.predictions.decoder.bias', 'cls.predictions.transform.LayerNorm.weight', 'cls.predictions.bias', 'cls.seq_relationship.bias', 'cls.predictions.decoder.weight']\n",
      "- This IS expected if you are initializing BertForTokenClassification from the checkpoint of a model trained on another task or with another architecture (e.g. initializing a BertForSequenceClassification model from a BertForPreTraining model).\n",
      "- This IS NOT expected if you are initializing BertForTokenClassification from the checkpoint of a model that you expect to be exactly identical (initializing a BertForSequenceClassification model from a BertForSequenceClassification model).\n",
      "Some weights of BertForTokenClassification were not initialized from the model checkpoint at allenai/scibert_scivocab_uncased and are newly initialized: ['classifier.weight', 'classifier.bias']\n",
      "You should probably TRAIN this model on a down-stream task to be able to use it for predictions and inference.\n"
     ]
    },
    {
     "name": "stdout",
     "output_type": "stream",
     "text": [
      "['new']\n"
     ]
    }
   ],
   "source": [
    "model_name = \"allenai/scibert_scivocab_uncased\"\n",
    "model = AutoModelForTokenClassification.from_pretrained(model_name)\n",
    "tokenizer = AutoTokenizer.from_pretrained(model_name)\n",
    "\n",
    "def extract_scientific_terms(text):\n",
    "    input_ids = tokenizer.encode(text, return_tensors=\"pt\")\n",
    "    outputs = model(input_ids)\n",
    "    predictions = outputs.logits.argmax(dim=1)[0]\n",
    "    term = tokenizer.convert_ids_to_tokens([input_ids[0][predictions[0]]])\n",
    "    return term\n",
    "\n",
    "text = \"Scientists have discovered a new species of bacteria that can survive in extreme environments.\"\n",
    "term = extract_scientific_terms(text)\n",
    "print(term)\n"
   ]
  },
  {
   "cell_type": "code",
   "execution_count": 100,
   "metadata": {},
   "outputs": [
    {
     "name": "stdout",
     "output_type": "stream",
     "text": [
      "huggingface/tokenizers: The current process just got forked, after parallelism has already been used. Disabling parallelism to avoid deadlocks...\n",
      "To disable this warning, you can either:\n",
      "\t- Avoid using `tokenizers` before the fork if possible\n",
      "\t- Explicitly set the environment variable TOKENIZERS_PARALLELISM=(true | false)\n",
      "\n",
      "\u001b[38;5;1m✘ No compatible package found for 'displacy' (spaCy v3.5.0)\u001b[0m\n",
      "\n"
     ]
    }
   ],
   "source": [
    "!python -m spacy download displacy"
   ]
  },
  {
   "cell_type": "code",
   "execution_count": 137,
   "metadata": {},
   "outputs": [],
   "source": [
    "import spacy\n",
    "\n",
    "# Load English tokenizer, tagger, parser and NER\n",
    "nlp = spacy.load(\"en_core_web_lg\")"
   ]
  },
  {
   "cell_type": "code",
   "execution_count": 138,
   "metadata": {},
   "outputs": [
    {
     "data": {
      "text/plain": [
       "<spacy.pipeline.spancat.SpanCategorizer at 0x7fef7c8d05e0>"
      ]
     },
     "execution_count": 138,
     "metadata": {},
     "output_type": "execute_result"
    },
    {
     "ename": "ValueError",
     "evalue": "[E955] Can't find table(s) lexeme_norm for language 'en' in spacy-lookups-data. Make sure you have the package installed or provide your own lookup tables if no default lookups are available for your language.",
     "output_type": "error",
     "traceback": [
      "\u001b[0;31m---------------------------------------------------------------------------\u001b[0m",
      "\u001b[0;31mValueError\u001b[0m                                Traceback (most recent call last)",
      "Cell \u001b[0;32mIn[138], line 10\u001b[0m\n\u001b[1;32m      2\u001b[0m config \u001b[38;5;241m=\u001b[39m {\n\u001b[1;32m      3\u001b[0m     \u001b[38;5;124m\"\u001b[39m\u001b[38;5;124mthreshold\u001b[39m\u001b[38;5;124m\"\u001b[39m: \u001b[38;5;241m0.5\u001b[39m,\n\u001b[1;32m      4\u001b[0m     \u001b[38;5;124m\"\u001b[39m\u001b[38;5;124mspans_key\u001b[39m\u001b[38;5;124m\"\u001b[39m: \u001b[38;5;124m\"\u001b[39m\u001b[38;5;124mlabeled_spans\u001b[39m\u001b[38;5;124m\"\u001b[39m,\n\u001b[0;32m   (...)\u001b[0m\n\u001b[1;32m      7\u001b[0m     \u001b[38;5;124m\"\u001b[39m\u001b[38;5;124msuggester\u001b[39m\u001b[38;5;124m\"\u001b[39m: {\u001b[38;5;124m\"\u001b[39m\u001b[38;5;124m@misc\u001b[39m\u001b[38;5;124m\"\u001b[39m: \u001b[38;5;124m\"\u001b[39m\u001b[38;5;124mspacy.ngram_suggester.v1\u001b[39m\u001b[38;5;124m\"\u001b[39m, \u001b[38;5;124m\"\u001b[39m\u001b[38;5;124msizes\u001b[39m\u001b[38;5;124m\"\u001b[39m: [\u001b[38;5;241m1\u001b[39m, \u001b[38;5;241m2\u001b[39m, \u001b[38;5;241m3\u001b[39m]},\n\u001b[1;32m      8\u001b[0m }\n\u001b[1;32m      9\u001b[0m nlp\u001b[38;5;241m.\u001b[39madd_pipe(\u001b[38;5;124m\"\u001b[39m\u001b[38;5;124mspancat\u001b[39m\u001b[38;5;124m\"\u001b[39m, config\u001b[38;5;241m=\u001b[39mconfig)\n\u001b[0;32m---> 10\u001b[0m \u001b[43mnlp\u001b[49m\u001b[38;5;241;43m.\u001b[39;49m\u001b[43mbegin_training\u001b[49m\u001b[43m(\u001b[49m\u001b[43m)\u001b[49m\n",
      "File \u001b[0;32m~/Documents/papers-game/env/lib/python3.9/site-packages/spacy/language.py:1249\u001b[0m, in \u001b[0;36mLanguage.begin_training\u001b[0;34m(self, get_examples, sgd)\u001b[0m\n\u001b[1;32m   1242\u001b[0m \u001b[38;5;28;01mdef\u001b[39;00m \u001b[38;5;21mbegin_training\u001b[39m(\n\u001b[1;32m   1243\u001b[0m     \u001b[38;5;28mself\u001b[39m,\n\u001b[1;32m   1244\u001b[0m     get_examples: Optional[Callable[[], Iterable[Example]]] \u001b[38;5;241m=\u001b[39m \u001b[38;5;28;01mNone\u001b[39;00m,\n\u001b[1;32m   1245\u001b[0m     \u001b[38;5;241m*\u001b[39m,\n\u001b[1;32m   1246\u001b[0m     sgd: Optional[Optimizer] \u001b[38;5;241m=\u001b[39m \u001b[38;5;28;01mNone\u001b[39;00m,\n\u001b[1;32m   1247\u001b[0m ) \u001b[38;5;241m-\u001b[39m\u001b[38;5;241m>\u001b[39m Optimizer:\n\u001b[1;32m   1248\u001b[0m     warnings\u001b[38;5;241m.\u001b[39mwarn(Warnings\u001b[38;5;241m.\u001b[39mW089, \u001b[38;5;167;01mDeprecationWarning\u001b[39;00m)\n\u001b[0;32m-> 1249\u001b[0m     \u001b[38;5;28;01mreturn\u001b[39;00m \u001b[38;5;28;43mself\u001b[39;49m\u001b[38;5;241;43m.\u001b[39;49m\u001b[43minitialize\u001b[49m\u001b[43m(\u001b[49m\u001b[43mget_examples\u001b[49m\u001b[43m,\u001b[49m\u001b[43m \u001b[49m\u001b[43msgd\u001b[49m\u001b[38;5;241;43m=\u001b[39;49m\u001b[43msgd\u001b[49m\u001b[43m)\u001b[49m\n",
      "File \u001b[0;32m~/Documents/papers-game/env/lib/python3.9/site-packages/spacy/language.py:1281\u001b[0m, in \u001b[0;36mLanguage.initialize\u001b[0;34m(self, get_examples, sgd)\u001b[0m\n\u001b[1;32m   1279\u001b[0m config \u001b[38;5;241m=\u001b[39m \u001b[38;5;28mself\u001b[39m\u001b[38;5;241m.\u001b[39mconfig\u001b[38;5;241m.\u001b[39minterpolate()\n\u001b[1;32m   1280\u001b[0m \u001b[38;5;66;03m# These are the settings provided in the [initialize] block in the config\u001b[39;00m\n\u001b[0;32m-> 1281\u001b[0m I \u001b[38;5;241m=\u001b[39m \u001b[43mregistry\u001b[49m\u001b[38;5;241;43m.\u001b[39;49m\u001b[43mresolve\u001b[49m\u001b[43m(\u001b[49m\u001b[43mconfig\u001b[49m\u001b[43m[\u001b[49m\u001b[38;5;124;43m\"\u001b[39;49m\u001b[38;5;124;43minitialize\u001b[39;49m\u001b[38;5;124;43m\"\u001b[39;49m\u001b[43m]\u001b[49m\u001b[43m,\u001b[49m\u001b[43m \u001b[49m\u001b[43mschema\u001b[49m\u001b[38;5;241;43m=\u001b[39;49m\u001b[43mConfigSchemaInit\u001b[49m\u001b[43m)\u001b[49m\n\u001b[1;32m   1282\u001b[0m before_init \u001b[38;5;241m=\u001b[39m I[\u001b[38;5;124m\"\u001b[39m\u001b[38;5;124mbefore_init\u001b[39m\u001b[38;5;124m\"\u001b[39m]\n\u001b[1;32m   1283\u001b[0m \u001b[38;5;28;01mif\u001b[39;00m before_init \u001b[38;5;129;01mis\u001b[39;00m \u001b[38;5;129;01mnot\u001b[39;00m \u001b[38;5;28;01mNone\u001b[39;00m:\n",
      "File \u001b[0;32m~/Documents/papers-game/env/lib/python3.9/site-packages/confection/__init__.py:728\u001b[0m, in \u001b[0;36mregistry.resolve\u001b[0;34m(cls, config, schema, overrides, validate)\u001b[0m\n\u001b[1;32m    719\u001b[0m \u001b[38;5;129m@classmethod\u001b[39m\n\u001b[1;32m    720\u001b[0m \u001b[38;5;28;01mdef\u001b[39;00m \u001b[38;5;21mresolve\u001b[39m(\n\u001b[1;32m    721\u001b[0m     \u001b[38;5;28mcls\u001b[39m,\n\u001b[0;32m   (...)\u001b[0m\n\u001b[1;32m    726\u001b[0m     validate: \u001b[38;5;28mbool\u001b[39m \u001b[38;5;241m=\u001b[39m \u001b[38;5;28;01mTrue\u001b[39;00m,\n\u001b[1;32m    727\u001b[0m ) \u001b[38;5;241m-\u001b[39m\u001b[38;5;241m>\u001b[39m Dict[\u001b[38;5;28mstr\u001b[39m, Any]:\n\u001b[0;32m--> 728\u001b[0m     resolved, _ \u001b[38;5;241m=\u001b[39m \u001b[38;5;28;43mcls\u001b[39;49m\u001b[38;5;241;43m.\u001b[39;49m\u001b[43m_make\u001b[49m\u001b[43m(\u001b[49m\n\u001b[1;32m    729\u001b[0m \u001b[43m        \u001b[49m\u001b[43mconfig\u001b[49m\u001b[43m,\u001b[49m\u001b[43m \u001b[49m\u001b[43mschema\u001b[49m\u001b[38;5;241;43m=\u001b[39;49m\u001b[43mschema\u001b[49m\u001b[43m,\u001b[49m\u001b[43m \u001b[49m\u001b[43moverrides\u001b[49m\u001b[38;5;241;43m=\u001b[39;49m\u001b[43moverrides\u001b[49m\u001b[43m,\u001b[49m\u001b[43m \u001b[49m\u001b[43mvalidate\u001b[49m\u001b[38;5;241;43m=\u001b[39;49m\u001b[43mvalidate\u001b[49m\u001b[43m,\u001b[49m\u001b[43m \u001b[49m\u001b[43mresolve\u001b[49m\u001b[38;5;241;43m=\u001b[39;49m\u001b[38;5;28;43;01mTrue\u001b[39;49;00m\n\u001b[1;32m    730\u001b[0m \u001b[43m    \u001b[49m\u001b[43m)\u001b[49m\n\u001b[1;32m    731\u001b[0m     \u001b[38;5;28;01mreturn\u001b[39;00m resolved\n",
      "File \u001b[0;32m~/Documents/papers-game/env/lib/python3.9/site-packages/confection/__init__.py:777\u001b[0m, in \u001b[0;36mregistry._make\u001b[0;34m(cls, config, schema, overrides, resolve, validate)\u001b[0m\n\u001b[1;32m    775\u001b[0m \u001b[38;5;28;01mif\u001b[39;00m \u001b[38;5;129;01mnot\u001b[39;00m is_interpolated:\n\u001b[1;32m    776\u001b[0m     config \u001b[38;5;241m=\u001b[39m Config(orig_config)\u001b[38;5;241m.\u001b[39minterpolate()\n\u001b[0;32m--> 777\u001b[0m filled, _, resolved \u001b[38;5;241m=\u001b[39m \u001b[38;5;28;43mcls\u001b[39;49m\u001b[38;5;241;43m.\u001b[39;49m\u001b[43m_fill\u001b[49m\u001b[43m(\u001b[49m\n\u001b[1;32m    778\u001b[0m \u001b[43m    \u001b[49m\u001b[43mconfig\u001b[49m\u001b[43m,\u001b[49m\u001b[43m \u001b[49m\u001b[43mschema\u001b[49m\u001b[43m,\u001b[49m\u001b[43m \u001b[49m\u001b[43mvalidate\u001b[49m\u001b[38;5;241;43m=\u001b[39;49m\u001b[43mvalidate\u001b[49m\u001b[43m,\u001b[49m\u001b[43m \u001b[49m\u001b[43moverrides\u001b[49m\u001b[38;5;241;43m=\u001b[39;49m\u001b[43moverrides\u001b[49m\u001b[43m,\u001b[49m\u001b[43m \u001b[49m\u001b[43mresolve\u001b[49m\u001b[38;5;241;43m=\u001b[39;49m\u001b[43mresolve\u001b[49m\n\u001b[1;32m    779\u001b[0m \u001b[43m\u001b[49m\u001b[43m)\u001b[49m\n\u001b[1;32m    780\u001b[0m filled \u001b[38;5;241m=\u001b[39m Config(filled, section_order\u001b[38;5;241m=\u001b[39msection_order)\n\u001b[1;32m    781\u001b[0m \u001b[38;5;66;03m# Check that overrides didn't include invalid properties not in config\u001b[39;00m\n",
      "File \u001b[0;32m~/Documents/papers-game/env/lib/python3.9/site-packages/confection/__init__.py:849\u001b[0m, in \u001b[0;36mregistry._fill\u001b[0;34m(cls, config, schema, validate, resolve, parent, overrides)\u001b[0m\n\u001b[1;32m    846\u001b[0m     getter \u001b[38;5;241m=\u001b[39m \u001b[38;5;28mcls\u001b[39m\u001b[38;5;241m.\u001b[39mget(reg_name, func_name)\n\u001b[1;32m    847\u001b[0m     \u001b[38;5;66;03m# We don't want to try/except this and raise our own error\u001b[39;00m\n\u001b[1;32m    848\u001b[0m     \u001b[38;5;66;03m# here, because we want the traceback if the function fails.\u001b[39;00m\n\u001b[0;32m--> 849\u001b[0m     getter_result \u001b[38;5;241m=\u001b[39m \u001b[43mgetter\u001b[49m\u001b[43m(\u001b[49m\u001b[38;5;241;43m*\u001b[39;49m\u001b[43margs\u001b[49m\u001b[43m,\u001b[49m\u001b[43m \u001b[49m\u001b[38;5;241;43m*\u001b[39;49m\u001b[38;5;241;43m*\u001b[39;49m\u001b[43mkwargs\u001b[49m\u001b[43m)\u001b[49m\n\u001b[1;32m    850\u001b[0m \u001b[38;5;28;01melse\u001b[39;00m:\n\u001b[1;32m    851\u001b[0m     \u001b[38;5;66;03m# We're not resolving and calling the function, so replace\u001b[39;00m\n\u001b[1;32m    852\u001b[0m     \u001b[38;5;66;03m# the getter_result with a Promise class\u001b[39;00m\n\u001b[1;32m    853\u001b[0m     getter_result \u001b[38;5;241m=\u001b[39m Promise(\n\u001b[1;32m    854\u001b[0m         registry\u001b[38;5;241m=\u001b[39mreg_name, name\u001b[38;5;241m=\u001b[39mfunc_name, args\u001b[38;5;241m=\u001b[39margs, kwargs\u001b[38;5;241m=\u001b[39mkwargs\n\u001b[1;32m    855\u001b[0m     )\n",
      "File \u001b[0;32m~/Documents/papers-game/env/lib/python3.9/site-packages/spacy/language.py:108\u001b[0m, in \u001b[0;36mload_lookups_data\u001b[0;34m(lang, tables)\u001b[0m\n\u001b[1;32m    105\u001b[0m \u001b[38;5;129m@registry\u001b[39m\u001b[38;5;241m.\u001b[39mmisc(\u001b[38;5;124m\"\u001b[39m\u001b[38;5;124mspacy.LookupsDataLoader.v1\u001b[39m\u001b[38;5;124m\"\u001b[39m)\n\u001b[1;32m    106\u001b[0m \u001b[38;5;28;01mdef\u001b[39;00m \u001b[38;5;21mload_lookups_data\u001b[39m(lang, tables):\n\u001b[1;32m    107\u001b[0m     util\u001b[38;5;241m.\u001b[39mlogger\u001b[38;5;241m.\u001b[39mdebug(\u001b[38;5;124mf\u001b[39m\u001b[38;5;124m\"\u001b[39m\u001b[38;5;124mLoading lookups from spacy-lookups-data: \u001b[39m\u001b[38;5;132;01m{\u001b[39;00mtables\u001b[38;5;132;01m}\u001b[39;00m\u001b[38;5;124m\"\u001b[39m)\n\u001b[0;32m--> 108\u001b[0m     lookups \u001b[38;5;241m=\u001b[39m \u001b[43mload_lookups\u001b[49m\u001b[43m(\u001b[49m\u001b[43mlang\u001b[49m\u001b[38;5;241;43m=\u001b[39;49m\u001b[43mlang\u001b[49m\u001b[43m,\u001b[49m\u001b[43m \u001b[49m\u001b[43mtables\u001b[49m\u001b[38;5;241;43m=\u001b[39;49m\u001b[43mtables\u001b[49m\u001b[43m)\u001b[49m\n\u001b[1;32m    109\u001b[0m     \u001b[38;5;28;01mreturn\u001b[39;00m lookups\n",
      "File \u001b[0;32m~/Documents/papers-game/env/lib/python3.9/site-packages/spacy/lookups.py:30\u001b[0m, in \u001b[0;36mload_lookups\u001b[0;34m(lang, tables, strict)\u001b[0m\n\u001b[1;32m     28\u001b[0m \u001b[38;5;28;01mif\u001b[39;00m lang \u001b[38;5;129;01mnot\u001b[39;00m \u001b[38;5;129;01min\u001b[39;00m registry\u001b[38;5;241m.\u001b[39mlookups:\n\u001b[1;32m     29\u001b[0m     \u001b[38;5;28;01mif\u001b[39;00m strict \u001b[38;5;129;01mand\u001b[39;00m \u001b[38;5;28mlen\u001b[39m(tables) \u001b[38;5;241m>\u001b[39m \u001b[38;5;241m0\u001b[39m:\n\u001b[0;32m---> 30\u001b[0m         \u001b[38;5;28;01mraise\u001b[39;00m \u001b[38;5;167;01mValueError\u001b[39;00m(Errors\u001b[38;5;241m.\u001b[39mE955\u001b[38;5;241m.\u001b[39mformat(table\u001b[38;5;241m=\u001b[39m\u001b[38;5;124m\"\u001b[39m\u001b[38;5;124m, \u001b[39m\u001b[38;5;124m\"\u001b[39m\u001b[38;5;241m.\u001b[39mjoin(tables), lang\u001b[38;5;241m=\u001b[39mlang))\n\u001b[1;32m     31\u001b[0m     \u001b[38;5;28;01mreturn\u001b[39;00m lookups\n\u001b[1;32m     32\u001b[0m data \u001b[38;5;241m=\u001b[39m registry\u001b[38;5;241m.\u001b[39mlookups\u001b[38;5;241m.\u001b[39mget(lang)\n",
      "\u001b[0;31mValueError\u001b[0m: [E955] Can't find table(s) lexeme_norm for language 'en' in spacy-lookups-data. Make sure you have the package installed or provide your own lookup tables if no default lookups are available for your language."
     ]
    }
   ],
   "source": [
    "from spacy.pipeline.spancat import DEFAULT_SPANCAT_MODEL\n",
    "config = {\n",
    "    \"threshold\": 0.5,\n",
    "    \"spans_key\": \"labeled_spans\",\n",
    "    \"max_positive\": None,\n",
    "    \"model\": DEFAULT_SPANCAT_MODEL,\n",
    "    \"suggester\": {\"@misc\": \"spacy.ngram_suggester.v1\", \"sizes\": [1, 2, 3]},\n",
    "}\n",
    "nlp.add_pipe(\"spancat\", config=config)\n",
    "nlp.begin_training()"
   ]
  },
  {
   "cell_type": "code",
   "execution_count": 99,
   "metadata": {},
   "outputs": [
    {
     "ename": "AttributeError",
     "evalue": "module 'spacy' has no attribute 'displacy'",
     "output_type": "error",
     "traceback": [
      "\u001b[0;31m---------------------------------------------------------------------------\u001b[0m",
      "\u001b[0;31mAttributeError\u001b[0m                            Traceback (most recent call last)",
      "Cell \u001b[0;32mIn[99], line 3\u001b[0m\n\u001b[1;32m      1\u001b[0m \u001b[38;5;28;01mfrom\u001b[39;00m \u001b[38;5;21;01mspacy\u001b[39;00m \u001b[38;5;28;01mimport\u001b[39;00m displacy\n\u001b[0;32m----> 3\u001b[0m \u001b[43mspacy\u001b[49m\u001b[38;5;241;43m.\u001b[39;49m\u001b[43mdisplacy\u001b[49m\u001b[38;5;241m.\u001b[39mserve(x)\n",
      "\u001b[0;31mAttributeError\u001b[0m: module 'spacy' has no attribute 'displacy'"
     ]
    }
   ],
   "source": [
    "from spacy import displacy\n",
    "\n",
    "spacy.displacy.serve(x)"
   ]
  },
  {
   "cell_type": "code",
   "execution_count": 127,
   "metadata": {},
   "outputs": [
    {
     "data": {
      "text/plain": [
       "Open Information Extraction (OpenIE) aims to extract structured relational tuples (subject, relation, object) from sentences and plays critical roles for many downstream NLP applications. Existing solutions perform extraction at sentence level, without referring to any additional contextual information. In reality, however, a sentence typically exists as part of a document rather than standalone; we often need to access relevant contextual information around the sentence before we can accurately interpret it. As there is no documentlevel context-aware OpenIE dataset available, we manually annotate 800 sentences from 80 documents in two domains (Healthcare and Transportation) to form a DocOIE dataset for evaluation. In addition, we propose DocIE, a novel document-level context-aware OpenIE model. Our experimental results based on DocIE demonstrate that incorporating documentlevel context is helpful in improving OpenIE performance. Both DocOIE dataset and DocIE model are released for public 1."
      ]
     },
     "execution_count": 127,
     "metadata": {},
     "output_type": "execute_result"
    }
   ],
   "source": [
    "x"
   ]
  },
  {
   "cell_type": "code",
   "execution_count": 125,
   "metadata": {},
   "outputs": [
    {
     "ename": "ValueError",
     "evalue": "[E109] Component 'spancat' could not be run. Did you forget to call `initialize()`?",
     "output_type": "error",
     "traceback": [
      "\u001b[0;31m---------------------------------------------------------------------------\u001b[0m",
      "\u001b[0;31mKeyError\u001b[0m                                  Traceback (most recent call last)",
      "File \u001b[0;32m~/Documents/papers-game/env/lib/python3.9/site-packages/spacy/language.py:1011\u001b[0m, in \u001b[0;36mLanguage.__call__\u001b[0;34m(self, text, disable, component_cfg)\u001b[0m\n\u001b[1;32m   1010\u001b[0m \u001b[38;5;28;01mtry\u001b[39;00m:\n\u001b[0;32m-> 1011\u001b[0m     doc \u001b[38;5;241m=\u001b[39m \u001b[43mproc\u001b[49m\u001b[43m(\u001b[49m\u001b[43mdoc\u001b[49m\u001b[43m,\u001b[49m\u001b[43m \u001b[49m\u001b[38;5;241;43m*\u001b[39;49m\u001b[38;5;241;43m*\u001b[39;49m\u001b[43mcomponent_cfg\u001b[49m\u001b[38;5;241;43m.\u001b[39;49m\u001b[43mget\u001b[49m\u001b[43m(\u001b[49m\u001b[43mname\u001b[49m\u001b[43m,\u001b[49m\u001b[43m \u001b[49m\u001b[43m{\u001b[49m\u001b[43m}\u001b[49m\u001b[43m)\u001b[49m\u001b[43m)\u001b[49m  \u001b[38;5;66;03m# type: ignore[call-arg]\u001b[39;00m\n\u001b[1;32m   1012\u001b[0m \u001b[38;5;28;01mexcept\u001b[39;00m \u001b[38;5;167;01mKeyError\u001b[39;00m \u001b[38;5;28;01mas\u001b[39;00m e:\n\u001b[1;32m   1013\u001b[0m     \u001b[38;5;66;03m# This typically happens if a component is not initialized\u001b[39;00m\n",
      "File \u001b[0;32m~/Documents/papers-game/env/lib/python3.9/site-packages/spacy/pipeline/trainable_pipe.pyx:56\u001b[0m, in \u001b[0;36mspacy.pipeline.trainable_pipe.TrainablePipe.__call__\u001b[0;34m()\u001b[0m\n",
      "File \u001b[0;32m~/Documents/papers-game/env/lib/python3.9/site-packages/spacy/util.py:1672\u001b[0m, in \u001b[0;36mraise_error\u001b[0;34m(proc_name, proc, docs, e)\u001b[0m\n\u001b[1;32m   1671\u001b[0m \u001b[38;5;28;01mdef\u001b[39;00m \u001b[38;5;21mraise_error\u001b[39m(proc_name, proc, docs, e):\n\u001b[0;32m-> 1672\u001b[0m     \u001b[38;5;28;01mraise\u001b[39;00m e\n",
      "File \u001b[0;32m~/Documents/papers-game/env/lib/python3.9/site-packages/spacy/pipeline/trainable_pipe.pyx:52\u001b[0m, in \u001b[0;36mspacy.pipeline.trainable_pipe.TrainablePipe.__call__\u001b[0;34m()\u001b[0m\n",
      "File \u001b[0;32m~/Documents/papers-game/env/lib/python3.9/site-packages/spacy/pipeline/spancat.py:278\u001b[0m, in \u001b[0;36mSpanCategorizer.predict\u001b[0;34m(self, docs)\u001b[0m\n\u001b[1;32m    277\u001b[0m \u001b[38;5;28;01melse\u001b[39;00m:\n\u001b[0;32m--> 278\u001b[0m     scores \u001b[38;5;241m=\u001b[39m \u001b[38;5;28;43mself\u001b[39;49m\u001b[38;5;241;43m.\u001b[39;49m\u001b[43mmodel\u001b[49m\u001b[38;5;241;43m.\u001b[39;49m\u001b[43mpredict\u001b[49m\u001b[43m(\u001b[49m\u001b[43m(\u001b[49m\u001b[43mdocs\u001b[49m\u001b[43m,\u001b[49m\u001b[43m \u001b[49m\u001b[43mindices\u001b[49m\u001b[43m)\u001b[49m\u001b[43m)\u001b[49m  \u001b[38;5;66;03m# type: ignore\u001b[39;00m\n\u001b[1;32m    279\u001b[0m \u001b[38;5;28;01mreturn\u001b[39;00m indices, scores\n",
      "File \u001b[0;32m~/Documents/papers-game/env/lib/python3.9/site-packages/thinc/model.py:315\u001b[0m, in \u001b[0;36mModel.predict\u001b[0;34m(self, X)\u001b[0m\n\u001b[1;32m    312\u001b[0m \u001b[38;5;250m\u001b[39m\u001b[38;5;124;03m\"\"\"Call the model's `forward` function with `is_train=False`, and return\u001b[39;00m\n\u001b[1;32m    313\u001b[0m \u001b[38;5;124;03monly the output, instead of the `(output, callback)` tuple.\u001b[39;00m\n\u001b[1;32m    314\u001b[0m \u001b[38;5;124;03m\"\"\"\u001b[39;00m\n\u001b[0;32m--> 315\u001b[0m \u001b[38;5;28;01mreturn\u001b[39;00m \u001b[38;5;28;43mself\u001b[39;49m\u001b[38;5;241;43m.\u001b[39;49m\u001b[43m_func\u001b[49m\u001b[43m(\u001b[49m\u001b[38;5;28;43mself\u001b[39;49m\u001b[43m,\u001b[49m\u001b[43m \u001b[49m\u001b[43mX\u001b[49m\u001b[43m,\u001b[49m\u001b[43m \u001b[49m\u001b[43mis_train\u001b[49m\u001b[38;5;241;43m=\u001b[39;49m\u001b[38;5;28;43;01mFalse\u001b[39;49;00m\u001b[43m)\u001b[49m[\u001b[38;5;241m0\u001b[39m]\n",
      "File \u001b[0;32m~/Documents/papers-game/env/lib/python3.9/site-packages/thinc/layers/chain.py:55\u001b[0m, in \u001b[0;36mforward\u001b[0;34m(model, X, is_train)\u001b[0m\n\u001b[1;32m     54\u001b[0m \u001b[38;5;28;01mfor\u001b[39;00m layer \u001b[38;5;129;01min\u001b[39;00m model\u001b[38;5;241m.\u001b[39mlayers:\n\u001b[0;32m---> 55\u001b[0m     Y, inc_layer_grad \u001b[38;5;241m=\u001b[39m \u001b[43mlayer\u001b[49m\u001b[43m(\u001b[49m\u001b[43mX\u001b[49m\u001b[43m,\u001b[49m\u001b[43m \u001b[49m\u001b[43mis_train\u001b[49m\u001b[38;5;241;43m=\u001b[39;49m\u001b[43mis_train\u001b[49m\u001b[43m)\u001b[49m\n\u001b[1;32m     56\u001b[0m     callbacks\u001b[38;5;241m.\u001b[39mappend(inc_layer_grad)\n",
      "File \u001b[0;32m~/Documents/papers-game/env/lib/python3.9/site-packages/thinc/model.py:291\u001b[0m, in \u001b[0;36mModel.__call__\u001b[0;34m(self, X, is_train)\u001b[0m\n\u001b[1;32m    289\u001b[0m \u001b[38;5;250m\u001b[39m\u001b[38;5;124;03m\"\"\"Call the model's `forward` function, returning the output and a\u001b[39;00m\n\u001b[1;32m    290\u001b[0m \u001b[38;5;124;03mcallback to compute the gradients via backpropagation.\"\"\"\u001b[39;00m\n\u001b[0;32m--> 291\u001b[0m \u001b[38;5;28;01mreturn\u001b[39;00m \u001b[38;5;28;43mself\u001b[39;49m\u001b[38;5;241;43m.\u001b[39;49m\u001b[43m_func\u001b[49m\u001b[43m(\u001b[49m\u001b[38;5;28;43mself\u001b[39;49m\u001b[43m,\u001b[49m\u001b[43m \u001b[49m\u001b[43mX\u001b[49m\u001b[43m,\u001b[49m\u001b[43m \u001b[49m\u001b[43mis_train\u001b[49m\u001b[38;5;241;43m=\u001b[39;49m\u001b[43mis_train\u001b[49m\u001b[43m)\u001b[49m\n",
      "File \u001b[0;32m~/Documents/papers-game/env/lib/python3.9/site-packages/thinc/layers/with_getitem.py:29\u001b[0m, in \u001b[0;36mforward\u001b[0;34m(model, items, is_train)\u001b[0m\n\u001b[1;32m     28\u001b[0m idx \u001b[38;5;241m=\u001b[39m model\u001b[38;5;241m.\u001b[39mattrs[\u001b[38;5;124m\"\u001b[39m\u001b[38;5;124midx\u001b[39m\u001b[38;5;124m\"\u001b[39m]\n\u001b[0;32m---> 29\u001b[0m Y_i, backprop_item \u001b[38;5;241m=\u001b[39m \u001b[43mmodel\u001b[49m\u001b[38;5;241;43m.\u001b[39;49m\u001b[43mlayers\u001b[49m\u001b[43m[\u001b[49m\u001b[38;5;241;43m0\u001b[39;49m\u001b[43m]\u001b[49m\u001b[43m(\u001b[49m\u001b[43mitems\u001b[49m\u001b[43m[\u001b[49m\u001b[43midx\u001b[49m\u001b[43m]\u001b[49m\u001b[43m,\u001b[49m\u001b[43m \u001b[49m\u001b[43mis_train\u001b[49m\u001b[43m)\u001b[49m\n\u001b[1;32m     31\u001b[0m \u001b[38;5;28;01mdef\u001b[39;00m \u001b[38;5;21mbackprop\u001b[39m(d_output: OutT) \u001b[38;5;241m-\u001b[39m\u001b[38;5;241m>\u001b[39m InT:\n",
      "File \u001b[0;32m~/Documents/papers-game/env/lib/python3.9/site-packages/thinc/model.py:291\u001b[0m, in \u001b[0;36mModel.__call__\u001b[0;34m(self, X, is_train)\u001b[0m\n\u001b[1;32m    289\u001b[0m \u001b[38;5;250m\u001b[39m\u001b[38;5;124;03m\"\"\"Call the model's `forward` function, returning the output and a\u001b[39;00m\n\u001b[1;32m    290\u001b[0m \u001b[38;5;124;03mcallback to compute the gradients via backpropagation.\"\"\"\u001b[39;00m\n\u001b[0;32m--> 291\u001b[0m \u001b[38;5;28;01mreturn\u001b[39;00m \u001b[38;5;28;43mself\u001b[39;49m\u001b[38;5;241;43m.\u001b[39;49m\u001b[43m_func\u001b[49m\u001b[43m(\u001b[49m\u001b[38;5;28;43mself\u001b[39;49m\u001b[43m,\u001b[49m\u001b[43m \u001b[49m\u001b[43mX\u001b[49m\u001b[43m,\u001b[49m\u001b[43m \u001b[49m\u001b[43mis_train\u001b[49m\u001b[38;5;241;43m=\u001b[39;49m\u001b[43mis_train\u001b[49m\u001b[43m)\u001b[49m\n",
      "File \u001b[0;32m~/Documents/papers-game/env/lib/python3.9/site-packages/thinc/layers/chain.py:55\u001b[0m, in \u001b[0;36mforward\u001b[0;34m(model, X, is_train)\u001b[0m\n\u001b[1;32m     54\u001b[0m \u001b[38;5;28;01mfor\u001b[39;00m layer \u001b[38;5;129;01min\u001b[39;00m model\u001b[38;5;241m.\u001b[39mlayers:\n\u001b[0;32m---> 55\u001b[0m     Y, inc_layer_grad \u001b[38;5;241m=\u001b[39m \u001b[43mlayer\u001b[49m\u001b[43m(\u001b[49m\u001b[43mX\u001b[49m\u001b[43m,\u001b[49m\u001b[43m \u001b[49m\u001b[43mis_train\u001b[49m\u001b[38;5;241;43m=\u001b[39;49m\u001b[43mis_train\u001b[49m\u001b[43m)\u001b[49m\n\u001b[1;32m     56\u001b[0m     callbacks\u001b[38;5;241m.\u001b[39mappend(inc_layer_grad)\n",
      "File \u001b[0;32m~/Documents/papers-game/env/lib/python3.9/site-packages/thinc/model.py:291\u001b[0m, in \u001b[0;36mModel.__call__\u001b[0;34m(self, X, is_train)\u001b[0m\n\u001b[1;32m    289\u001b[0m \u001b[38;5;250m\u001b[39m\u001b[38;5;124;03m\"\"\"Call the model's `forward` function, returning the output and a\u001b[39;00m\n\u001b[1;32m    290\u001b[0m \u001b[38;5;124;03mcallback to compute the gradients via backpropagation.\"\"\"\u001b[39;00m\n\u001b[0;32m--> 291\u001b[0m \u001b[38;5;28;01mreturn\u001b[39;00m \u001b[38;5;28;43mself\u001b[39;49m\u001b[38;5;241;43m.\u001b[39;49m\u001b[43m_func\u001b[49m\u001b[43m(\u001b[49m\u001b[38;5;28;43mself\u001b[39;49m\u001b[43m,\u001b[49m\u001b[43m \u001b[49m\u001b[43mX\u001b[49m\u001b[43m,\u001b[49m\u001b[43m \u001b[49m\u001b[43mis_train\u001b[49m\u001b[38;5;241;43m=\u001b[39;49m\u001b[43mis_train\u001b[49m\u001b[43m)\u001b[49m\n",
      "File \u001b[0;32m~/Documents/papers-game/env/lib/python3.9/site-packages/thinc/layers/chain.py:55\u001b[0m, in \u001b[0;36mforward\u001b[0;34m(model, X, is_train)\u001b[0m\n\u001b[1;32m     54\u001b[0m \u001b[38;5;28;01mfor\u001b[39;00m layer \u001b[38;5;129;01min\u001b[39;00m model\u001b[38;5;241m.\u001b[39mlayers:\n\u001b[0;32m---> 55\u001b[0m     Y, inc_layer_grad \u001b[38;5;241m=\u001b[39m \u001b[43mlayer\u001b[49m\u001b[43m(\u001b[49m\u001b[43mX\u001b[49m\u001b[43m,\u001b[49m\u001b[43m \u001b[49m\u001b[43mis_train\u001b[49m\u001b[38;5;241;43m=\u001b[39;49m\u001b[43mis_train\u001b[49m\u001b[43m)\u001b[49m\n\u001b[1;32m     56\u001b[0m     callbacks\u001b[38;5;241m.\u001b[39mappend(inc_layer_grad)\n",
      "    \u001b[0;31m[... skipping similar frames: Model.__call__ at line 291 (1 times)]\u001b[0m\n",
      "File \u001b[0;32m~/Documents/papers-game/env/lib/python3.9/site-packages/thinc/layers/chain.py:55\u001b[0m, in \u001b[0;36mforward\u001b[0;34m(model, X, is_train)\u001b[0m\n\u001b[1;32m     54\u001b[0m \u001b[38;5;28;01mfor\u001b[39;00m layer \u001b[38;5;129;01min\u001b[39;00m model\u001b[38;5;241m.\u001b[39mlayers:\n\u001b[0;32m---> 55\u001b[0m     Y, inc_layer_grad \u001b[38;5;241m=\u001b[39m \u001b[43mlayer\u001b[49m\u001b[43m(\u001b[49m\u001b[43mX\u001b[49m\u001b[43m,\u001b[49m\u001b[43m \u001b[49m\u001b[43mis_train\u001b[49m\u001b[38;5;241;43m=\u001b[39;49m\u001b[43mis_train\u001b[49m\u001b[43m)\u001b[49m\n\u001b[1;32m     56\u001b[0m     callbacks\u001b[38;5;241m.\u001b[39mappend(inc_layer_grad)\n",
      "File \u001b[0;32m~/Documents/papers-game/env/lib/python3.9/site-packages/thinc/model.py:291\u001b[0m, in \u001b[0;36mModel.__call__\u001b[0;34m(self, X, is_train)\u001b[0m\n\u001b[1;32m    289\u001b[0m \u001b[38;5;250m\u001b[39m\u001b[38;5;124;03m\"\"\"Call the model's `forward` function, returning the output and a\u001b[39;00m\n\u001b[1;32m    290\u001b[0m \u001b[38;5;124;03mcallback to compute the gradients via backpropagation.\"\"\"\u001b[39;00m\n\u001b[0;32m--> 291\u001b[0m \u001b[38;5;28;01mreturn\u001b[39;00m \u001b[38;5;28;43mself\u001b[39;49m\u001b[38;5;241;43m.\u001b[39;49m\u001b[43m_func\u001b[49m\u001b[43m(\u001b[49m\u001b[38;5;28;43mself\u001b[39;49m\u001b[43m,\u001b[49m\u001b[43m \u001b[49m\u001b[43mX\u001b[49m\u001b[43m,\u001b[49m\u001b[43m \u001b[49m\u001b[43mis_train\u001b[49m\u001b[38;5;241;43m=\u001b[39;49m\u001b[43mis_train\u001b[49m\u001b[43m)\u001b[49m\n",
      "File \u001b[0;32m~/Documents/papers-game/env/lib/python3.9/site-packages/thinc/layers/with_array.py:32\u001b[0m, in \u001b[0;36mforward\u001b[0;34m(model, Xseq, is_train)\u001b[0m\n\u001b[1;32m     31\u001b[0m \u001b[38;5;28;01mif\u001b[39;00m \u001b[38;5;28misinstance\u001b[39m(Xseq, Ragged):\n\u001b[0;32m---> 32\u001b[0m     \u001b[38;5;28;01mreturn\u001b[39;00m cast(Tuple[SeqT, Callable], \u001b[43m_ragged_forward\u001b[49m\u001b[43m(\u001b[49m\u001b[43mmodel\u001b[49m\u001b[43m,\u001b[49m\u001b[43m \u001b[49m\u001b[43mXseq\u001b[49m\u001b[43m,\u001b[49m\u001b[43m \u001b[49m\u001b[43mis_train\u001b[49m\u001b[43m)\u001b[49m)\n\u001b[1;32m     33\u001b[0m \u001b[38;5;28;01melif\u001b[39;00m \u001b[38;5;28misinstance\u001b[39m(Xseq, Padded):\n",
      "File \u001b[0;32m~/Documents/papers-game/env/lib/python3.9/site-packages/thinc/layers/with_array.py:87\u001b[0m, in \u001b[0;36m_ragged_forward\u001b[0;34m(model, Xr, is_train)\u001b[0m\n\u001b[1;32m     86\u001b[0m layer: Model[ArrayXd, ArrayXd] \u001b[38;5;241m=\u001b[39m model\u001b[38;5;241m.\u001b[39mlayers[\u001b[38;5;241m0\u001b[39m]\n\u001b[0;32m---> 87\u001b[0m Y, get_dX \u001b[38;5;241m=\u001b[39m \u001b[43mlayer\u001b[49m\u001b[43m(\u001b[49m\u001b[43mXr\u001b[49m\u001b[38;5;241;43m.\u001b[39;49m\u001b[43mdataXd\u001b[49m\u001b[43m,\u001b[49m\u001b[43m \u001b[49m\u001b[43mis_train\u001b[49m\u001b[43m)\u001b[49m\n\u001b[1;32m     89\u001b[0m \u001b[38;5;28;01mdef\u001b[39;00m \u001b[38;5;21mbackprop\u001b[39m(dYr: Ragged) \u001b[38;5;241m-\u001b[39m\u001b[38;5;241m>\u001b[39m Ragged:\n",
      "File \u001b[0;32m~/Documents/papers-game/env/lib/python3.9/site-packages/thinc/model.py:291\u001b[0m, in \u001b[0;36mModel.__call__\u001b[0;34m(self, X, is_train)\u001b[0m\n\u001b[1;32m    289\u001b[0m \u001b[38;5;250m\u001b[39m\u001b[38;5;124;03m\"\"\"Call the model's `forward` function, returning the output and a\u001b[39;00m\n\u001b[1;32m    290\u001b[0m \u001b[38;5;124;03mcallback to compute the gradients via backpropagation.\"\"\"\u001b[39;00m\n\u001b[0;32m--> 291\u001b[0m \u001b[38;5;28;01mreturn\u001b[39;00m \u001b[38;5;28;43mself\u001b[39;49m\u001b[38;5;241;43m.\u001b[39;49m\u001b[43m_func\u001b[49m\u001b[43m(\u001b[49m\u001b[38;5;28;43mself\u001b[39;49m\u001b[43m,\u001b[49m\u001b[43m \u001b[49m\u001b[43mX\u001b[49m\u001b[43m,\u001b[49m\u001b[43m \u001b[49m\u001b[43mis_train\u001b[49m\u001b[38;5;241;43m=\u001b[39;49m\u001b[43mis_train\u001b[49m\u001b[43m)\u001b[49m\n",
      "File \u001b[0;32m~/Documents/papers-game/env/lib/python3.9/site-packages/thinc/layers/concatenate.py:44\u001b[0m, in \u001b[0;36mforward\u001b[0;34m(model, X, is_train)\u001b[0m\n\u001b[1;32m     43\u001b[0m \u001b[38;5;28;01mdef\u001b[39;00m \u001b[38;5;21mforward\u001b[39m(model: Model[InT, OutT], X: InT, is_train: \u001b[38;5;28mbool\u001b[39m) \u001b[38;5;241m-\u001b[39m\u001b[38;5;241m>\u001b[39m Tuple[OutT, Callable]:\n\u001b[0;32m---> 44\u001b[0m     Ys, callbacks \u001b[38;5;241m=\u001b[39m \u001b[38;5;28mzip\u001b[39m(\u001b[38;5;241m*\u001b[39m[layer(X, is_train\u001b[38;5;241m=\u001b[39mis_train) \u001b[38;5;28;01mfor\u001b[39;00m layer \u001b[38;5;129;01min\u001b[39;00m model\u001b[38;5;241m.\u001b[39mlayers])\n\u001b[1;32m     45\u001b[0m     \u001b[38;5;28;01mif\u001b[39;00m \u001b[38;5;28misinstance\u001b[39m(Ys[\u001b[38;5;241m0\u001b[39m], \u001b[38;5;28mlist\u001b[39m):\n",
      "File \u001b[0;32m~/Documents/papers-game/env/lib/python3.9/site-packages/thinc/layers/concatenate.py:44\u001b[0m, in \u001b[0;36m<listcomp>\u001b[0;34m(.0)\u001b[0m\n\u001b[1;32m     43\u001b[0m \u001b[38;5;28;01mdef\u001b[39;00m \u001b[38;5;21mforward\u001b[39m(model: Model[InT, OutT], X: InT, is_train: \u001b[38;5;28mbool\u001b[39m) \u001b[38;5;241m-\u001b[39m\u001b[38;5;241m>\u001b[39m Tuple[OutT, Callable]:\n\u001b[0;32m---> 44\u001b[0m     Ys, callbacks \u001b[38;5;241m=\u001b[39m \u001b[38;5;28mzip\u001b[39m(\u001b[38;5;241m*\u001b[39m[\u001b[43mlayer\u001b[49m\u001b[43m(\u001b[49m\u001b[43mX\u001b[49m\u001b[43m,\u001b[49m\u001b[43m \u001b[49m\u001b[43mis_train\u001b[49m\u001b[38;5;241;43m=\u001b[39;49m\u001b[43mis_train\u001b[49m\u001b[43m)\u001b[49m \u001b[38;5;28;01mfor\u001b[39;00m layer \u001b[38;5;129;01min\u001b[39;00m model\u001b[38;5;241m.\u001b[39mlayers])\n\u001b[1;32m     45\u001b[0m     \u001b[38;5;28;01mif\u001b[39;00m \u001b[38;5;28misinstance\u001b[39m(Ys[\u001b[38;5;241m0\u001b[39m], \u001b[38;5;28mlist\u001b[39m):\n",
      "File \u001b[0;32m~/Documents/papers-game/env/lib/python3.9/site-packages/thinc/model.py:291\u001b[0m, in \u001b[0;36mModel.__call__\u001b[0;34m(self, X, is_train)\u001b[0m\n\u001b[1;32m    289\u001b[0m \u001b[38;5;250m\u001b[39m\u001b[38;5;124;03m\"\"\"Call the model's `forward` function, returning the output and a\u001b[39;00m\n\u001b[1;32m    290\u001b[0m \u001b[38;5;124;03mcallback to compute the gradients via backpropagation.\"\"\"\u001b[39;00m\n\u001b[0;32m--> 291\u001b[0m \u001b[38;5;28;01mreturn\u001b[39;00m \u001b[38;5;28;43mself\u001b[39;49m\u001b[38;5;241;43m.\u001b[39;49m\u001b[43m_func\u001b[49m\u001b[43m(\u001b[49m\u001b[38;5;28;43mself\u001b[39;49m\u001b[43m,\u001b[49m\u001b[43m \u001b[49m\u001b[43mX\u001b[49m\u001b[43m,\u001b[49m\u001b[43m \u001b[49m\u001b[43mis_train\u001b[49m\u001b[38;5;241;43m=\u001b[39;49m\u001b[43mis_train\u001b[49m\u001b[43m)\u001b[49m\n",
      "File \u001b[0;32m~/Documents/papers-game/env/lib/python3.9/site-packages/thinc/layers/chain.py:55\u001b[0m, in \u001b[0;36mforward\u001b[0;34m(model, X, is_train)\u001b[0m\n\u001b[1;32m     54\u001b[0m \u001b[38;5;28;01mfor\u001b[39;00m layer \u001b[38;5;129;01min\u001b[39;00m model\u001b[38;5;241m.\u001b[39mlayers:\n\u001b[0;32m---> 55\u001b[0m     Y, inc_layer_grad \u001b[38;5;241m=\u001b[39m \u001b[43mlayer\u001b[49m\u001b[43m(\u001b[49m\u001b[43mX\u001b[49m\u001b[43m,\u001b[49m\u001b[43m \u001b[49m\u001b[43mis_train\u001b[49m\u001b[38;5;241;43m=\u001b[39;49m\u001b[43mis_train\u001b[49m\u001b[43m)\u001b[49m\n\u001b[1;32m     56\u001b[0m     callbacks\u001b[38;5;241m.\u001b[39mappend(inc_layer_grad)\n",
      "File \u001b[0;32m~/Documents/papers-game/env/lib/python3.9/site-packages/thinc/model.py:291\u001b[0m, in \u001b[0;36mModel.__call__\u001b[0;34m(self, X, is_train)\u001b[0m\n\u001b[1;32m    289\u001b[0m \u001b[38;5;250m\u001b[39m\u001b[38;5;124;03m\"\"\"Call the model's `forward` function, returning the output and a\u001b[39;00m\n\u001b[1;32m    290\u001b[0m \u001b[38;5;124;03mcallback to compute the gradients via backpropagation.\"\"\"\u001b[39;00m\n\u001b[0;32m--> 291\u001b[0m \u001b[38;5;28;01mreturn\u001b[39;00m \u001b[38;5;28;43mself\u001b[39;49m\u001b[38;5;241;43m.\u001b[39;49m\u001b[43m_func\u001b[49m\u001b[43m(\u001b[49m\u001b[38;5;28;43mself\u001b[39;49m\u001b[43m,\u001b[49m\u001b[43m \u001b[49m\u001b[43mX\u001b[49m\u001b[43m,\u001b[49m\u001b[43m \u001b[49m\u001b[43mis_train\u001b[49m\u001b[38;5;241;43m=\u001b[39;49m\u001b[43mis_train\u001b[49m\u001b[43m)\u001b[49m\n",
      "File \u001b[0;32m~/Documents/papers-game/env/lib/python3.9/site-packages/thinc/layers/hashembed.py:63\u001b[0m, in \u001b[0;36mforward\u001b[0;34m(model, ids, is_train)\u001b[0m\n\u001b[1;32m     60\u001b[0m \u001b[38;5;28;01mdef\u001b[39;00m \u001b[38;5;21mforward\u001b[39m(\n\u001b[1;32m     61\u001b[0m     model: Model[Ints1d, OutT], ids: Ints1d, is_train: \u001b[38;5;28mbool\u001b[39m\n\u001b[1;32m     62\u001b[0m ) \u001b[38;5;241m-\u001b[39m\u001b[38;5;241m>\u001b[39m Tuple[OutT, Callable]:\n\u001b[0;32m---> 63\u001b[0m     vectors \u001b[38;5;241m=\u001b[39m cast(Floats2d, \u001b[43mmodel\u001b[49m\u001b[38;5;241;43m.\u001b[39;49m\u001b[43mget_param\u001b[49m\u001b[43m(\u001b[49m\u001b[38;5;124;43m\"\u001b[39;49m\u001b[38;5;124;43mE\u001b[39;49m\u001b[38;5;124;43m\"\u001b[39;49m\u001b[43m)\u001b[49m)\n\u001b[1;32m     64\u001b[0m     nV \u001b[38;5;241m=\u001b[39m vectors\u001b[38;5;241m.\u001b[39mshape[\u001b[38;5;241m0\u001b[39m]\n",
      "File \u001b[0;32m~/Documents/papers-game/env/lib/python3.9/site-packages/thinc/model.py:216\u001b[0m, in \u001b[0;36mModel.get_param\u001b[0;34m(self, name)\u001b[0m\n\u001b[1;32m    215\u001b[0m \u001b[38;5;28;01mif\u001b[39;00m \u001b[38;5;129;01mnot\u001b[39;00m \u001b[38;5;28mself\u001b[39m\u001b[38;5;241m.\u001b[39m_params\u001b[38;5;241m.\u001b[39mhas_param(\u001b[38;5;28mself\u001b[39m\u001b[38;5;241m.\u001b[39mid, name):\n\u001b[0;32m--> 216\u001b[0m     \u001b[38;5;28;01mraise\u001b[39;00m \u001b[38;5;167;01mKeyError\u001b[39;00m(\n\u001b[1;32m    217\u001b[0m         \u001b[38;5;124mf\u001b[39m\u001b[38;5;124m\"\u001b[39m\u001b[38;5;124mParameter \u001b[39m\u001b[38;5;124m'\u001b[39m\u001b[38;5;132;01m{\u001b[39;00mname\u001b[38;5;132;01m}\u001b[39;00m\u001b[38;5;124m'\u001b[39m\u001b[38;5;124m for model \u001b[39m\u001b[38;5;124m'\u001b[39m\u001b[38;5;132;01m{\u001b[39;00m\u001b[38;5;28mself\u001b[39m\u001b[38;5;241m.\u001b[39mname\u001b[38;5;132;01m}\u001b[39;00m\u001b[38;5;124m'\u001b[39m\u001b[38;5;124m has not been allocated yet.\u001b[39m\u001b[38;5;124m\"\u001b[39m\n\u001b[1;32m    218\u001b[0m     )\n\u001b[1;32m    219\u001b[0m \u001b[38;5;28;01mreturn\u001b[39;00m \u001b[38;5;28mself\u001b[39m\u001b[38;5;241m.\u001b[39m_params\u001b[38;5;241m.\u001b[39mget_param(\u001b[38;5;28mself\u001b[39m\u001b[38;5;241m.\u001b[39mid, name)\n",
      "\u001b[0;31mKeyError\u001b[0m: \"Parameter 'E' for model 'hashembed' has not been allocated yet.\"",
      "\nThe above exception was the direct cause of the following exception:\n",
      "\u001b[0;31mValueError\u001b[0m                                Traceback (most recent call last)",
      "Cell \u001b[0;32mIn[125], line 1\u001b[0m\n\u001b[0;32m----> 1\u001b[0m x \u001b[38;5;241m=\u001b[39m \u001b[43mnlp\u001b[49m\u001b[43m(\u001b[49m\u001b[43mtext\u001b[49m\u001b[43m)\u001b[49m\n\u001b[1;32m      2\u001b[0m x\u001b[38;5;241m.\u001b[39mnoun_chunks\n",
      "File \u001b[0;32m~/Documents/papers-game/env/lib/python3.9/site-packages/spacy/language.py:1014\u001b[0m, in \u001b[0;36mLanguage.__call__\u001b[0;34m(self, text, disable, component_cfg)\u001b[0m\n\u001b[1;32m   1011\u001b[0m     doc \u001b[38;5;241m=\u001b[39m proc(doc, \u001b[38;5;241m*\u001b[39m\u001b[38;5;241m*\u001b[39mcomponent_cfg\u001b[38;5;241m.\u001b[39mget(name, {}))  \u001b[38;5;66;03m# type: ignore[call-arg]\u001b[39;00m\n\u001b[1;32m   1012\u001b[0m \u001b[38;5;28;01mexcept\u001b[39;00m \u001b[38;5;167;01mKeyError\u001b[39;00m \u001b[38;5;28;01mas\u001b[39;00m e:\n\u001b[1;32m   1013\u001b[0m     \u001b[38;5;66;03m# This typically happens if a component is not initialized\u001b[39;00m\n\u001b[0;32m-> 1014\u001b[0m     \u001b[38;5;28;01mraise\u001b[39;00m \u001b[38;5;167;01mValueError\u001b[39;00m(Errors\u001b[38;5;241m.\u001b[39mE109\u001b[38;5;241m.\u001b[39mformat(name\u001b[38;5;241m=\u001b[39mname)) \u001b[38;5;28;01mfrom\u001b[39;00m \u001b[38;5;21;01me\u001b[39;00m\n\u001b[1;32m   1015\u001b[0m \u001b[38;5;28;01mexcept\u001b[39;00m \u001b[38;5;167;01mException\u001b[39;00m \u001b[38;5;28;01mas\u001b[39;00m e:\n\u001b[1;32m   1016\u001b[0m     error_handler(name, proc, [doc], e)\n",
      "\u001b[0;31mValueError\u001b[0m: [E109] Component 'spancat' could not be run. Did you forget to call `initialize()`?"
     ]
    }
   ],
   "source": [
    "x = nlp(text)\n",
    "x.noun_chunks"
   ]
  },
  {
   "cell_type": "code",
   "execution_count": 121,
   "metadata": {},
   "outputs": [
    {
     "data": {
      "text/plain": [
       "{'_': <spacy.tokens.underscore.Underscore at 0x7ff03bf38f70>,\n",
       " '__class__': spacy.tokens.span.Span,\n",
       " '__delattr__': <method-wrapper '__delattr__' of spacy.tokens.span.Span object at 0x7ff03bf08eb0>,\n",
       " '__dir__': <function Span.__dir__()>,\n",
       " '__doc__': 'A slice from a Doc object.\\n\\n    DOCS: https://spacy.io/api/span\\n    ',\n",
       " '__eq__': <method-wrapper '__eq__' of spacy.tokens.span.Span object at 0x7ff03bf08dd0>,\n",
       " '__format__': <function Span.__format__(format_spec, /)>,\n",
       " '__ge__': <method-wrapper '__ge__' of spacy.tokens.span.Span object at 0x7fefee51c040>,\n",
       " '__getattribute__': <method-wrapper '__getattribute__' of spacy.tokens.span.Span object at 0x7fefee51c0b0>,\n",
       " '__getitem__': <method-wrapper '__getitem__' of spacy.tokens.span.Span object at 0x7fefee51c120>,\n",
       " '__gt__': <method-wrapper '__gt__' of spacy.tokens.span.Span object at 0x7fefee51c190>,\n",
       " '__hash__': <method-wrapper '__hash__' of spacy.tokens.span.Span object at 0x7fefee51c200>,\n",
       " '__init__': <method-wrapper '__init__' of spacy.tokens.span.Span object at 0x7fefee51c270>,\n",
       " '__init_subclass__': <function Span.__init_subclass__>,\n",
       " '__iter__': <method-wrapper '__iter__' of spacy.tokens.span.Span object at 0x7fefee51c2e0>,\n",
       " '__le__': <method-wrapper '__le__' of spacy.tokens.span.Span object at 0x7fefee51c350>,\n",
       " '__len__': <method-wrapper '__len__' of spacy.tokens.span.Span object at 0x7fefee51c3c0>,\n",
       " '__lt__': <method-wrapper '__lt__' of spacy.tokens.span.Span object at 0x7fefee51c430>,\n",
       " '__ne__': <method-wrapper '__ne__' of spacy.tokens.span.Span object at 0x7fefee51c4a0>,\n",
       " '__new__': <function Span.__new__(*args, **kwargs)>,\n",
       " '__pyx_vtable__': <capsule object NULL at 0x7fefbffa0420>,\n",
       " '__reduce__': <function Span.__reduce__>,\n",
       " '__reduce_ex__': <function Span.__reduce_ex__(protocol, /)>,\n",
       " '__repr__': <method-wrapper '__repr__' of spacy.tokens.span.Span object at 0x7fefee51c5f0>,\n",
       " '__setattr__': <method-wrapper '__setattr__' of spacy.tokens.span.Span object at 0x7fefee51c660>,\n",
       " '__sizeof__': <function Span.__sizeof__()>,\n",
       " '__str__': <method-wrapper '__str__' of spacy.tokens.span.Span object at 0x7fefee51c740>,\n",
       " '__subclasshook__': <function Span.__subclasshook__>,\n",
       " '_fix_dep_copy': <function Span._fix_dep_copy>,\n",
       " '_vector': None,\n",
       " '_vector_norm': None,\n",
       " 'as_doc': <function Span.as_doc>,\n",
       " 'char_span': <function Span.char_span>,\n",
       " 'conjuncts': (),\n",
       " 'doc': Open Information Extraction (OpenIE) aims to extract structured relational tuples (subject, relation, object) from sentences and plays critical roles for many downstream NLP applications. Existing solutions perform extraction at sentence level, without referring to any additional contextual information. In reality, however, a sentence typically exists as part of a document rather than standalone; we often need to access relevant contextual information around the sentence before we can accurately interpret it. As there is no documentlevel context-aware OpenIE dataset available, we manually annotate 800 sentences from 80 documents in two domains (Healthcare and Transportation) to form a DocOIE dataset for evaluation. In addition, we propose DocIE, a novel document-level context-aware OpenIE model. Our experimental results based on DocIE demonstrate that incorporating documentlevel context is helpful in improving OpenIE performance. Both DocOIE dataset and DocIE model are released for public 1.,\n",
       " 'end': 29,\n",
       " 'end_char': 173,\n",
       " 'ent_id': 0,\n",
       " 'ent_id_': '',\n",
       " 'ents': [NLP],\n",
       " 'get_extension': <function Span.get_extension>,\n",
       " 'get_lca_matrix': <function Span.get_lca_matrix>,\n",
       " 'has_extension': <function Span.has_extension>,\n",
       " 'has_vector': True,\n",
       " 'id': 0,\n",
       " 'id_': '',\n",
       " 'kb_id': 0,\n",
       " 'kb_id_': '',\n",
       " 'label': 383,\n",
       " 'label_': 'ORG',\n",
       " 'lefts': <generator at 0x7fef786fff40>,\n",
       " 'lemma_': 'nlp',\n",
       " 'n_lefts': 0,\n",
       " 'n_rights': 0,\n",
       " 'noun_chunks': <generator at 0x7ff03bf25180>,\n",
       " 'orth_': 'NLP',\n",
       " 'remove_extension': <function Span.remove_extension>,\n",
       " 'rights': <generator at 0x7ff03bf29900>,\n",
       " 'root': NLP,\n",
       " 'sent': Open Information Extraction (OpenIE) aims to extract structured relational tuples (subject, relation, object) from sentences and plays critical roles for many downstream NLP applications.,\n",
       " 'sentiment': 0.0,\n",
       " 'sents': <generator at 0x7ff03bf29b80>,\n",
       " 'set_extension': <function Span.set_extension>,\n",
       " 'similarity': <function Span.similarity>,\n",
       " 'start': 28,\n",
       " 'start_char': 170,\n",
       " 'subtree': <generator at 0x7ff03bf29c20>,\n",
       " 'tensor': array([[-0.17971516, -0.05120075, -0.08157285,  0.73171014,  0.53929746,\n",
       "         -0.05244201, -0.22236502,  1.1462817 ,  0.4939264 ,  0.72153944,\n",
       "          0.09394016,  0.30173495,  1.3505988 , -1.1025795 ,  0.42089355,\n",
       "          0.41243273, -0.07662642, -0.24900666, -0.82716656, -0.6043523 ,\n",
       "          0.19097754,  0.3074032 , -0.13666934,  0.5624194 ,  0.29789203,\n",
       "          0.14274794,  0.39952734,  0.0244216 , -0.6273598 , -0.66863483,\n",
       "          0.35609835,  0.1556819 , -0.44416568,  0.997758  , -0.78283197,\n",
       "         -1.2714087 ,  1.3035047 , -0.1613079 ,  0.3579851 ,  1.9764211 ,\n",
       "         -0.3001781 , -1.1329378 , -0.7826047 , -1.3551506 ,  1.6653221 ,\n",
       "         -1.1022503 , -0.04902107,  0.44993716,  0.46283245,  0.59982985,\n",
       "          0.15298726, -0.31071958,  0.11464983,  0.19137996,  1.7397428 ,\n",
       "         -0.08045688,  0.15525484,  0.08555018,  0.10796236, -0.8008329 ,\n",
       "         -2.0103457 , -0.79563814, -0.79553974, -0.8748276 , -0.7940005 ,\n",
       "         -0.2747168 , -0.29894763, -0.16084737, -1.2113965 ,  0.86503994,\n",
       "         -1.5146707 ,  0.4776112 ,  0.8365611 ,  0.6094216 ,  0.7333831 ,\n",
       "          0.91792905, -0.17479645, -0.04640171,  0.77590364, -0.3203379 ,\n",
       "         -1.2675734 ,  0.22494906, -0.616344  ,  1.3800578 , -0.3185336 ,\n",
       "          0.9560861 , -0.90702194, -1.0343304 , -0.89850974, -0.46371078,\n",
       "         -1.6268964 ,  0.4012625 ,  0.3755824 , -0.31726944,  0.7664068 ,\n",
       "          1.133889  ]], dtype=float32),\n",
       " 'text': 'NLP',\n",
       " 'text_with_ws': 'NLP ',\n",
       " 'to_array': <function Span.to_array>,\n",
       " 'vector': array([-1.4488e+00,  8.1959e-01,  7.1514e+00,  6.5645e-01,  2.1112e+00,\n",
       "         1.4380e+00,  2.6703e+00,  5.2665e-01, -2.4186e+00, -2.6855e-01,\n",
       "         3.6280e+00,  2.3172e-01, -2.4559e+00, -8.4527e-01,  9.4456e-01,\n",
       "        -1.5066e+00,  5.5113e+00,  3.4182e+00,  9.3467e-01, -1.5189e+00,\n",
       "        -5.4357e+00,  2.8662e+00, -2.6999e-01,  1.8631e+00,  9.2688e-01,\n",
       "        -5.6016e-01,  1.0905e+00, -9.4990e-01, -7.5683e-01, -2.3267e-01,\n",
       "        -4.4821e+00, -2.4060e+00, -4.3373e+00, -5.6129e-01, -8.4552e-01,\n",
       "        -3.3398e+00, -4.7541e-01,  2.1119e-01,  5.7403e-01, -8.8212e-01,\n",
       "        -3.7534e-01, -1.9162e-01, -2.2510e-01,  6.0718e-01, -3.0815e+00,\n",
       "         1.9564e+00,  1.3342e+00,  2.3118e+00, -9.3553e-01, -6.0177e+00,\n",
       "         7.1316e-01, -1.4865e+00,  1.9488e+00, -2.7439e+00, -1.9600e+00,\n",
       "         3.2526e-01, -3.9822e+00, -8.1215e-01,  1.8519e-01,  9.2472e-01,\n",
       "         2.3251e+00,  5.6535e+00, -1.0778e+00,  6.0109e+00,  1.5149e+00,\n",
       "         2.9027e+00,  1.0194e+00, -5.2549e+00, -1.1270e+00, -3.8936e-01,\n",
       "        -8.6573e-01,  7.9609e-01,  1.1144e+00,  5.1845e-01,  3.4086e+00,\n",
       "        -2.6348e+00, -4.4540e+00,  3.4677e+00, -2.9623e+00,  9.7808e-01,\n",
       "        -4.7115e+00, -3.9560e-01, -6.5803e-02,  5.0637e-01, -2.7092e+00,\n",
       "         1.4499e+00,  6.0537e-01, -9.1630e-01, -1.6112e+00, -4.1114e-03,\n",
       "         1.4904e-01,  7.9950e-01, -4.3997e-01,  2.0041e+00, -5.7816e+00,\n",
       "         1.6274e+00, -4.4572e+00, -2.6869e+00,  4.3602e+00,  1.0907e+00,\n",
       "         1.4407e+00,  6.9385e-01,  9.5224e-01,  3.0149e+00,  1.9320e+00,\n",
       "        -2.2011e-01, -7.7254e-01,  1.2247e+00,  1.0854e+00,  3.2518e+00,\n",
       "         3.9708e+00,  1.1767e+00, -3.2334e+00,  3.8958e-01, -1.3434e+00,\n",
       "         2.7738e-01, -3.4853e+00,  4.7970e+00, -1.8726e+00,  2.0994e-01,\n",
       "        -3.5796e+00,  4.1165e+00,  1.5999e+00,  1.8101e+00,  4.1649e+00,\n",
       "         3.3772e-01, -2.9150e+00, -4.5418e+00,  1.3626e+00, -4.5888e+00,\n",
       "        -6.7336e-01, -2.3009e+00,  1.8866e+00, -1.8141e+00,  2.8820e-01,\n",
       "        -1.1450e+00, -1.9974e+00,  5.3257e-01,  3.4135e+00, -2.7779e-01,\n",
       "         1.0873e+00,  7.1210e-01, -4.0003e-01, -1.6073e+00,  3.1988e-01,\n",
       "         5.8480e-01, -9.9517e-03, -1.5102e+00,  2.2013e-01,  2.1936e+00,\n",
       "         2.6142e-01,  2.2048e+00,  1.5691e+00, -2.0494e+00, -3.2702e+00,\n",
       "        -3.0898e+00, -2.0123e-01,  3.8535e+00,  5.0298e-01, -1.9674e-03,\n",
       "         6.6512e-01,  4.5958e+00, -2.1520e+00,  1.8256e+00,  1.8895e+00,\n",
       "        -2.6870e+00,  8.0142e-01, -1.3966e+00, -2.2574e+00,  2.1041e+00,\n",
       "        -7.5318e-01, -2.1355e+00,  7.0127e-01,  3.0685e+00,  5.4981e+00,\n",
       "        -1.1566e+00,  2.9792e-01, -2.7671e+00, -1.1558e+00, -1.4165e+00,\n",
       "         1.6606e+00, -1.2220e+00,  3.2511e+00, -6.3696e-01, -1.0563e+00,\n",
       "         2.3579e-02, -2.8033e+00, -4.4422e+00, -1.5680e+00,  4.9652e+00,\n",
       "        -4.1188e+00, -7.5859e-01,  5.5137e-01,  1.0619e+00, -2.1758e+00,\n",
       "         3.3846e+00,  1.4701e+00, -2.6850e-01,  2.5430e+00, -6.4573e-02,\n",
       "        -3.7217e+00,  9.5536e-01, -2.0231e+00, -1.1520e+00,  3.6821e+00,\n",
       "        -2.3986e+00,  1.1853e+00, -4.0507e+00,  1.8801e+00,  1.8299e+00,\n",
       "        -8.3793e-02,  7.9863e-02,  1.9000e+00,  2.9470e+00,  2.3491e-01,\n",
       "         2.4762e+00,  1.3006e+00, -2.6663e-01,  1.6803e+00,  9.8253e-01,\n",
       "         2.2118e-01,  1.1651e-01, -2.6346e+00,  1.1913e+00,  2.1628e+00,\n",
       "         2.3669e+00,  6.2805e+00, -1.1726e+00, -4.9486e-01, -2.4154e+00,\n",
       "         1.5757e-01, -5.8183e-01, -5.8725e-01,  1.4411e+00,  8.1289e-01,\n",
       "         4.3990e-01,  2.2790e+00, -2.2209e+00, -3.7006e-01, -1.4243e-01,\n",
       "        -4.3114e-01, -7.6932e-01, -1.4523e-01, -3.3983e-01,  2.9733e+00,\n",
       "         4.6503e+00,  9.0318e-01, -2.4825e+00, -3.0954e+00,  1.8033e+00,\n",
       "         1.3400e+00,  1.9393e+00, -1.6640e+00,  5.1564e-01, -4.6333e+00,\n",
       "         9.9765e-01,  4.3045e+00, -4.4268e+00,  2.5306e+00,  1.9248e+00,\n",
       "        -2.5693e+00, -2.2347e+00,  3.5623e+00,  5.8046e-01, -1.0264e+00,\n",
       "        -4.2175e-01, -7.2386e-01,  1.7643e+00, -1.8059e+00, -3.0384e+00,\n",
       "         5.9110e-01, -1.2514e+00,  2.8594e+00, -6.4221e-01,  2.3993e+00,\n",
       "        -5.1352e+00, -3.3967e-01,  2.2469e+00, -2.6853e+00, -2.0995e-01,\n",
       "         1.5166e+00, -8.4111e-01, -3.7538e-02,  5.6736e-02, -2.9887e+00,\n",
       "         1.2397e+00, -6.1818e-01,  1.6310e+00, -5.5880e-01, -7.2123e-01,\n",
       "        -2.7492e+00, -2.3724e+00,  2.6324e-01, -2.0971e+00,  2.4341e+00,\n",
       "        -1.3230e+00,  1.5907e+00, -3.7885e+00,  8.0788e-02,  3.7193e+00],\n",
       "       dtype=float32),\n",
       " 'vector_norm': 40.354385,\n",
       " 'vocab': <spacy.vocab.Vocab at 0x7ff03b229310>}"
      ]
     },
     "execution_count": 121,
     "metadata": {},
     "output_type": "execute_result"
    }
   ],
   "source": [
    "{y: getattr(x.ents[0], y) for y in dir(x.ents[0])}"
   ]
  },
  {
   "cell_type": "code",
   "execution_count": 122,
   "metadata": {
    "scrolled": true
   },
   "outputs": [
    {
     "data": {
      "text/plain": [
       "[('ORG', 'NLP'),\n",
       " ('CARDINAL', '800'),\n",
       " ('CARDINAL', '80'),\n",
       " ('CARDINAL', 'two'),\n",
       " ('ORG', 'Healthcare and Transportation'),\n",
       " ('ORG', 'DocOIE'),\n",
       " ('ORG', 'DocOIE'),\n",
       " ('CARDINAL', '1')]"
      ]
     },
     "execution_count": 122,
     "metadata": {},
     "output_type": "execute_result"
    }
   ],
   "source": [
    "[(e.label_, e.text) for e in x.ents]"
   ]
  },
  {
   "cell_type": "code",
   "execution_count": 109,
   "metadata": {},
   "outputs": [
    {
     "data": {
      "text/plain": [
       "'Open Information Extraction (OpenIE) aims to extract structured relational tuples (subject, relation, object) from sentences and plays critical roles for many downstream NLP applications. Existing solutions perform extraction at sentence level, without referring to any additional contextual information. In reality, however, a sentence typically exists as part of a document rather than standalone; we often need to access relevant contextual information around the sentence before we can accurately interpret it. As there is no documentlevel context-aware OpenIE dataset available, we manually annotate 800 sentences from 80 documents in two domains (Healthcare and Transportation) to form a DocOIE dataset for evaluation. In addition, we propose DocIE, a novel document-level context-aware OpenIE model. Our experimental results based on DocIE demonstrate that incorporating documentlevel context is helpful in improving OpenIE performance. Both DocOIE dataset and DocIE model are released for public 1.'"
      ]
     },
     "execution_count": 109,
     "metadata": {},
     "output_type": "execute_result"
    }
   ],
   "source": [
    "text"
   ]
  },
  {
   "cell_type": "code",
   "execution_count": 104,
   "metadata": {},
   "outputs": [],
   "source": [
    "for y in papers.values():\n",
    "    text = y.abstract\n",
    "    x = nlp(text)\n",
    "    spans = x.spans\n",
    "    if spans:\n",
    "        input(spans)"
   ]
  },
  {
   "cell_type": "code",
   "execution_count": 31,
   "metadata": {},
   "outputs": [
    {
     "data": {
      "text/plain": [
       "tensor([[  102, 10639,   360,  8847,   106,   758,  1578,   131,  4738,   198,\n",
       "           300, 14413,   121,  7424,  5097,   205,   103]])"
      ]
     },
     "execution_count": 31,
     "metadata": {},
     "output_type": "execute_result"
    }
   ],
   "source": [
    "input_ids"
   ]
  },
  {
   "cell_type": "code",
   "execution_count": 33,
   "metadata": {},
   "outputs": [
    {
     "data": {
      "text/plain": [
       "tensor([[[ 0.0448,  0.0619],\n",
       "         [-0.2056,  0.4803],\n",
       "         [-0.0202,  0.6416],\n",
       "         [-0.4708,  0.1224],\n",
       "         [-0.2484,  0.4870],\n",
       "         [-0.3344,  0.2875],\n",
       "         [ 0.2125,  0.0833],\n",
       "         [-0.0063,  0.1687],\n",
       "         [ 0.1368, -0.1288],\n",
       "         [-0.6052,  0.5749],\n",
       "         [-0.3328,  0.5135],\n",
       "         [-0.1600, -0.4025],\n",
       "         [ 0.0111,  0.1905],\n",
       "         [-0.0403, -0.2249],\n",
       "         [-0.0539, -0.4953],\n",
       "         [-0.3412, -0.5488],\n",
       "         [-0.0946,  0.1148]]], grad_fn=<ViewBackward0>)"
      ]
     },
     "execution_count": 33,
     "metadata": {},
     "output_type": "execute_result"
    }
   ],
   "source": [
    "outputs.logits"
   ]
  },
  {
   "cell_type": "code",
   "execution_count": 42,
   "metadata": {},
   "outputs": [
    {
     "data": {
      "text/plain": [
       "torch.Size([1, 17])"
      ]
     },
     "execution_count": 42,
     "metadata": {},
     "output_type": "execute_result"
    }
   ],
   "source": [
    "input_ids.shape"
   ]
  },
  {
   "cell_type": "code",
   "execution_count": 40,
   "metadata": {},
   "outputs": [
    {
     "data": {
      "text/plain": [
       "torch.Size([1, 17, 2])"
      ]
     },
     "execution_count": 40,
     "metadata": {},
     "output_type": "execute_result"
    }
   ],
   "source": [
    "outputs.logits.shape"
   ]
  },
  {
   "cell_type": "code",
   "execution_count": 38,
   "metadata": {},
   "outputs": [
    {
     "data": {
      "text/plain": [
       "torch.return_types.max(\n",
       "values=tensor([[0.2125, 0.6416]], grad_fn=<MaxBackward0>),\n",
       "indices=tensor([[6, 2]]))"
      ]
     },
     "execution_count": 38,
     "metadata": {},
     "output_type": "execute_result"
    }
   ],
   "source": [
    "outputs.logits.max(1)"
   ]
  },
  {
   "cell_type": "code",
   "execution_count": 47,
   "metadata": {},
   "outputs": [
    {
     "data": {
      "text/plain": [
       "tensor([[[ 0.0448,  0.0619],\n",
       "         [-0.2056,  0.4803],\n",
       "         [-0.0202,  0.6416],\n",
       "         [-0.4708,  0.1224],\n",
       "         [-0.2484,  0.4870],\n",
       "         [-0.3344,  0.2875],\n",
       "         [ 0.2125,  0.0833],\n",
       "         [-0.0063,  0.1687],\n",
       "         [ 0.1368, -0.1288],\n",
       "         [-0.6052,  0.5749],\n",
       "         [-0.3328,  0.5135],\n",
       "         [-0.1600, -0.4025],\n",
       "         [ 0.0111,  0.1905],\n",
       "         [-0.0403, -0.2249],\n",
       "         [-0.0539, -0.4953],\n",
       "         [-0.3412, -0.5488],\n",
       "         [-0.0946,  0.1148]]], grad_fn=<ViewBackward0>)"
      ]
     },
     "execution_count": 47,
     "metadata": {},
     "output_type": "execute_result"
    }
   ],
   "source": [
    "outputs.logits"
   ]
  },
  {
   "cell_type": "code",
   "execution_count": 52,
   "metadata": {},
   "outputs": [],
   "source": [
    "preidictions = F.softmax(outputs.logits, dim=-1).argmax(dim=1)"
   ]
  },
  {
   "cell_type": "code",
   "execution_count": 60,
   "metadata": {},
   "outputs": [
    {
     "data": {
      "text/plain": [
       "tensor(1578)"
      ]
     },
     "execution_count": 60,
     "metadata": {},
     "output_type": "execute_result"
    }
   ],
   "source": [
    "input_ids[0][6]"
   ]
  },
  {
   "cell_type": "code",
   "execution_count": 62,
   "metadata": {},
   "outputs": [
    {
     "data": {
      "text/plain": [
       "tensor(6)"
      ]
     },
     "execution_count": 62,
     "metadata": {},
     "output_type": "execute_result"
    }
   ],
   "source": [
    "predictions[0]"
   ]
  },
  {
   "cell_type": "code",
   "execution_count": 65,
   "metadata": {},
   "outputs": [
    {
     "data": {
      "text/plain": [
       "['species']"
      ]
     },
     "execution_count": 65,
     "metadata": {},
     "output_type": "execute_result"
    },
    {
     "data": {
      "text/plain": [
       "['have']"
      ]
     },
     "execution_count": 65,
     "metadata": {},
     "output_type": "execute_result"
    }
   ],
   "source": []
  },
  {
   "cell_type": "code",
   "execution_count": 29,
   "metadata": {},
   "outputs": [
    {
     "ename": "IndexError",
     "evalue": "index 6 is out of bounds for dimension 0 with size 1",
     "output_type": "error",
     "traceback": [
      "\u001b[0;31m---------------------------------------------------------------------------\u001b[0m",
      "\u001b[0;31mIndexError\u001b[0m                                Traceback (most recent call last)",
      "Cell \u001b[0;32mIn[29], line 4\u001b[0m\n\u001b[1;32m      2\u001b[0m outputs \u001b[38;5;241m=\u001b[39m model(input_ids)\n\u001b[1;32m      3\u001b[0m predictions \u001b[38;5;241m=\u001b[39m outputs\u001b[38;5;241m.\u001b[39mlogits\u001b[38;5;241m.\u001b[39margmax(dim\u001b[38;5;241m=\u001b[39m\u001b[38;5;241m1\u001b[39m)[\u001b[38;5;241m0\u001b[39m]\n\u001b[0;32m----> 4\u001b[0m tokens \u001b[38;5;241m=\u001b[39m tokenizer\u001b[38;5;241m.\u001b[39mconvert_ids_to_tokens(\u001b[43minput_ids\u001b[49m\u001b[43m[\u001b[49m\u001b[43mpredictions\u001b[49m\u001b[43m]\u001b[49m)\n\u001b[1;32m      5\u001b[0m tokens\n",
      "\u001b[0;31mIndexError\u001b[0m: index 6 is out of bounds for dimension 0 with size 1"
     ]
    }
   ],
   "source": [
    "input_ids = tokenizer.encode(text, return_tensors=\"pt\")\n",
    "outputs = model(input_ids)\n",
    "predictions = outputs.logits.argmax(dim=1)[0]\n",
    "tokens = tokenizer.convert_ids_to_tokens(input_ids[predictions])\n",
    "tokens"
   ]
  },
  {
   "cell_type": "code",
   "execution_count": 13,
   "metadata": {},
   "outputs": [],
   "source": [
    "input_ids = tokenizer.encode(text, return_tensors=\"pt\")"
   ]
  },
  {
   "cell_type": "code",
   "execution_count": 14,
   "metadata": {},
   "outputs": [
    {
     "data": {
      "text/plain": [
       "tensor([[  102, 10639,   360,  8847,   106,   758,  1578,   131,  4738,   198,\n",
       "           300, 14413,   121,  7424,  5097,   205,   103]])"
      ]
     },
     "execution_count": 14,
     "metadata": {},
     "output_type": "execute_result"
    }
   ],
   "source": [
    "input_ids"
   ]
  },
  {
   "cell_type": "code",
   "execution_count": 19,
   "metadata": {},
   "outputs": [
    {
     "data": {
      "text/plain": [
       "tensor([[10, 15]])"
      ]
     },
     "execution_count": 19,
     "metadata": {},
     "output_type": "execute_result"
    }
   ],
   "source": [
    "model(input_ids).logits.argmax(dim=1)"
   ]
  },
  {
   "cell_type": "code",
   "execution_count": 175,
   "metadata": {},
   "outputs": [
    {
     "name": "stdout",
     "output_type": "stream",
     "text": [
      "generalizing\n"
     ]
    },
    {
     "data": {
      "text/plain": [
       "''"
      ]
     },
     "execution_count": 175,
     "metadata": {},
     "output_type": "execute_result"
    },
    {
     "name": "stdout",
     "output_type": "stream",
     "text": [
      "inconsistencies\n"
     ]
    },
    {
     "data": {
      "text/plain": [
       "''"
      ]
     },
     "execution_count": 175,
     "metadata": {},
     "output_type": "execute_result"
    },
    {
     "name": "stdout",
     "output_type": "stream",
     "text": [
      "incomplete\n"
     ]
    },
    {
     "data": {
      "text/plain": [
       "''"
      ]
     },
     "execution_count": 175,
     "metadata": {},
     "output_type": "execute_result"
    },
    {
     "name": "stdout",
     "output_type": "stream",
     "text": [
      "incidents\n"
     ]
    },
    {
     "data": {
      "text/plain": [
       "''"
      ]
     },
     "execution_count": 175,
     "metadata": {},
     "output_type": "execute_result"
    },
    {
     "name": "stdout",
     "output_type": "stream",
     "text": [
      "inadequate\n"
     ]
    },
    {
     "data": {
      "text/plain": [
       "''"
      ]
     },
     "execution_count": 175,
     "metadata": {},
     "output_type": "execute_result"
    },
    {
     "name": "stdout",
     "output_type": "stream",
     "text": [
      "inability\n"
     ]
    },
    {
     "data": {
      "text/plain": [
       "''"
      ]
     },
     "execution_count": 175,
     "metadata": {},
     "output_type": "execute_result"
    },
    {
     "name": "stdout",
     "output_type": "stream",
     "text": [
      "improvements\n"
     ]
    },
    {
     "data": {
      "text/plain": [
       "''"
      ]
     },
     "execution_count": 175,
     "metadata": {},
     "output_type": "execute_result"
    },
    {
     "name": "stdout",
     "output_type": "stream",
     "text": [
      "implies\n"
     ]
    },
    {
     "data": {
      "text/plain": [
       "''"
      ]
     },
     "execution_count": 175,
     "metadata": {},
     "output_type": "execute_result"
    },
    {
     "name": "stdout",
     "output_type": "stream",
     "text": [
      "implicitly\n"
     ]
    },
    {
     "data": {
      "text/plain": [
       "''"
      ]
     },
     "execution_count": 175,
     "metadata": {},
     "output_type": "execute_result"
    },
    {
     "name": "stdout",
     "output_type": "stream",
     "text": [
      "implementing\n"
     ]
    },
    {
     "data": {
      "text/plain": [
       "''"
      ]
     },
     "execution_count": 175,
     "metadata": {},
     "output_type": "execute_result"
    },
    {
     "name": "stdout",
     "output_type": "stream",
     "text": [
      "impactful\n"
     ]
    },
    {
     "data": {
      "text/plain": [
       "''"
      ]
     },
     "execution_count": 175,
     "metadata": {},
     "output_type": "execute_result"
    },
    {
     "name": "stdout",
     "output_type": "stream",
     "text": [
      "incorporated\n"
     ]
    },
    {
     "data": {
      "text/plain": [
       "''"
      ]
     },
     "execution_count": 175,
     "metadata": {},
     "output_type": "execute_result"
    },
    {
     "name": "stdout",
     "output_type": "stream",
     "text": [
      "immunizes\n"
     ]
    },
    {
     "data": {
      "text/plain": [
       "''"
      ]
     },
     "execution_count": 175,
     "metadata": {},
     "output_type": "execute_result"
    },
    {
     "name": "stdout",
     "output_type": "stream",
     "text": [
      "identifying\n"
     ]
    },
    {
     "data": {
      "text/plain": [
       "''"
      ]
     },
     "execution_count": 175,
     "metadata": {},
     "output_type": "execute_result"
    },
    {
     "name": "stdout",
     "output_type": "stream",
     "text": [
      "identifiers\n"
     ]
    },
    {
     "data": {
      "text/plain": [
       "''"
      ]
     },
     "execution_count": 175,
     "metadata": {},
     "output_type": "execute_result"
    },
    {
     "name": "stdout",
     "output_type": "stream",
     "text": [
      "identical\n"
     ]
    },
    {
     "data": {
      "text/plain": [
       "''"
      ]
     },
     "execution_count": 175,
     "metadata": {},
     "output_type": "execute_result"
    },
    {
     "name": "stdout",
     "output_type": "stream",
     "text": [
      "ideas\n"
     ]
    },
    {
     "data": {
      "text/plain": [
       "''"
      ]
     },
     "execution_count": 175,
     "metadata": {},
     "output_type": "execute_result"
    },
    {
     "name": "stdout",
     "output_type": "stream",
     "text": [
      "ideal\n"
     ]
    },
    {
     "data": {
      "text/plain": [
       "''"
      ]
     },
     "execution_count": 175,
     "metadata": {},
     "output_type": "execute_result"
    },
    {
     "name": "stdout",
     "output_type": "stream",
     "text": [
      "idea\n"
     ]
    },
    {
     "data": {
      "text/plain": [
       "''"
      ]
     },
     "execution_count": 175,
     "metadata": {},
     "output_type": "execute_result"
    },
    {
     "name": "stdout",
     "output_type": "stream",
     "text": [
      "hypothesize\n"
     ]
    },
    {
     "data": {
      "text/plain": [
       "''"
      ]
     },
     "execution_count": 175,
     "metadata": {},
     "output_type": "execute_result"
    },
    {
     "name": "stdout",
     "output_type": "stream",
     "text": [
      "hypothesis\n"
     ]
    },
    {
     "data": {
      "text/plain": [
       "''"
      ]
     },
     "execution_count": 175,
     "metadata": {},
     "output_type": "execute_result"
    },
    {
     "name": "stdout",
     "output_type": "stream",
     "text": [
      "hyperrelational\n"
     ]
    },
    {
     "data": {
      "text/plain": [
       "''"
      ]
     },
     "execution_count": 175,
     "metadata": {},
     "output_type": "execute_result"
    },
    {
     "name": "stdout",
     "output_type": "stream",
     "text": [
      "hyperlinks\n"
     ]
    },
    {
     "data": {
      "text/plain": [
       "''"
      ]
     },
     "execution_count": 175,
     "metadata": {},
     "output_type": "execute_result"
    },
    {
     "name": "stdout",
     "output_type": "stream",
     "text": [
      "iitd\n"
     ]
    },
    {
     "data": {
      "text/plain": [
       "''"
      ]
     },
     "execution_count": 175,
     "metadata": {},
     "output_type": "execute_result"
    },
    {
     "name": "stdout",
     "output_type": "stream",
     "text": [
      "hypergraphs\n"
     ]
    },
    {
     "data": {
      "text/plain": [
       "''"
      ]
     },
     "execution_count": 175,
     "metadata": {},
     "output_type": "execute_result"
    },
    {
     "name": "stdout",
     "output_type": "stream",
     "text": [
      "incorporates\n"
     ]
    },
    {
     "data": {
      "text/plain": [
       "''"
      ]
     },
     "execution_count": 175,
     "metadata": {},
     "output_type": "execute_result"
    },
    {
     "name": "stdout",
     "output_type": "stream",
     "text": [
      "incorporation\n"
     ]
    },
    {
     "data": {
      "text/plain": [
       "''"
      ]
     },
     "execution_count": 175,
     "metadata": {},
     "output_type": "execute_result"
    },
    {
     "name": "stdout",
     "output_type": "stream",
     "text": [
      "inspection\n"
     ]
    },
    {
     "data": {
      "text/plain": [
       "''"
      ]
     },
     "execution_count": 175,
     "metadata": {},
     "output_type": "execute_result"
    },
    {
     "name": "stdout",
     "output_type": "stream",
     "text": [
      "insights\n"
     ]
    },
    {
     "data": {
      "text/plain": [
       "''"
      ]
     },
     "execution_count": 175,
     "metadata": {},
     "output_type": "execute_result"
    },
    {
     "name": "stdout",
     "output_type": "stream",
     "text": [
      "insight\n"
     ]
    },
    {
     "data": {
      "text/plain": [
       "''"
      ]
     },
     "execution_count": 175,
     "metadata": {},
     "output_type": "execute_result"
    },
    {
     "name": "stdout",
     "output_type": "stream",
     "text": [
      "inside\n"
     ]
    },
    {
     "data": {
      "text/plain": [
       "''"
      ]
     },
     "execution_count": 175,
     "metadata": {},
     "output_type": "execute_result"
    },
    {
     "name": "stdout",
     "output_type": "stream",
     "text": [
      "initially\n"
     ]
    },
    {
     "data": {
      "text/plain": [
       "''"
      ]
     },
     "execution_count": 175,
     "metadata": {},
     "output_type": "execute_result"
    },
    {
     "name": "stdout",
     "output_type": "stream",
     "text": [
      "initialized\n"
     ]
    },
    {
     "data": {
      "text/plain": [
       "''"
      ]
     },
     "execution_count": 175,
     "metadata": {},
     "output_type": "execute_result"
    },
    {
     "name": "stdout",
     "output_type": "stream",
     "text": [
      "inicial\n"
     ]
    },
    {
     "data": {
      "text/plain": [
       "''"
      ]
     },
     "execution_count": 175,
     "metadata": {},
     "output_type": "execute_result"
    },
    {
     "name": "stdout",
     "output_type": "stream",
     "text": [
      "infuse\n"
     ]
    },
    {
     "data": {
      "text/plain": [
       "''"
      ]
     },
     "execution_count": 175,
     "metadata": {},
     "output_type": "execute_result"
    },
    {
     "name": "stdout",
     "output_type": "stream",
     "text": [
      "informational\n"
     ]
    },
    {
     "data": {
      "text/plain": [
       "''"
      ]
     },
     "execution_count": 175,
     "metadata": {},
     "output_type": "execute_result"
    },
    {
     "name": "stdout",
     "output_type": "stream",
     "text": [
      "infomax\n"
     ]
    },
    {
     "data": {
      "text/plain": [
       "''"
      ]
     },
     "execution_count": 175,
     "metadata": {},
     "output_type": "execute_result"
    },
    {
     "name": "stdout",
     "output_type": "stream",
     "text": [
      "incorporating\n"
     ]
    },
    {
     "data": {
      "text/plain": [
       "''"
      ]
     },
     "execution_count": 175,
     "metadata": {},
     "output_type": "execute_result"
    },
    {
     "name": "stdout",
     "output_type": "stream",
     "text": [
      "influenced\n"
     ]
    },
    {
     "data": {
      "text/plain": [
       "''"
      ]
     },
     "execution_count": 175,
     "metadata": {},
     "output_type": "execute_result"
    },
    {
     "name": "stdout",
     "output_type": "stream",
     "text": [
      "inefficiency\n"
     ]
    },
    {
     "data": {
      "text/plain": [
       "''"
      ]
     },
     "execution_count": 175,
     "metadata": {},
     "output_type": "execute_result"
    },
    {
     "name": "stdout",
     "output_type": "stream",
     "text": [
      "industries\n"
     ]
    },
    {
     "data": {
      "text/plain": [
       "''"
      ]
     },
     "execution_count": 175,
     "metadata": {},
     "output_type": "execute_result"
    },
    {
     "name": "stdout",
     "output_type": "stream",
     "text": [
      "individuals\n"
     ]
    },
    {
     "data": {
      "text/plain": [
       "''"
      ]
     },
     "execution_count": 175,
     "metadata": {},
     "output_type": "execute_result"
    },
    {
     "name": "stdout",
     "output_type": "stream",
     "text": [
      "indicated\n"
     ]
    },
    {
     "data": {
      "text/plain": [
       "''"
      ]
     },
     "execution_count": 175,
     "metadata": {},
     "output_type": "execute_result"
    },
    {
     "name": "stdout",
     "output_type": "stream",
     "text": [
      "indian\n"
     ]
    },
    {
     "data": {
      "text/plain": [
       "''"
      ]
     },
     "execution_count": 175,
     "metadata": {},
     "output_type": "execute_result"
    },
    {
     "name": "stdout",
     "output_type": "stream",
     "text": [
      "independent\n"
     ]
    },
    {
     "data": {
      "text/plain": [
       "''"
      ]
     },
     "execution_count": 175,
     "metadata": {},
     "output_type": "execute_result"
    },
    {
     "name": "stdout",
     "output_type": "stream",
     "text": [
      "independence\n"
     ]
    },
    {
     "data": {
      "text/plain": [
       "''"
      ]
     },
     "execution_count": 175,
     "metadata": {},
     "output_type": "execute_result"
    },
    {
     "name": "stdout",
     "output_type": "stream",
     "text": [
      "indegree\n"
     ]
    },
    {
     "data": {
      "text/plain": [
       "''"
      ]
     },
     "execution_count": 175,
     "metadata": {},
     "output_type": "execute_result"
    },
    {
     "name": "stdout",
     "output_type": "stream",
     "text": [
      "incrementally\n"
     ]
    },
    {
     "data": {
      "text/plain": [
       "''"
      ]
     },
     "execution_count": 175,
     "metadata": {},
     "output_type": "execute_result"
    },
    {
     "name": "stdout",
     "output_type": "stream",
     "text": [
      "increasing\n"
     ]
    },
    {
     "data": {
      "text/plain": [
       "''"
      ]
     },
     "execution_count": 175,
     "metadata": {},
     "output_type": "execute_result"
    },
    {
     "name": "stdout",
     "output_type": "stream",
     "text": [
      "inferior\n"
     ]
    },
    {
     "data": {
      "text/plain": [
       "''"
      ]
     },
     "execution_count": 175,
     "metadata": {},
     "output_type": "execute_result"
    },
    {
     "name": "stdout",
     "output_type": "stream",
     "text": [
      "hybrid\n"
     ]
    },
    {
     "data": {
      "text/plain": [
       "''"
      ]
     },
     "execution_count": 175,
     "metadata": {},
     "output_type": "execute_result"
    },
    {
     "name": "stdout",
     "output_type": "stream",
     "text": [
      "however\n"
     ]
    },
    {
     "data": {
      "text/plain": [
       "''"
      ]
     },
     "execution_count": 175,
     "metadata": {},
     "output_type": "execute_result"
    },
    {
     "name": "stdout",
     "output_type": "stream",
     "text": [
      "horizons\n"
     ]
    },
    {
     "data": {
      "text/plain": [
       "''"
      ]
     },
     "execution_count": 175,
     "metadata": {},
     "output_type": "execute_result"
    },
    {
     "name": "stdout",
     "output_type": "stream",
     "text": [
      "governance\n"
     ]
    },
    {
     "data": {
      "text/plain": [
       "''"
      ]
     },
     "execution_count": 175,
     "metadata": {},
     "output_type": "execute_result"
    },
    {
     "name": "stdout",
     "output_type": "stream",
     "text": [
      "goods\n"
     ]
    },
    {
     "data": {
      "text/plain": [
       "''"
      ]
     },
     "execution_count": 175,
     "metadata": {},
     "output_type": "execute_result"
    },
    {
     "name": "stdout",
     "output_type": "stream",
     "text": [
      "good\n"
     ]
    },
    {
     "data": {
      "text/plain": [
       "''"
      ]
     },
     "execution_count": 175,
     "metadata": {},
     "output_type": "execute_result"
    },
    {
     "name": "stdout",
     "output_type": "stream",
     "text": [
      "globe\n"
     ]
    },
    {
     "data": {
      "text/plain": [
       "''"
      ]
     },
     "execution_count": 175,
     "metadata": {},
     "output_type": "execute_result"
    },
    {
     "name": "stdout",
     "output_type": "stream",
     "text": [
      "glance\n"
     ]
    },
    {
     "data": {
      "text/plain": [
       "''"
      ]
     },
     "execution_count": 175,
     "metadata": {},
     "output_type": "execute_result"
    },
    {
     "name": "stdout",
     "output_type": "stream",
     "text": [
      "gives\n"
     ]
    },
    {
     "data": {
      "text/plain": [
       "''"
      ]
     },
     "execution_count": 175,
     "metadata": {},
     "output_type": "execute_result"
    },
    {
     "name": "stdout",
     "output_type": "stream",
     "text": [
      "gether\n"
     ]
    },
    {
     "data": {
      "text/plain": [
       "''"
      ]
     },
     "execution_count": 175,
     "metadata": {},
     "output_type": "execute_result"
    },
    {
     "name": "stdout",
     "output_type": "stream",
     "text": [
      "genomes\n"
     ]
    },
    {
     "data": {
      "text/plain": [
       "''"
      ]
     },
     "execution_count": 175,
     "metadata": {},
     "output_type": "execute_result"
    },
    {
     "name": "stdout",
     "output_type": "stream",
     "text": [
      "generic\n"
     ]
    },
    {
     "data": {
      "text/plain": [
       "''"
      ]
     },
     "execution_count": 175,
     "metadata": {},
     "output_type": "execute_result"
    },
    {
     "name": "stdout",
     "output_type": "stream",
     "text": [
      "generally\n"
     ]
    },
    {
     "data": {
      "text/plain": [
       "''"
      ]
     },
     "execution_count": 175,
     "metadata": {},
     "output_type": "execute_result"
    },
    {
     "name": "stdout",
     "output_type": "stream",
     "text": [
      "governments\n"
     ]
    },
    {
     "data": {
      "text/plain": [
       "''"
      ]
     },
     "execution_count": 175,
     "metadata": {},
     "output_type": "execute_result"
    },
    {
     "name": "stdout",
     "output_type": "stream",
     "text": [
      "ﬁne\n"
     ]
    },
    {
     "data": {
      "text/plain": [
       "''"
      ]
     },
     "execution_count": 175,
     "metadata": {},
     "output_type": "execute_result"
    },
    {
     "name": "stdout",
     "output_type": "stream",
     "text": [
      "generalization\n"
     ]
    },
    {
     "data": {
      "text/plain": [
       "''"
      ]
     },
     "execution_count": 175,
     "metadata": {},
     "output_type": "execute_result"
    },
    {
     "name": "stdout",
     "output_type": "stream",
     "text": [
      "gene\n"
     ]
    },
    {
     "data": {
      "text/plain": [
       "''"
      ]
     },
     "execution_count": 175,
     "metadata": {},
     "output_type": "execute_result"
    },
    {
     "name": "stdout",
     "output_type": "stream",
     "text": [
      "gathering\n"
     ]
    },
    {
     "data": {
      "text/plain": [
       "''"
      ]
     },
     "execution_count": 175,
     "metadata": {},
     "output_type": "execute_result"
    },
    {
     "name": "stdout",
     "output_type": "stream",
     "text": [
      "gather\n"
     ]
    },
    {
     "data": {
      "text/plain": [
       "''"
      ]
     },
     "execution_count": 175,
     "metadata": {},
     "output_type": "execute_result"
    },
    {
     "name": "stdout",
     "output_type": "stream",
     "text": [
      "gap\n"
     ]
    },
    {
     "data": {
      "text/plain": [
       "''"
      ]
     },
     "execution_count": 175,
     "metadata": {},
     "output_type": "execute_result"
    },
    {
     "name": "stdout",
     "output_type": "stream",
     "text": [
      "gained\n"
     ]
    },
    {
     "data": {
      "text/plain": [
       "''"
      ]
     },
     "execution_count": 175,
     "metadata": {},
     "output_type": "execute_result"
    },
    {
     "name": "stdout",
     "output_type": "stream",
     "text": [
      "fusion\n"
     ]
    },
    {
     "data": {
      "text/plain": [
       "''"
      ]
     },
     "execution_count": 175,
     "metadata": {},
     "output_type": "execute_result"
    },
    {
     "name": "stdout",
     "output_type": "stream",
     "text": [
      "fuse\n"
     ]
    },
    {
     "data": {
      "text/plain": [
       "''"
      ]
     },
     "execution_count": 175,
     "metadata": {},
     "output_type": "execute_result"
    },
    {
     "name": "stdout",
     "output_type": "stream",
     "text": [
      "furnish\n"
     ]
    },
    {
     "data": {
      "text/plain": [
       "''"
      ]
     },
     "execution_count": 175,
     "metadata": {},
     "output_type": "execute_result"
    },
    {
     "name": "stdout",
     "output_type": "stream",
     "text": [
      "fundamental\n"
     ]
    },
    {
     "data": {
      "text/plain": [
       "''"
      ]
     },
     "execution_count": 175,
     "metadata": {},
     "output_type": "execute_result"
    },
    {
     "name": "stdout",
     "output_type": "stream",
     "text": [
      "generalized\n"
     ]
    },
    {
     "data": {
      "text/plain": [
       "''"
      ]
     },
     "execution_count": 175,
     "metadata": {},
     "output_type": "execute_result"
    },
    {
     "name": "stdout",
     "output_type": "stream",
     "text": [
      "gradually\n"
     ]
    },
    {
     "data": {
      "text/plain": [
       "''"
      ]
     },
     "execution_count": 175,
     "metadata": {},
     "output_type": "execute_result"
    },
    {
     "name": "stdout",
     "output_type": "stream",
     "text": [
      "gramatical\n"
     ]
    },
    {
     "data": {
      "text/plain": [
       "''"
      ]
     },
     "execution_count": 175,
     "metadata": {},
     "output_type": "execute_result"
    },
    {
     "name": "stdout",
     "output_type": "stream",
     "text": [
      "grammar\n"
     ]
    },
    {
     "data": {
      "text/plain": [
       "''"
      ]
     },
     "execution_count": 175,
     "metadata": {},
     "output_type": "execute_result"
    },
    {
     "name": "stdout",
     "output_type": "stream",
     "text": [
      "horizon\n"
     ]
    },
    {
     "data": {
      "text/plain": [
       "''"
      ]
     },
     "execution_count": 175,
     "metadata": {},
     "output_type": "execute_result"
    },
    {
     "name": "stdout",
     "output_type": "stream",
     "text": [
      "homozygous\n"
     ]
    },
    {
     "data": {
      "text/plain": [
       "''"
      ]
     },
     "execution_count": 175,
     "metadata": {},
     "output_type": "execute_result"
    },
    {
     "name": "stdout",
     "output_type": "stream",
     "text": [
      "historically\n"
     ]
    },
    {
     "data": {
      "text/plain": [
       "''"
      ]
     },
     "execution_count": 175,
     "metadata": {},
     "output_type": "execute_result"
    },
    {
     "name": "stdout",
     "output_type": "stream",
     "text": [
      "hierarchy\n"
     ]
    },
    {
     "data": {
      "text/plain": [
       "''"
      ]
     },
     "execution_count": 175,
     "metadata": {},
     "output_type": "execute_result"
    },
    {
     "name": "stdout",
     "output_type": "stream",
     "text": [
      "hierarchically\n"
     ]
    },
    {
     "data": {
      "text/plain": [
       "''"
      ]
     },
     "execution_count": 175,
     "metadata": {},
     "output_type": "execute_result"
    },
    {
     "name": "stdout",
     "output_type": "stream",
     "text": [
      "hierarchical\n"
     ]
    },
    {
     "data": {
      "text/plain": [
       "''"
      ]
     },
     "execution_count": 175,
     "metadata": {},
     "output_type": "execute_result"
    },
    {
     "name": "stdout",
     "output_type": "stream",
     "text": [
      "heterozygous\n"
     ]
    },
    {
     "data": {
      "text/plain": [
       "''"
      ]
     },
     "execution_count": 175,
     "metadata": {},
     "output_type": "execute_result"
    },
    {
     "name": "stdout",
     "output_type": "stream",
     "text": [
      "heterogeneous\n"
     ]
    },
    {
     "data": {
      "text/plain": [
       "''"
      ]
     },
     "execution_count": 175,
     "metadata": {},
     "output_type": "execute_result"
    },
    {
     "name": "stdout",
     "output_type": "stream",
     "text": [
      "here\n"
     ]
    },
    {
     "data": {
      "text/plain": [
       "''"
      ]
     },
     "execution_count": 175,
     "metadata": {},
     "output_type": "execute_result"
    },
    {
     "name": "stdout",
     "output_type": "stream",
     "text": [
      "helps\n"
     ]
    },
    {
     "data": {
      "text/plain": [
       "''"
      ]
     },
     "execution_count": 175,
     "metadata": {},
     "output_type": "execute_result"
    },
    {
     "name": "stdout",
     "output_type": "stream",
     "text": [
      "helpful\n"
     ]
    },
    {
     "data": {
      "text/plain": [
       "''"
      ]
     },
     "execution_count": 175,
     "metadata": {},
     "output_type": "execute_result"
    },
    {
     "name": "stdout",
     "output_type": "stream",
     "text": [
      "hectic\n"
     ]
    },
    {
     "data": {
      "text/plain": [
       "''"
      ]
     },
     "execution_count": 175,
     "metadata": {},
     "output_type": "execute_result"
    },
    {
     "name": "stdout",
     "output_type": "stream",
     "text": [
      "headlines\n"
     ]
    },
    {
     "data": {
      "text/plain": [
       "''"
      ]
     },
     "execution_count": 175,
     "metadata": {},
     "output_type": "execute_result"
    },
    {
     "name": "stdout",
     "output_type": "stream",
     "text": [
      "head\n"
     ]
    },
    {
     "data": {
      "text/plain": [
       "''"
      ]
     },
     "execution_count": 175,
     "metadata": {},
     "output_type": "execute_result"
    },
    {
     "name": "stdout",
     "output_type": "stream",
     "text": [
      "hbe\n"
     ]
    },
    {
     "data": {
      "text/plain": [
       "''"
      ]
     },
     "execution_count": 175,
     "metadata": {},
     "output_type": "execute_result"
    },
    {
     "name": "stdout",
     "output_type": "stream",
     "text": [
      "having\n"
     ]
    },
    {
     "data": {
      "text/plain": [
       "''"
      ]
     },
     "execution_count": 175,
     "metadata": {},
     "output_type": "execute_result"
    },
    {
     "name": "stdout",
     "output_type": "stream",
     "text": [
      "harms\n"
     ]
    },
    {
     "data": {
      "text/plain": [
       "''"
      ]
     },
     "execution_count": 175,
     "metadata": {},
     "output_type": "execute_result"
    },
    {
     "name": "stdout",
     "output_type": "stream",
     "text": [
      "harm\n"
     ]
    },
    {
     "data": {
      "text/plain": [
       "''"
      ]
     },
     "execution_count": 175,
     "metadata": {},
     "output_type": "execute_result"
    },
    {
     "name": "stdout",
     "output_type": "stream",
     "text": [
      "hand\n"
     ]
    },
    {
     "data": {
      "text/plain": [
       "''"
      ]
     },
     "execution_count": 175,
     "metadata": {},
     "output_type": "execute_result"
    },
    {
     "name": "stdout",
     "output_type": "stream",
     "text": [
      "guide\n"
     ]
    },
    {
     "data": {
      "text/plain": [
       "''"
      ]
     },
     "execution_count": 175,
     "metadata": {},
     "output_type": "execute_result"
    },
    {
     "name": "stdout",
     "output_type": "stream",
     "text": [
      "guidance\n"
     ]
    },
    {
     "data": {
      "text/plain": [
       "''"
      ]
     },
     "execution_count": 175,
     "metadata": {},
     "output_type": "execute_result"
    },
    {
     "name": "stdout",
     "output_type": "stream",
     "text": [
      "group\n"
     ]
    },
    {
     "data": {
      "text/plain": [
       "''"
      ]
     },
     "execution_count": 175,
     "metadata": {},
     "output_type": "execute_result"
    },
    {
     "name": "stdout",
     "output_type": "stream",
     "text": [
      "ground\n"
     ]
    },
    {
     "data": {
      "text/plain": [
       "''"
      ]
     },
     "execution_count": 175,
     "metadata": {},
     "output_type": "execute_result"
    },
    {
     "name": "stdout",
     "output_type": "stream",
     "text": [
      "inspired\n"
     ]
    },
    {
     "data": {
      "text/plain": [
       "''"
      ]
     },
     "execution_count": 175,
     "metadata": {},
     "output_type": "execute_result"
    },
    {
     "name": "stdout",
     "output_type": "stream",
     "text": [
      "function\n"
     ]
    },
    {
     "data": {
      "text/plain": [
       "''"
      ]
     },
     "execution_count": 175,
     "metadata": {},
     "output_type": "execute_result"
    },
    {
     "name": "stdout",
     "output_type": "stream",
     "text": [
      "instrumental\n"
     ]
    },
    {
     "data": {
      "text/plain": [
       "''"
      ]
     },
     "execution_count": 175,
     "metadata": {},
     "output_type": "execute_result"
    },
    {
     "name": "stdout",
     "output_type": "stream",
     "text": [
      "integrating\n"
     ]
    },
    {
     "data": {
      "text/plain": [
       "''"
      ]
     },
     "execution_count": 175,
     "metadata": {},
     "output_type": "execute_result"
    },
    {
     "name": "stdout",
     "output_type": "stream",
     "text": [
      "million\n"
     ]
    },
    {
     "data": {
      "text/plain": [
       "''"
      ]
     },
     "execution_count": 175,
     "metadata": {},
     "output_type": "execute_result"
    },
    {
     "name": "stdout",
     "output_type": "stream",
     "text": [
      "microorganisms\n"
     ]
    },
    {
     "data": {
      "text/plain": [
       "''"
      ]
     },
     "execution_count": 175,
     "metadata": {},
     "output_type": "execute_result"
    },
    {
     "name": "stdout",
     "output_type": "stream",
     "text": [
      "methodology\n"
     ]
    },
    {
     "data": {
      "text/plain": [
       "''"
      ]
     },
     "execution_count": 175,
     "metadata": {},
     "output_type": "execute_result"
    },
    {
     "name": "stdout",
     "output_type": "stream",
     "text": [
      "merits\n"
     ]
    },
    {
     "data": {
      "text/plain": [
       "''"
      ]
     },
     "execution_count": 175,
     "metadata": {},
     "output_type": "execute_result"
    },
    {
     "name": "stdout",
     "output_type": "stream",
     "text": [
      "mentioned\n"
     ]
    },
    {
     "data": {
      "text/plain": [
       "''"
      ]
     },
     "execution_count": 175,
     "metadata": {},
     "output_type": "execute_result"
    },
    {
     "name": "stdout",
     "output_type": "stream",
     "text": [
      "mention\n"
     ]
    },
    {
     "data": {
      "text/plain": [
       "''"
      ]
     },
     "execution_count": 175,
     "metadata": {},
     "output_type": "execute_result"
    },
    {
     "name": "stdout",
     "output_type": "stream",
     "text": [
      "memory\n"
     ]
    },
    {
     "data": {
      "text/plain": [
       "''"
      ]
     },
     "execution_count": 175,
     "metadata": {},
     "output_type": "execute_result"
    },
    {
     "name": "stdout",
     "output_type": "stream",
     "text": [
      "member\n"
     ]
    },
    {
     "data": {
      "text/plain": [
       "''"
      ]
     },
     "execution_count": 175,
     "metadata": {},
     "output_type": "execute_result"
    },
    {
     "name": "stdout",
     "output_type": "stream",
     "text": [
      "meet\n"
     ]
    },
    {
     "data": {
      "text/plain": [
       "''"
      ]
     },
     "execution_count": 175,
     "metadata": {},
     "output_type": "execute_result"
    },
    {
     "name": "stdout",
     "output_type": "stream",
     "text": [
      "mediation\n"
     ]
    },
    {
     "data": {
      "text/plain": [
       "''"
      ]
     },
     "execution_count": 175,
     "metadata": {},
     "output_type": "execute_result"
    },
    {
     "name": "stdout",
     "output_type": "stream",
     "text": [
      "millions\n"
     ]
    },
    {
     "data": {
      "text/plain": [
       "''"
      ]
     },
     "execution_count": 175,
     "metadata": {},
     "output_type": "execute_result"
    },
    {
     "name": "stdout",
     "output_type": "stream",
     "text": [
      "mechanical\n"
     ]
    },
    {
     "data": {
      "text/plain": [
       "''"
      ]
     },
     "execution_count": 175,
     "metadata": {},
     "output_type": "execute_result"
    },
    {
     "name": "stdout",
     "output_type": "stream",
     "text": [
      "meaning\n"
     ]
    },
    {
     "data": {
      "text/plain": [
       "''"
      ]
     },
     "execution_count": 175,
     "metadata": {},
     "output_type": "execute_result"
    },
    {
     "name": "stdout",
     "output_type": "stream",
     "text": [
      "maximization\n"
     ]
    },
    {
     "data": {
      "text/plain": [
       "''"
      ]
     },
     "execution_count": 175,
     "metadata": {},
     "output_type": "execute_result"
    },
    {
     "name": "stdout",
     "output_type": "stream",
     "text": [
      "mathematically\n"
     ]
    },
    {
     "data": {
      "text/plain": [
       "''"
      ]
     },
     "execution_count": 175,
     "metadata": {},
     "output_type": "execute_result"
    },
    {
     "name": "stdout",
     "output_type": "stream",
     "text": [
      "matched\n"
     ]
    },
    {
     "data": {
      "text/plain": [
       "''"
      ]
     },
     "execution_count": 175,
     "metadata": {},
     "output_type": "execute_result"
    },
    {
     "name": "stdout",
     "output_type": "stream",
     "text": [
      "massive\n"
     ]
    },
    {
     "data": {
      "text/plain": [
       "''"
      ]
     },
     "execution_count": 175,
     "metadata": {},
     "output_type": "execute_result"
    },
    {
     "name": "stdout",
     "output_type": "stream",
     "text": [
      "masked\n"
     ]
    },
    {
     "data": {
      "text/plain": [
       "''"
      ]
     },
     "execution_count": 175,
     "metadata": {},
     "output_type": "execute_result"
    },
    {
     "name": "stdout",
     "output_type": "stream",
     "text": [
      "markup\n"
     ]
    },
    {
     "data": {
      "text/plain": [
       "''"
      ]
     },
     "execution_count": 175,
     "metadata": {},
     "output_type": "execute_result"
    },
    {
     "name": "stdout",
     "output_type": "stream",
     "text": [
      "margins\n"
     ]
    },
    {
     "data": {
      "text/plain": [
       "''"
      ]
     },
     "execution_count": 175,
     "metadata": {},
     "output_type": "execute_result"
    },
    {
     "name": "stdout",
     "output_type": "stream",
     "text": [
      "manufacture\n"
     ]
    },
    {
     "data": {
      "text/plain": [
       "''"
      ]
     },
     "execution_count": 175,
     "metadata": {},
     "output_type": "execute_result"
    },
    {
     "name": "stdout",
     "output_type": "stream",
     "text": [
      "managing\n"
     ]
    },
    {
     "data": {
      "text/plain": [
       "''"
      ]
     },
     "execution_count": 175,
     "metadata": {},
     "output_type": "execute_result"
    },
    {
     "name": "stdout",
     "output_type": "stream",
     "text": [
      "meanings\n"
     ]
    },
    {
     "data": {
      "text/plain": [
       "''"
      ]
     },
     "execution_count": 175,
     "metadata": {},
     "output_type": "execute_result"
    },
    {
     "name": "stdout",
     "output_type": "stream",
     "text": [
      "makes\n"
     ]
    },
    {
     "data": {
      "text/plain": [
       "''"
      ]
     },
     "execution_count": 175,
     "metadata": {},
     "output_type": "execute_result"
    },
    {
     "name": "stdout",
     "output_type": "stream",
     "text": [
      "mind\n"
     ]
    },
    {
     "data": {
      "text/plain": [
       "''"
      ]
     },
     "execution_count": 175,
     "metadata": {},
     "output_type": "execute_result"
    },
    {
     "name": "stdout",
     "output_type": "stream",
     "text": [
      "minimalist\n"
     ]
    },
    {
     "data": {
      "text/plain": [
       "''"
      ]
     },
     "execution_count": 175,
     "metadata": {},
     "output_type": "execute_result"
    },
    {
     "name": "stdout",
     "output_type": "stream",
     "text": [
      "negatively\n"
     ]
    },
    {
     "data": {
      "text/plain": [
       "''"
      ]
     },
     "execution_count": 175,
     "metadata": {},
     "output_type": "execute_result"
    },
    {
     "name": "stdout",
     "output_type": "stream",
     "text": [
      "ned\n"
     ]
    },
    {
     "data": {
      "text/plain": [
       "''"
      ]
     },
     "execution_count": 175,
     "metadata": {},
     "output_type": "execute_result"
    },
    {
     "name": "stdout",
     "output_type": "stream",
     "text": [
      "necessitates\n"
     ]
    },
    {
     "data": {
      "text/plain": [
       "''"
      ]
     },
     "execution_count": 175,
     "metadata": {},
     "output_type": "execute_result"
    },
    {
     "name": "stdout",
     "output_type": "stream",
     "text": [
      "near\n"
     ]
    },
    {
     "data": {
      "text/plain": [
       "''"
      ]
     },
     "execution_count": 175,
     "metadata": {},
     "output_type": "execute_result"
    },
    {
     "name": "stdout",
     "output_type": "stream",
     "text": [
      "narrows\n"
     ]
    },
    {
     "data": {
      "text/plain": [
       "''"
      ]
     },
     "execution_count": 175,
     "metadata": {},
     "output_type": "execute_result"
    },
    {
     "name": "stdout",
     "output_type": "stream",
     "text": [
      "myristate\n"
     ]
    },
    {
     "data": {
      "text/plain": [
       "''"
      ]
     },
     "execution_count": 175,
     "metadata": {},
     "output_type": "execute_result"
    },
    {
     "name": "stdout",
     "output_type": "stream",
     "text": [
      "must\n"
     ]
    },
    {
     "data": {
      "text/plain": [
       "''"
      ]
     },
     "execution_count": 175,
     "metadata": {},
     "output_type": "execute_result"
    },
    {
     "name": "stdout",
     "output_type": "stream",
     "text": [
      "multiword\n"
     ]
    },
    {
     "data": {
      "text/plain": [
       "''"
      ]
     },
     "execution_count": 175,
     "metadata": {},
     "output_type": "execute_result"
    },
    {
     "ename": "KeyboardInterrupt",
     "evalue": "Interrupted by user",
     "output_type": "error",
     "traceback": [
      "\u001b[0;31m---------------------------------------------------------------------------\u001b[0m",
      "\u001b[0;31mKeyboardInterrupt\u001b[0m                         Traceback (most recent call last)",
      "Cell \u001b[0;32mIn[175], line 2\u001b[0m\n\u001b[1;32m      1\u001b[0m \u001b[38;5;28;01mfor\u001b[39;00m i \u001b[38;5;129;01min\u001b[39;00m np\u001b[38;5;241m.\u001b[39masarray(X\u001b[38;5;241m.\u001b[39msum(axis\u001b[38;5;241m=\u001b[39m\u001b[38;5;241m0\u001b[39m)\u001b[38;5;241m.\u001b[39margsort())[\u001b[38;5;241m0\u001b[39m]:\n\u001b[0;32m----> 2\u001b[0m     \u001b[38;5;28;43minput\u001b[39;49m\u001b[43m(\u001b[49m\u001b[43mfeatures\u001b[49m\u001b[43m[\u001b[49m\u001b[43mi\u001b[49m\u001b[43m]\u001b[49m\u001b[43m)\u001b[49m\n",
      "File \u001b[0;32m~/Documents/papers-game/env/lib/python3.9/site-packages/ipykernel/kernelbase.py:1182\u001b[0m, in \u001b[0;36mKernel.raw_input\u001b[0;34m(self, prompt)\u001b[0m\n\u001b[1;32m   1180\u001b[0m     msg \u001b[38;5;241m=\u001b[39m \u001b[38;5;124m\"\u001b[39m\u001b[38;5;124mraw_input was called, but this frontend does not support input requests.\u001b[39m\u001b[38;5;124m\"\u001b[39m\n\u001b[1;32m   1181\u001b[0m     \u001b[38;5;28;01mraise\u001b[39;00m StdinNotImplementedError(msg)\n\u001b[0;32m-> 1182\u001b[0m \u001b[38;5;28;01mreturn\u001b[39;00m \u001b[38;5;28;43mself\u001b[39;49m\u001b[38;5;241;43m.\u001b[39;49m\u001b[43m_input_request\u001b[49m\u001b[43m(\u001b[49m\n\u001b[1;32m   1183\u001b[0m \u001b[43m    \u001b[49m\u001b[38;5;28;43mstr\u001b[39;49m\u001b[43m(\u001b[49m\u001b[43mprompt\u001b[49m\u001b[43m)\u001b[49m\u001b[43m,\u001b[49m\n\u001b[1;32m   1184\u001b[0m \u001b[43m    \u001b[49m\u001b[38;5;28;43mself\u001b[39;49m\u001b[38;5;241;43m.\u001b[39;49m\u001b[43m_parent_ident\u001b[49m\u001b[43m[\u001b[49m\u001b[38;5;124;43m\"\u001b[39;49m\u001b[38;5;124;43mshell\u001b[39;49m\u001b[38;5;124;43m\"\u001b[39;49m\u001b[43m]\u001b[49m\u001b[43m,\u001b[49m\n\u001b[1;32m   1185\u001b[0m \u001b[43m    \u001b[49m\u001b[38;5;28;43mself\u001b[39;49m\u001b[38;5;241;43m.\u001b[39;49m\u001b[43mget_parent\u001b[49m\u001b[43m(\u001b[49m\u001b[38;5;124;43m\"\u001b[39;49m\u001b[38;5;124;43mshell\u001b[39;49m\u001b[38;5;124;43m\"\u001b[39;49m\u001b[43m)\u001b[49m\u001b[43m,\u001b[49m\n\u001b[1;32m   1186\u001b[0m \u001b[43m    \u001b[49m\u001b[43mpassword\u001b[49m\u001b[38;5;241;43m=\u001b[39;49m\u001b[38;5;28;43;01mFalse\u001b[39;49;00m\u001b[43m,\u001b[49m\n\u001b[1;32m   1187\u001b[0m \u001b[43m\u001b[49m\u001b[43m)\u001b[49m\n",
      "File \u001b[0;32m~/Documents/papers-game/env/lib/python3.9/site-packages/ipykernel/kernelbase.py:1225\u001b[0m, in \u001b[0;36mKernel._input_request\u001b[0;34m(self, prompt, ident, parent, password)\u001b[0m\n\u001b[1;32m   1222\u001b[0m \u001b[38;5;28;01mexcept\u001b[39;00m \u001b[38;5;167;01mKeyboardInterrupt\u001b[39;00m:\n\u001b[1;32m   1223\u001b[0m     \u001b[38;5;66;03m# re-raise KeyboardInterrupt, to truncate traceback\u001b[39;00m\n\u001b[1;32m   1224\u001b[0m     msg \u001b[38;5;241m=\u001b[39m \u001b[38;5;124m\"\u001b[39m\u001b[38;5;124mInterrupted by user\u001b[39m\u001b[38;5;124m\"\u001b[39m\n\u001b[0;32m-> 1225\u001b[0m     \u001b[38;5;28;01mraise\u001b[39;00m \u001b[38;5;167;01mKeyboardInterrupt\u001b[39;00m(msg) \u001b[38;5;28;01mfrom\u001b[39;00m \u001b[38;5;28mNone\u001b[39m\n\u001b[1;32m   1226\u001b[0m \u001b[38;5;28;01mexcept\u001b[39;00m \u001b[38;5;167;01mException\u001b[39;00m:\n\u001b[1;32m   1227\u001b[0m     \u001b[38;5;28mself\u001b[39m\u001b[38;5;241m.\u001b[39mlog\u001b[38;5;241m.\u001b[39mwarning(\u001b[38;5;124m\"\u001b[39m\u001b[38;5;124mInvalid Message:\u001b[39m\u001b[38;5;124m\"\u001b[39m, exc_info\u001b[38;5;241m=\u001b[39m\u001b[38;5;28;01mTrue\u001b[39;00m)\n",
      "\u001b[0;31mKeyboardInterrupt\u001b[0m: Interrupted by user"
     ]
    }
   ],
   "source": [
    "for i in np.asarray(X.sum(axis=0).argsort())[0]:\n",
    "    input(features[i])"
   ]
  },
  {
   "cell_type": "code",
   "execution_count": 41,
   "metadata": {},
   "outputs": [
    {
     "data": {
      "text/plain": [
       "'Recently, many knowledge graph embedding models for knowledge graph completion have been proposed, ranging from the initial translation-based models such as TransE to recent convolutional neural network (CNN) models such as ConvE. However, these models only focus on semantic information of knowledge graph and neglect the natural graph structure information. Although graph convolutional network (GCN)-based models for knowledge graph embedding have been introduced to address this issue, they still suffer from fact incompleteness, resulting in the unconnectedness of knowledge graph. To solve this problem, we propose a novel model called deep relational graph infomax (DRGI) with mutual information (MI) maximization which takes the benefit of complete structure information and semantic information together. Specifically, the proposed DRGI consists of two encoders which are two identical adaptive relational graph attention networks (ARGATs), corresponding to catching semantic information and complete structure information respectively. Our method establishes new state-of-the-art on the standard datasets for knowledge graph completion. In addition, by exploring the complete structure information, DRGI embraces the merits of faster convergence speed over existing methods and better predictive performance for entities with small indegree.'"
      ]
     },
     "execution_count": 41,
     "metadata": {},
     "output_type": "execute_result"
    }
   ],
   "source": [
    "corpus[0]"
   ]
  },
  {
   "cell_type": "code",
   "execution_count": 36,
   "metadata": {},
   "outputs": [
    {
     "data": {
      "text/plain": [
       "Paper(paper_id='a1d49c5ea00831d540f027c0c009cacd2c21f3b5')"
      ]
     },
     "execution_count": 36,
     "metadata": {},
     "output_type": "execute_result"
    }
   ],
   "source": [
    "next(iter(papers.values()))"
   ]
  },
  {
   "cell_type": "code",
   "execution_count": 8,
   "metadata": {},
   "outputs": [
    {
     "ename": "NameError",
     "evalue": "name 'indexerror' is not defined",
     "output_type": "error",
     "traceback": [
      "\u001b[0;31m---------------------------------------------------------------------------\u001b[0m",
      "\u001b[0;31mKeyError\u001b[0m                                  Traceback (most recent call last)",
      "Cell \u001b[0;32mIn[8], line 34\u001b[0m, in \u001b[0;36mget_paper_info\u001b[0;34m(paper_id, option)\u001b[0m\n\u001b[1;32m     33\u001b[0m \u001b[38;5;28;01mtry\u001b[39;00m:\n\u001b[0;32m---> 34\u001b[0m     citations\u001b[38;5;241m.\u001b[39mappend(\u001b[38;5;28mstr\u001b[39m(\u001b[43mdata\u001b[49m\u001b[43m[\u001b[49m\u001b[38;5;124;43m\"\u001b[39;49m\u001b[38;5;124;43mcitations\u001b[39;49m\u001b[38;5;124;43m\"\u001b[39;49m\u001b[43m]\u001b[49m\u001b[43m[\u001b[49m\u001b[43mi\u001b[49m\u001b[43m]\u001b[49m\u001b[43m[\u001b[49m\u001b[38;5;124;43m\"\u001b[39;49m\u001b[38;5;124;43mpaperid\u001b[39;49m\u001b[38;5;124;43m\"\u001b[39;49m\u001b[43m]\u001b[49m))\n\u001b[1;32m     35\u001b[0m \u001b[38;5;28;01mexcept\u001b[39;00m indexerror:\n",
      "\u001b[0;31mKeyError\u001b[0m: 'paperid'",
      "\nDuring handling of the above exception, another exception occurred:\n",
      "\u001b[0;31mNameError\u001b[0m                                 Traceback (most recent call last)",
      "Cell \u001b[0;32mIn[8], line 51\u001b[0m\n\u001b[1;32m     48\u001b[0m         \u001b[38;5;28;01mreturn\u001b[39;00m \u001b[38;5;124m\"\u001b[39m\u001b[38;5;124mInvalid option\u001b[39m\u001b[38;5;124m\"\u001b[39m\n\u001b[1;32m     50\u001b[0m \u001b[38;5;66;03m# Testing Function\u001b[39;00m\n\u001b[0;32m---> 51\u001b[0m cit \u001b[38;5;241m=\u001b[39m \u001b[43mget_paper_info\u001b[49m\u001b[43m(\u001b[49m\u001b[38;5;124;43m\"\u001b[39;49m\u001b[38;5;124;43md4b651d6a904f69f8fa1dcad4ebe972296af3a9a\u001b[39;49m\u001b[38;5;124;43m\"\u001b[39;49m\u001b[43m,\u001b[49m\u001b[43m \u001b[49m\u001b[38;5;124;43m\"\u001b[39;49m\u001b[38;5;124;43mcitations\u001b[39;49m\u001b[38;5;124;43m\"\u001b[39;49m\u001b[43m)\u001b[49m[\u001b[38;5;241m0\u001b[39m]\n\u001b[1;32m     53\u001b[0m get_paper_info(\u001b[38;5;124m\"\u001b[39m\u001b[38;5;124md4b651d6a904f69f8fa1dcad4ebe972296af3a9a\u001b[39m\u001b[38;5;124m\"\u001b[39m, \u001b[38;5;124m\"\u001b[39m\u001b[38;5;124mtitle\u001b[39m\u001b[38;5;124m\"\u001b[39m)\n\u001b[1;32m     54\u001b[0m get_paper_info(\u001b[38;5;28mstr\u001b[39m(cit), \u001b[38;5;124m\"\u001b[39m\u001b[38;5;124mtitle\u001b[39m\u001b[38;5;124m\"\u001b[39m)\n",
      "Cell \u001b[0;32mIn[8], line 35\u001b[0m, in \u001b[0;36mget_paper_info\u001b[0;34m(paper_id, option)\u001b[0m\n\u001b[1;32m     33\u001b[0m     \u001b[38;5;28;01mtry\u001b[39;00m:\n\u001b[1;32m     34\u001b[0m         citations\u001b[38;5;241m.\u001b[39mappend(\u001b[38;5;28mstr\u001b[39m(data[\u001b[38;5;124m\"\u001b[39m\u001b[38;5;124mcitations\u001b[39m\u001b[38;5;124m\"\u001b[39m][i][\u001b[38;5;124m\"\u001b[39m\u001b[38;5;124mpaperid\u001b[39m\u001b[38;5;124m\"\u001b[39m]))\n\u001b[0;32m---> 35\u001b[0m     \u001b[38;5;28;01mexcept\u001b[39;00m \u001b[43mindexerror\u001b[49m:\n\u001b[1;32m     36\u001b[0m         citations\u001b[38;5;241m.\u001b[39mappend(none)\n\u001b[1;32m     38\u001b[0m \u001b[38;5;66;03m# return the options\u001b[39;00m\n",
      "\u001b[0;31mNameError\u001b[0m: name 'indexerror' is not defined"
     ]
    }
   ],
   "source": [
    "# Set up an API query to the Semantic Scholar API\n",
    "# to get the paper with the given ID\n",
    "# and print the title of the paper\n",
    "# along with its abstract and the titles of the\n",
    "# first 10 papers it cites\n",
    "\n",
    "\n",
    "def get_paper_info(paper_id, option):\n",
    "    #possible options include: id, title, abstract text, citations\n",
    "    \n",
    "    # Set the base URL for the Semantic Scholar API\n",
    "    base_url = \"https://api.semanticscholar.org/v1/paper/\"\n",
    "\n",
    "    # Set the full URL for the API query\n",
    "    url = base_url + paper_id\n",
    "\n",
    "    # Query the API\n",
    "    response = requests.get(url)\n",
    "\n",
    "    # Convert the response to JSON\n",
    "    data = json.loads(response.text)\n",
    "\n",
    "    # Print the title of the paper\n",
    "    title = str(data[\"title\"])\n",
    "\n",
    "    # Print the abstract of the paper\n",
    "    abstract = str(data[\"abstract\"])\n",
    "\n",
    "    # Put the first 10 paper IDs in an array\n",
    "    # and if there's an error, append `None\n",
    "    citations = []\n",
    "    for i in range(10):\n",
    "        try:\n",
    "            citations.append(str(data[\"citations\"][i][\"paperid\"]))\n",
    "        except indexerror:\n",
    "            citations.append(none)\n",
    "\n",
    "    # return the options\n",
    "    if option == \"id\":\n",
    "        return paper_id\n",
    "    elif option == \"title\":\n",
    "        return title\n",
    "    elif option == \"abstract\":\n",
    "        return abstract\n",
    "    elif option == \"citations\":\n",
    "        return citations\n",
    "    else:\n",
    "        return \"Invalid option\"\n",
    "\n",
    "# Testing Function\n",
    "cit = get_paper_info(\"d4b651d6a904f69f8fa1dcad4ebe972296af3a9a\", \"citations\")[0]\n",
    "\n",
    "get_paper_info(\"d4b651d6a904f69f8fa1dcad4ebe972296af3a9a\", \"title\")\n",
    "get_paper_info(str(cit), \"title\")\n",
    "get_paper_info(str(cit), \"citations\")"
   ]
  },
  {
   "cell_type": "code",
   "execution_count": null,
   "metadata": {},
   "outputs": [],
   "source": []
  },
  {
   "cell_type": "code",
   "execution_count": null,
   "metadata": {},
   "outputs": [],
   "source": [
    "def list_challenge_words(abstractString: str):\n",
    "    # Given an abstract,\n",
    "    # Returns array of strings of challenging words in the form:\n",
    "    # ['Active Galactic Nuclei', 'BPT classification', 'Quenching scenarios', ...]\n",
    "\n",
    "    "
   ]
  },
  {
   "cell_type": "code",
   "execution_count": null,
   "metadata": {},
   "outputs": [],
   "source": []
  },
  {
   "cell_type": "code",
   "execution_count": null,
   "metadata": {},
   "outputs": [],
   "source": []
  },
  {
   "cell_type": "code",
   "execution_count": null,
   "metadata": {},
   "outputs": [],
   "source": []
  },
  {
   "cell_type": "code",
   "execution_count": 4,
   "metadata": {},
   "outputs": [],
   "source": [
    "import nltk"
   ]
  },
  {
   "cell_type": "code",
   "execution_count": 16,
   "metadata": {},
   "outputs": [
    {
     "name": "stdout",
     "output_type": "stream",
     "text": [
      "Hardest words:  ['actively', 'typically', 'diagnostics', 'hosted', 'luminous', 'revisit', 'incompleteness', 'interestingly', 'consistently', 'unprecedented', 'redshifts', 'revisiting', 'diagnostics']\n"
     ]
    }
   ],
   "source": [
    "import nltk\n",
    "from nltk.corpus import wordnet\n",
    "\n",
    "def hardest_words_synonym(text):\n",
    "    # This function extracts the hardest words\n",
    "    # Using the number of synonyms as a proxy\n",
    "    # for the level of difficulty of the word\n",
    "    \n",
    "    # Tokenize the text\n",
    "    tokens = nltk.word_tokenize(text)\n",
    "\n",
    "    # Remove stop words\n",
    "    stop_words = stopwords.words(\"english\")\n",
    "    filtered_words = [word for word in tokens if word.lower() not in stop_words]\n",
    "\n",
    "    # Identify the hardest words\n",
    "    hardest_words = []\n",
    "    for word in filtered_words:\n",
    "        synonyms = wordnet.synsets(word)\n",
    "        if len(synonyms) == 1:\n",
    "            hardest_words.append(word)\n",
    "\n",
    "    return hardest_words\n",
    "\n",
    "# Input text\n",
    "text = \"Nebular He ii𝜆4686Å line emission is useful to unveil active galactic nuclei (AGN) residing in actively star-forming (SF) galaxies, typically missed by the standard BPT classification. Here we adopt the He ii diagnostic to identify hidden AGN in the Local Universe using for the first time spatially-resolved data from the Data Release 15 of the Mapping Nearby Galaxies at APO survey (MaNGA DR15). By combining results from He ii and BPT diagnostics, we overall select 459 AGN host candidates (∼10% in MaNGA DR15), out of which 27 are identified as AGN by the He ii diagram only. The He ii-only AGN population is hosted by massive (M∗ & 1010 M\f",
    ") SF Main Sequence galaxies, and on average less luminous than the BPT-selected AGN. Given the He ii line faintness, we revisit our census accounting for incompleteness effects due to the He ii sensitivity limit of MaNGA. We thus obtain an overall increased fraction (11%) of AGN in MaNGA compared to the BPT-only census (9%), which further increases to 14% for galaxies more massive than 1010 M\f",
    "; interestingly, on the SF Main Sequence the increase is by about a factor of 2. A substantial number of AGN in SF galaxies points to significant, coeval star formation and black hole accretion, consistently with results from hydrodynamical simulations and with important implications on quenching scenarios. In view of exploring unprecedented high redshifts with JWST and new ground-based facilities, revisiting the standard BPT classification through novel emission-line diagnostics is fundamental to discover AGN in highly SF environments.\"\n",
    "\n",
    "# Find the hardest words\n",
    "hardest = hardest_words(text)\n",
    "\n",
    "# Print the hardest words\n",
    "print(\"Hardest words: \", hardest)"
   ]
  },
  {
   "cell_type": "code",
   "execution_count": 2,
   "metadata": {},
   "outputs": [
    {
     "name": "stdout",
     "output_type": "stream",
     "text": [
      "showing info https://raw.githubusercontent.com/nltk/nltk_data/gh-pages/index.xml\n"
     ]
    },
    {
     "data": {
      "text/plain": [
       "True"
      ]
     },
     "execution_count": 2,
     "metadata": {},
     "output_type": "execute_result"
    }
   ],
   "source": [
    "nltk.download()"
   ]
  },
  {
   "cell_type": "code",
   "execution_count": 6,
   "metadata": {},
   "outputs": [
    {
     "name": "stdout",
     "output_type": "stream",
     "text": [
      "['i', 'me', 'my', 'myself', 'we', 'our', 'ours', 'ourselves', 'you', \"you're\", \"you've\", \"you'll\", \"you'd\", 'your', 'yours', 'yourself', 'yourselves', 'he', 'him', 'his', 'himself', 'she', \"she's\", 'her', 'hers', 'herself', 'it', \"it's\", 'its', 'itself', 'they', 'them', 'their', 'theirs', 'themselves', 'what', 'which', 'who', 'whom', 'this', 'that', \"that'll\", 'these', 'those', 'am', 'is', 'are', 'was', 'were', 'be', 'been', 'being', 'have', 'has', 'had', 'having', 'do', 'does', 'did', 'doing', 'a', 'an', 'the', 'and', 'but', 'if', 'or', 'because', 'as', 'until', 'while', 'of', 'at', 'by', 'for', 'with', 'about', 'against', 'between', 'into', 'through', 'during', 'before', 'after', 'above', 'below', 'to', 'from', 'up', 'down', 'in', 'out', 'on', 'off', 'over', 'under', 'again', 'further', 'then', 'once', 'here', 'there', 'when', 'where', 'why', 'how', 'all', 'any', 'both', 'each', 'few', 'more', 'most', 'other', 'some', 'such', 'no', 'nor', 'not', 'only', 'own', 'same', 'so', 'than', 'too', 'very', 's', 't', 'can', 'will', 'just', 'don', \"don't\", 'should', \"should've\", 'now', 'd', 'll', 'm', 'o', 're', 've', 'y', 'ain', 'aren', \"aren't\", 'couldn', \"couldn't\", 'didn', \"didn't\", 'doesn', \"doesn't\", 'hadn', \"hadn't\", 'hasn', \"hasn't\", 'haven', \"haven't\", 'isn', \"isn't\", 'ma', 'mightn', \"mightn't\", 'mustn', \"mustn't\", 'needn', \"needn't\", 'shan', \"shan't\", 'shouldn', \"shouldn't\", 'wasn', \"wasn't\", 'weren', \"weren't\", 'won', \"won't\", 'wouldn', \"wouldn't\"]\n"
     ]
    }
   ],
   "source": [
    "import nltk\n",
    "from nltk.corpus import stopwords\n",
    "print(stopwords.words('english'))"
   ]
  },
  {
   "cell_type": "code",
   "execution_count": 17,
   "metadata": {},
   "outputs": [
    {
     "ename": "NameError",
     "evalue": "name 'tokens' is not defined",
     "output_type": "error",
     "traceback": [
      "\u001b[0;31m---------------------------------------------------------------------------\u001b[0m",
      "\u001b[0;31mNameError\u001b[0m                                 Traceback (most recent call last)",
      "\u001b[0;32m/var/folders/dj/yd_369kx231256n8rxsw9wlh0000gn/T/ipykernel_79114/784261223.py\u001b[0m in \u001b[0;36m<module>\u001b[0;34m\u001b[0m\n\u001b[0;32m----> 1\u001b[0;31m \u001b[0mtokens\u001b[0m\u001b[0;34m\u001b[0m\u001b[0;34m\u001b[0m\u001b[0m\n\u001b[0m",
      "\u001b[0;31mNameError\u001b[0m: name 'tokens' is not defined"
     ]
    }
   ],
   "source": [
    "tokens"
   ]
  },
  {
   "cell_type": "code",
   "execution_count": null,
   "metadata": {},
   "outputs": [],
   "source": []
  }
 ],
 "metadata": {
  "kernelspec": {
   "display_name": "Python 3 (ipykernel)",
   "language": "python",
   "name": "python3"
  },
  "language_info": {
   "codemirror_mode": {
    "name": "ipython",
    "version": 3
   },
   "file_extension": ".py",
   "mimetype": "text/x-python",
   "name": "python",
   "nbconvert_exporter": "python",
   "pygments_lexer": "ipython3",
   "version": "3.9.5"
  },
  "vscode": {
   "interpreter": {
    "hash": "aee8b7b246df8f9039afb4144a1f6fd8d2ca17a180786b69acc140d282b71a49"
   }
  }
 },
 "nbformat": 4,
 "nbformat_minor": 4
}
